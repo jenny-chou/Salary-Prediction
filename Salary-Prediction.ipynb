{
 "cells": [
  {
   "cell_type": "markdown",
   "metadata": {},
   "source": [
    "# Salary Prediction\n",
    "This project predicts salary based on job descriptions.\n",
    "\n",
    "### Features:\n",
    "1. jobId\n",
    "2. companyId\n",
    "3. jobType\n",
    "4. degree\n",
    "5. major\n",
    "6. industry\n",
    "7. yearsExperience\n",
    "8. milesFromMetropolis\n",
    "9. salary"
   ]
  },
  {
   "cell_type": "markdown",
   "metadata": {},
   "source": [
    "## Import libraries\n",
    "This project uses machine learning approach, so lots of sklearn classes are used."
   ]
  },
  {
   "cell_type": "code",
   "execution_count": 118,
   "metadata": {},
   "outputs": [],
   "source": [
    "import os\n",
    "import zipfile\n",
    "import numpy as np\n",
    "import pandas as pd\n",
    "import matplotlib.pyplot as plt\n",
    "import sklearn\n",
    "import seaborn as sns\n",
    "\n",
    "from sklearn.linear_model import LinearRegression, Lasso, ElasticNet\n",
    "from sklearn.tree import DecisionTreeRegressor\n",
    "from sklearn.neighbors import KNeighborsRegressor\n",
    "from sklearn.svm import SVR\n",
    "from sklearn.ensemble import RandomForestRegressor, GradientBoostingRegressor, ExtraTreesRegressor, AdaBoostRegressor\n",
    "from sklearn.preprocessing import StandardScaler\n",
    "from sklearn.pipeline import Pipeline\n",
    "from sklearn.metrics import mean_squared_error, mean_absolute_error"
   ]
  },
  {
   "cell_type": "code",
   "execution_count": 119,
   "metadata": {},
   "outputs": [],
   "source": [
    "# set display to 3 decimal max\n",
    "pd.set_option('precision', 3)"
   ]
  },
  {
   "cell_type": "markdown",
   "metadata": {},
   "source": [
    "## Load data\n",
    "First thing first, unzip it and see what's inside!"
   ]
  },
  {
   "cell_type": "code",
   "execution_count": 120,
   "metadata": {},
   "outputs": [
    {
     "name": "stdout",
     "output_type": "stream",
     "text": [
      "['test_features.csv', 'train_features.csv', 'train_salaries.csv']\n"
     ]
    }
   ],
   "source": [
    "zipfile_path = os.path.join(\"SalaryPredictions.zip\")\n",
    "zipfile_ref = zipfile.ZipFile(zipfile_path, 'r')\n",
    "zipfile_ref.extractall()\n",
    "zipfile_ref.close()\n",
    "\n",
    "print(os.listdir(\"data\"))"
   ]
  },
  {
   "cell_type": "code",
   "execution_count": 121,
   "metadata": {},
   "outputs": [],
   "source": [
    "test_df = pd.read_csv(os.path.join(\"data\", \"test_features.csv\"), header=0, index_col=0)\n",
    "train_df = pd.read_csv(os.path.join(\"data\", \"train_features.csv\"), header=0, index_col=0)\n",
    "train_df['salary'] = pd.read_csv(os.path.join(\"data\", \"train_salaries.csv\"), header=0, index_col=0)"
   ]
  },
  {
   "cell_type": "code",
   "execution_count": 122,
   "metadata": {},
   "outputs": [
    {
     "name": "stdout",
     "output_type": "stream",
     "text": [
      "<class 'pandas.core.frame.DataFrame'>\n",
      "Index: 1000000 entries, JOB1362684407687 to JOB1362685407686\n",
      "Data columns (total 8 columns):\n",
      " #   Column               Non-Null Count    Dtype \n",
      "---  ------               --------------    ----- \n",
      " 0   companyId            1000000 non-null  object\n",
      " 1   jobType              1000000 non-null  object\n",
      " 2   degree               1000000 non-null  object\n",
      " 3   major                1000000 non-null  object\n",
      " 4   industry             1000000 non-null  object\n",
      " 5   yearsExperience      1000000 non-null  int64 \n",
      " 6   milesFromMetropolis  1000000 non-null  int64 \n",
      " 7   salary               1000000 non-null  int64 \n",
      "dtypes: int64(3), object(5)\n",
      "memory usage: 68.7+ MB\n",
      "None\n"
     ]
    },
    {
     "data": {
      "text/html": [
       "<div>\n",
       "<style scoped>\n",
       "    .dataframe tbody tr th:only-of-type {\n",
       "        vertical-align: middle;\n",
       "    }\n",
       "\n",
       "    .dataframe tbody tr th {\n",
       "        vertical-align: top;\n",
       "    }\n",
       "\n",
       "    .dataframe thead th {\n",
       "        text-align: right;\n",
       "    }\n",
       "</style>\n",
       "<table border=\"1\" class=\"dataframe\">\n",
       "  <thead>\n",
       "    <tr style=\"text-align: right;\">\n",
       "      <th></th>\n",
       "      <th>companyId</th>\n",
       "      <th>jobType</th>\n",
       "      <th>degree</th>\n",
       "      <th>major</th>\n",
       "      <th>industry</th>\n",
       "      <th>yearsExperience</th>\n",
       "      <th>milesFromMetropolis</th>\n",
       "      <th>salary</th>\n",
       "    </tr>\n",
       "    <tr>\n",
       "      <th>jobId</th>\n",
       "      <th></th>\n",
       "      <th></th>\n",
       "      <th></th>\n",
       "      <th></th>\n",
       "      <th></th>\n",
       "      <th></th>\n",
       "      <th></th>\n",
       "      <th></th>\n",
       "    </tr>\n",
       "  </thead>\n",
       "  <tbody>\n",
       "    <tr>\n",
       "      <th>JOB1362684407687</th>\n",
       "      <td>COMP37</td>\n",
       "      <td>CFO</td>\n",
       "      <td>MASTERS</td>\n",
       "      <td>MATH</td>\n",
       "      <td>HEALTH</td>\n",
       "      <td>10</td>\n",
       "      <td>83</td>\n",
       "      <td>130</td>\n",
       "    </tr>\n",
       "    <tr>\n",
       "      <th>JOB1362684407688</th>\n",
       "      <td>COMP19</td>\n",
       "      <td>CEO</td>\n",
       "      <td>HIGH_SCHOOL</td>\n",
       "      <td>NONE</td>\n",
       "      <td>WEB</td>\n",
       "      <td>3</td>\n",
       "      <td>73</td>\n",
       "      <td>101</td>\n",
       "    </tr>\n",
       "    <tr>\n",
       "      <th>JOB1362684407689</th>\n",
       "      <td>COMP52</td>\n",
       "      <td>VICE_PRESIDENT</td>\n",
       "      <td>DOCTORAL</td>\n",
       "      <td>PHYSICS</td>\n",
       "      <td>HEALTH</td>\n",
       "      <td>10</td>\n",
       "      <td>38</td>\n",
       "      <td>137</td>\n",
       "    </tr>\n",
       "    <tr>\n",
       "      <th>JOB1362684407690</th>\n",
       "      <td>COMP38</td>\n",
       "      <td>MANAGER</td>\n",
       "      <td>DOCTORAL</td>\n",
       "      <td>CHEMISTRY</td>\n",
       "      <td>AUTO</td>\n",
       "      <td>8</td>\n",
       "      <td>17</td>\n",
       "      <td>142</td>\n",
       "    </tr>\n",
       "    <tr>\n",
       "      <th>JOB1362684407691</th>\n",
       "      <td>COMP7</td>\n",
       "      <td>VICE_PRESIDENT</td>\n",
       "      <td>BACHELORS</td>\n",
       "      <td>PHYSICS</td>\n",
       "      <td>FINANCE</td>\n",
       "      <td>8</td>\n",
       "      <td>16</td>\n",
       "      <td>163</td>\n",
       "    </tr>\n",
       "    <tr>\n",
       "      <th>JOB1362684407692</th>\n",
       "      <td>COMP15</td>\n",
       "      <td>MANAGER</td>\n",
       "      <td>DOCTORAL</td>\n",
       "      <td>COMPSCI</td>\n",
       "      <td>FINANCE</td>\n",
       "      <td>2</td>\n",
       "      <td>31</td>\n",
       "      <td>113</td>\n",
       "    </tr>\n",
       "    <tr>\n",
       "      <th>JOB1362684407693</th>\n",
       "      <td>COMP15</td>\n",
       "      <td>CFO</td>\n",
       "      <td>NONE</td>\n",
       "      <td>NONE</td>\n",
       "      <td>HEALTH</td>\n",
       "      <td>23</td>\n",
       "      <td>24</td>\n",
       "      <td>178</td>\n",
       "    </tr>\n",
       "    <tr>\n",
       "      <th>JOB1362684407694</th>\n",
       "      <td>COMP24</td>\n",
       "      <td>JUNIOR</td>\n",
       "      <td>BACHELORS</td>\n",
       "      <td>CHEMISTRY</td>\n",
       "      <td>EDUCATION</td>\n",
       "      <td>9</td>\n",
       "      <td>70</td>\n",
       "      <td>73</td>\n",
       "    </tr>\n",
       "    <tr>\n",
       "      <th>JOB1362684407695</th>\n",
       "      <td>COMP20</td>\n",
       "      <td>JANITOR</td>\n",
       "      <td>HIGH_SCHOOL</td>\n",
       "      <td>NONE</td>\n",
       "      <td>EDUCATION</td>\n",
       "      <td>1</td>\n",
       "      <td>54</td>\n",
       "      <td>31</td>\n",
       "    </tr>\n",
       "    <tr>\n",
       "      <th>JOB1362684407696</th>\n",
       "      <td>COMP41</td>\n",
       "      <td>VICE_PRESIDENT</td>\n",
       "      <td>BACHELORS</td>\n",
       "      <td>CHEMISTRY</td>\n",
       "      <td>AUTO</td>\n",
       "      <td>17</td>\n",
       "      <td>68</td>\n",
       "      <td>104</td>\n",
       "    </tr>\n",
       "  </tbody>\n",
       "</table>\n",
       "</div>"
      ],
      "text/plain": [
       "                 companyId         jobType       degree      major   industry  \\\n",
       "jobId                                                                           \n",
       "JOB1362684407687    COMP37             CFO      MASTERS       MATH     HEALTH   \n",
       "JOB1362684407688    COMP19             CEO  HIGH_SCHOOL       NONE        WEB   \n",
       "JOB1362684407689    COMP52  VICE_PRESIDENT     DOCTORAL    PHYSICS     HEALTH   \n",
       "JOB1362684407690    COMP38         MANAGER     DOCTORAL  CHEMISTRY       AUTO   \n",
       "JOB1362684407691     COMP7  VICE_PRESIDENT    BACHELORS    PHYSICS    FINANCE   \n",
       "JOB1362684407692    COMP15         MANAGER     DOCTORAL    COMPSCI    FINANCE   \n",
       "JOB1362684407693    COMP15             CFO         NONE       NONE     HEALTH   \n",
       "JOB1362684407694    COMP24          JUNIOR    BACHELORS  CHEMISTRY  EDUCATION   \n",
       "JOB1362684407695    COMP20         JANITOR  HIGH_SCHOOL       NONE  EDUCATION   \n",
       "JOB1362684407696    COMP41  VICE_PRESIDENT    BACHELORS  CHEMISTRY       AUTO   \n",
       "\n",
       "                  yearsExperience  milesFromMetropolis  salary  \n",
       "jobId                                                           \n",
       "JOB1362684407687               10                   83     130  \n",
       "JOB1362684407688                3                   73     101  \n",
       "JOB1362684407689               10                   38     137  \n",
       "JOB1362684407690                8                   17     142  \n",
       "JOB1362684407691                8                   16     163  \n",
       "JOB1362684407692                2                   31     113  \n",
       "JOB1362684407693               23                   24     178  \n",
       "JOB1362684407694                9                   70      73  \n",
       "JOB1362684407695                1                   54      31  \n",
       "JOB1362684407696               17                   68     104  "
      ]
     },
     "metadata": {},
     "output_type": "display_data"
    }
   ],
   "source": [
    "print(train_df.info())\n",
    "display(train_df.head(10))"
   ]
  },
  {
   "cell_type": "code",
   "execution_count": 123,
   "metadata": {},
   "outputs": [
    {
     "name": "stdout",
     "output_type": "stream",
     "text": [
      "<class 'pandas.core.frame.DataFrame'>\n",
      "Index: 1000000 entries, JOB1362685407687 to JOB1362686407686\n",
      "Data columns (total 7 columns):\n",
      " #   Column               Non-Null Count    Dtype \n",
      "---  ------               --------------    ----- \n",
      " 0   companyId            1000000 non-null  object\n",
      " 1   jobType              1000000 non-null  object\n",
      " 2   degree               1000000 non-null  object\n",
      " 3   major                1000000 non-null  object\n",
      " 4   industry             1000000 non-null  object\n",
      " 5   yearsExperience      1000000 non-null  int64 \n",
      " 6   milesFromMetropolis  1000000 non-null  int64 \n",
      "dtypes: int64(2), object(5)\n",
      "memory usage: 61.0+ MB\n",
      "None\n"
     ]
    },
    {
     "data": {
      "text/html": [
       "<div>\n",
       "<style scoped>\n",
       "    .dataframe tbody tr th:only-of-type {\n",
       "        vertical-align: middle;\n",
       "    }\n",
       "\n",
       "    .dataframe tbody tr th {\n",
       "        vertical-align: top;\n",
       "    }\n",
       "\n",
       "    .dataframe thead th {\n",
       "        text-align: right;\n",
       "    }\n",
       "</style>\n",
       "<table border=\"1\" class=\"dataframe\">\n",
       "  <thead>\n",
       "    <tr style=\"text-align: right;\">\n",
       "      <th></th>\n",
       "      <th>companyId</th>\n",
       "      <th>jobType</th>\n",
       "      <th>degree</th>\n",
       "      <th>major</th>\n",
       "      <th>industry</th>\n",
       "      <th>yearsExperience</th>\n",
       "      <th>milesFromMetropolis</th>\n",
       "      <th>salary</th>\n",
       "    </tr>\n",
       "    <tr>\n",
       "      <th>jobId</th>\n",
       "      <th></th>\n",
       "      <th></th>\n",
       "      <th></th>\n",
       "      <th></th>\n",
       "      <th></th>\n",
       "      <th></th>\n",
       "      <th></th>\n",
       "      <th></th>\n",
       "    </tr>\n",
       "  </thead>\n",
       "  <tbody>\n",
       "    <tr>\n",
       "      <th>JOB1362684407687</th>\n",
       "      <td>COMP37</td>\n",
       "      <td>CFO</td>\n",
       "      <td>MASTERS</td>\n",
       "      <td>MATH</td>\n",
       "      <td>HEALTH</td>\n",
       "      <td>10</td>\n",
       "      <td>83</td>\n",
       "      <td>130</td>\n",
       "    </tr>\n",
       "    <tr>\n",
       "      <th>JOB1362684407688</th>\n",
       "      <td>COMP19</td>\n",
       "      <td>CEO</td>\n",
       "      <td>HIGH_SCHOOL</td>\n",
       "      <td>NONE</td>\n",
       "      <td>WEB</td>\n",
       "      <td>3</td>\n",
       "      <td>73</td>\n",
       "      <td>101</td>\n",
       "    </tr>\n",
       "    <tr>\n",
       "      <th>JOB1362684407689</th>\n",
       "      <td>COMP52</td>\n",
       "      <td>VICE_PRESIDENT</td>\n",
       "      <td>DOCTORAL</td>\n",
       "      <td>PHYSICS</td>\n",
       "      <td>HEALTH</td>\n",
       "      <td>10</td>\n",
       "      <td>38</td>\n",
       "      <td>137</td>\n",
       "    </tr>\n",
       "    <tr>\n",
       "      <th>JOB1362684407690</th>\n",
       "      <td>COMP38</td>\n",
       "      <td>MANAGER</td>\n",
       "      <td>DOCTORAL</td>\n",
       "      <td>CHEMISTRY</td>\n",
       "      <td>AUTO</td>\n",
       "      <td>8</td>\n",
       "      <td>17</td>\n",
       "      <td>142</td>\n",
       "    </tr>\n",
       "    <tr>\n",
       "      <th>JOB1362684407691</th>\n",
       "      <td>COMP7</td>\n",
       "      <td>VICE_PRESIDENT</td>\n",
       "      <td>BACHELORS</td>\n",
       "      <td>PHYSICS</td>\n",
       "      <td>FINANCE</td>\n",
       "      <td>8</td>\n",
       "      <td>16</td>\n",
       "      <td>163</td>\n",
       "    </tr>\n",
       "    <tr>\n",
       "      <th>JOB1362684407692</th>\n",
       "      <td>COMP15</td>\n",
       "      <td>MANAGER</td>\n",
       "      <td>DOCTORAL</td>\n",
       "      <td>COMPSCI</td>\n",
       "      <td>FINANCE</td>\n",
       "      <td>2</td>\n",
       "      <td>31</td>\n",
       "      <td>113</td>\n",
       "    </tr>\n",
       "    <tr>\n",
       "      <th>JOB1362684407693</th>\n",
       "      <td>COMP15</td>\n",
       "      <td>CFO</td>\n",
       "      <td>NONE</td>\n",
       "      <td>NONE</td>\n",
       "      <td>HEALTH</td>\n",
       "      <td>23</td>\n",
       "      <td>24</td>\n",
       "      <td>178</td>\n",
       "    </tr>\n",
       "    <tr>\n",
       "      <th>JOB1362684407694</th>\n",
       "      <td>COMP24</td>\n",
       "      <td>JUNIOR</td>\n",
       "      <td>BACHELORS</td>\n",
       "      <td>CHEMISTRY</td>\n",
       "      <td>EDUCATION</td>\n",
       "      <td>9</td>\n",
       "      <td>70</td>\n",
       "      <td>73</td>\n",
       "    </tr>\n",
       "    <tr>\n",
       "      <th>JOB1362684407695</th>\n",
       "      <td>COMP20</td>\n",
       "      <td>JANITOR</td>\n",
       "      <td>HIGH_SCHOOL</td>\n",
       "      <td>NONE</td>\n",
       "      <td>EDUCATION</td>\n",
       "      <td>1</td>\n",
       "      <td>54</td>\n",
       "      <td>31</td>\n",
       "    </tr>\n",
       "    <tr>\n",
       "      <th>JOB1362684407696</th>\n",
       "      <td>COMP41</td>\n",
       "      <td>VICE_PRESIDENT</td>\n",
       "      <td>BACHELORS</td>\n",
       "      <td>CHEMISTRY</td>\n",
       "      <td>AUTO</td>\n",
       "      <td>17</td>\n",
       "      <td>68</td>\n",
       "      <td>104</td>\n",
       "    </tr>\n",
       "  </tbody>\n",
       "</table>\n",
       "</div>"
      ],
      "text/plain": [
       "                 companyId         jobType       degree      major   industry  \\\n",
       "jobId                                                                           \n",
       "JOB1362684407687    COMP37             CFO      MASTERS       MATH     HEALTH   \n",
       "JOB1362684407688    COMP19             CEO  HIGH_SCHOOL       NONE        WEB   \n",
       "JOB1362684407689    COMP52  VICE_PRESIDENT     DOCTORAL    PHYSICS     HEALTH   \n",
       "JOB1362684407690    COMP38         MANAGER     DOCTORAL  CHEMISTRY       AUTO   \n",
       "JOB1362684407691     COMP7  VICE_PRESIDENT    BACHELORS    PHYSICS    FINANCE   \n",
       "JOB1362684407692    COMP15         MANAGER     DOCTORAL    COMPSCI    FINANCE   \n",
       "JOB1362684407693    COMP15             CFO         NONE       NONE     HEALTH   \n",
       "JOB1362684407694    COMP24          JUNIOR    BACHELORS  CHEMISTRY  EDUCATION   \n",
       "JOB1362684407695    COMP20         JANITOR  HIGH_SCHOOL       NONE  EDUCATION   \n",
       "JOB1362684407696    COMP41  VICE_PRESIDENT    BACHELORS  CHEMISTRY       AUTO   \n",
       "\n",
       "                  yearsExperience  milesFromMetropolis  salary  \n",
       "jobId                                                           \n",
       "JOB1362684407687               10                   83     130  \n",
       "JOB1362684407688                3                   73     101  \n",
       "JOB1362684407689               10                   38     137  \n",
       "JOB1362684407690                8                   17     142  \n",
       "JOB1362684407691                8                   16     163  \n",
       "JOB1362684407692                2                   31     113  \n",
       "JOB1362684407693               23                   24     178  \n",
       "JOB1362684407694                9                   70      73  \n",
       "JOB1362684407695                1                   54      31  \n",
       "JOB1362684407696               17                   68     104  "
      ]
     },
     "metadata": {},
     "output_type": "display_data"
    }
   ],
   "source": [
    "print(test_df.info())\n",
    "display(train_df.head(10))"
   ]
  },
  {
   "cell_type": "markdown",
   "metadata": {},
   "source": [
    "## Clean data\n",
    "Before we dive in to data analysis, we should perform basic cleaning. Look for:\n",
    "1. Any missing values (np.None or np.NaN) in entire training and testing set\n",
    "    * from train_df.info() and test_df.info(), there's no null cell\n",
    "2. Any duplicated samples in training set\n",
    "3. Any invalid yearsExperience (yearsExperience <= 0) in training set\n",
    "4. Any invalid milesFromMetropolis (milesFromMetropolis < 0) in training set\n",
    "5. Any invalid salary (salary < 0) in training set"
   ]
  },
  {
   "cell_type": "code",
   "execution_count": 124,
   "metadata": {},
   "outputs": [
    {
     "name": "stdout",
     "output_type": "stream",
     "text": [
      "Any duplicated rows in training set? 186\n",
      "Any invalid yearsExperience in training set? 0\n",
      "Any invalid milesFromMetropolis in training set? 0\n",
      "Any invalid salary in training set? 5\n"
     ]
    }
   ],
   "source": [
    "print(\"Any duplicated rows in training set?\", train_df.duplicated().sum())\n",
    "print(\"Any invalid yearsExperience in training set?\", train_df.yearsExperience.lt(0).sum())\n",
    "print(\"Any invalid milesFromMetropolis in training set?\", train_df.milesFromMetropolis.lt(0).sum())\n",
    "print(\"Any invalid salary in training set?\", train_df.salary.le(0).sum())"
   ]
  },
  {
   "cell_type": "markdown",
   "metadata": {},
   "source": [
    "Need to:\n",
    "1. Drop duplicated jobs in training set\n",
    "2. Drop jobs with salary <= 0. \n",
    "\n",
    "Since we have 1,000,000 samples, we have enough data to handle removing those jobs."
   ]
  },
  {
   "cell_type": "code",
   "execution_count": 125,
   "metadata": {},
   "outputs": [
    {
     "name": "stdout",
     "output_type": "stream",
     "text": [
      "Training set now has shape: (999809, 8)\n"
     ]
    }
   ],
   "source": [
    "# Drop duplicated jobs in training set\n",
    "train_df.drop_duplicates(inplace=True)\n",
    "\n",
    "# Drop jobs with <=0 salary\n",
    "train_df = train_df.drop(train_df.index[train_df.salary.le(0)])\n",
    "\n",
    "data = train_df.copy()\n",
    "print(\"Training set now has shape:\", train_df.shape)"
   ]
  },
  {
   "cell_type": "markdown",
   "metadata": {},
   "source": [
    "## Explore data\n",
    "Now that we've done the basic cleaning, let's look at each feature one by one and generate some statistics reports to further analyze our data.\n",
    "### Company ID\n",
    "In real-life, if a company is well-known or an international organization, the salary is likely to be higher than local startups. We can generate a statistics report to find out which company pays more in general."
   ]
  },
  {
   "cell_type": "code",
   "execution_count": 126,
   "metadata": {},
   "outputs": [
    {
     "data": {
      "text/html": [
       "<div>\n",
       "<style scoped>\n",
       "    .dataframe tbody tr th:only-of-type {\n",
       "        vertical-align: middle;\n",
       "    }\n",
       "\n",
       "    .dataframe tbody tr th {\n",
       "        vertical-align: top;\n",
       "    }\n",
       "\n",
       "    .dataframe thead th {\n",
       "        text-align: right;\n",
       "    }\n",
       "</style>\n",
       "<table border=\"1\" class=\"dataframe\">\n",
       "  <thead>\n",
       "    <tr style=\"text-align: right;\">\n",
       "      <th></th>\n",
       "      <th>count</th>\n",
       "      <th>mean</th>\n",
       "      <th>std</th>\n",
       "      <th>min</th>\n",
       "      <th>25%</th>\n",
       "      <th>50%</th>\n",
       "      <th>75%</th>\n",
       "      <th>max</th>\n",
       "    </tr>\n",
       "    <tr>\n",
       "      <th>companyId</th>\n",
       "      <th></th>\n",
       "      <th></th>\n",
       "      <th></th>\n",
       "      <th></th>\n",
       "      <th></th>\n",
       "      <th></th>\n",
       "      <th></th>\n",
       "      <th></th>\n",
       "    </tr>\n",
       "  </thead>\n",
       "  <tbody>\n",
       "    <tr>\n",
       "      <th>COMP40</th>\n",
       "      <td>16006.0</td>\n",
       "      <td>116.792</td>\n",
       "      <td>38.649</td>\n",
       "      <td>21.0</td>\n",
       "      <td>89.0</td>\n",
       "      <td>114.0</td>\n",
       "      <td>142.0</td>\n",
       "      <td>272.0</td>\n",
       "    </tr>\n",
       "    <tr>\n",
       "      <th>COMP2</th>\n",
       "      <td>15636.0</td>\n",
       "      <td>116.769</td>\n",
       "      <td>38.601</td>\n",
       "      <td>20.0</td>\n",
       "      <td>90.0</td>\n",
       "      <td>114.0</td>\n",
       "      <td>142.0</td>\n",
       "      <td>268.0</td>\n",
       "    </tr>\n",
       "    <tr>\n",
       "      <th>COMP44</th>\n",
       "      <td>15997.0</td>\n",
       "      <td>116.698</td>\n",
       "      <td>38.801</td>\n",
       "      <td>20.0</td>\n",
       "      <td>89.0</td>\n",
       "      <td>115.0</td>\n",
       "      <td>142.0</td>\n",
       "      <td>294.0</td>\n",
       "    </tr>\n",
       "    <tr>\n",
       "      <th>COMP13</th>\n",
       "      <td>15951.0</td>\n",
       "      <td>116.568</td>\n",
       "      <td>38.880</td>\n",
       "      <td>21.0</td>\n",
       "      <td>89.0</td>\n",
       "      <td>114.0</td>\n",
       "      <td>142.0</td>\n",
       "      <td>273.0</td>\n",
       "    </tr>\n",
       "    <tr>\n",
       "      <th>COMP21</th>\n",
       "      <td>15944.0</td>\n",
       "      <td>116.551</td>\n",
       "      <td>38.772</td>\n",
       "      <td>20.0</td>\n",
       "      <td>89.0</td>\n",
       "      <td>114.0</td>\n",
       "      <td>142.0</td>\n",
       "      <td>287.0</td>\n",
       "    </tr>\n",
       "    <tr>\n",
       "      <th>...</th>\n",
       "      <td>...</td>\n",
       "      <td>...</td>\n",
       "      <td>...</td>\n",
       "      <td>...</td>\n",
       "      <td>...</td>\n",
       "      <td>...</td>\n",
       "      <td>...</td>\n",
       "      <td>...</td>\n",
       "    </tr>\n",
       "    <tr>\n",
       "      <th>COMP54</th>\n",
       "      <td>15975.0</td>\n",
       "      <td>115.596</td>\n",
       "      <td>38.369</td>\n",
       "      <td>22.0</td>\n",
       "      <td>88.0</td>\n",
       "      <td>113.0</td>\n",
       "      <td>140.0</td>\n",
       "      <td>274.0</td>\n",
       "    </tr>\n",
       "    <tr>\n",
       "      <th>COMP42</th>\n",
       "      <td>15939.0</td>\n",
       "      <td>115.491</td>\n",
       "      <td>38.806</td>\n",
       "      <td>19.0</td>\n",
       "      <td>88.0</td>\n",
       "      <td>113.0</td>\n",
       "      <td>141.0</td>\n",
       "      <td>281.0</td>\n",
       "    </tr>\n",
       "    <tr>\n",
       "      <th>COMP57</th>\n",
       "      <td>15633.0</td>\n",
       "      <td>115.400</td>\n",
       "      <td>38.515</td>\n",
       "      <td>19.0</td>\n",
       "      <td>88.0</td>\n",
       "      <td>113.0</td>\n",
       "      <td>140.0</td>\n",
       "      <td>263.0</td>\n",
       "    </tr>\n",
       "    <tr>\n",
       "      <th>COMP53</th>\n",
       "      <td>15773.0</td>\n",
       "      <td>115.351</td>\n",
       "      <td>38.673</td>\n",
       "      <td>22.0</td>\n",
       "      <td>87.0</td>\n",
       "      <td>113.0</td>\n",
       "      <td>140.0</td>\n",
       "      <td>278.0</td>\n",
       "    </tr>\n",
       "    <tr>\n",
       "      <th>COMP37</th>\n",
       "      <td>15901.0</td>\n",
       "      <td>115.341</td>\n",
       "      <td>38.677</td>\n",
       "      <td>20.0</td>\n",
       "      <td>88.0</td>\n",
       "      <td>113.0</td>\n",
       "      <td>141.0</td>\n",
       "      <td>285.0</td>\n",
       "    </tr>\n",
       "  </tbody>\n",
       "</table>\n",
       "<p>63 rows × 8 columns</p>\n",
       "</div>"
      ],
      "text/plain": [
       "             count     mean     std   min   25%    50%    75%    max\n",
       "companyId                                                           \n",
       "COMP40     16006.0  116.792  38.649  21.0  89.0  114.0  142.0  272.0\n",
       "COMP2      15636.0  116.769  38.601  20.0  90.0  114.0  142.0  268.0\n",
       "COMP44     15997.0  116.698  38.801  20.0  89.0  115.0  142.0  294.0\n",
       "COMP13     15951.0  116.568  38.880  21.0  89.0  114.0  142.0  273.0\n",
       "COMP21     15944.0  116.551  38.772  20.0  89.0  114.0  142.0  287.0\n",
       "...            ...      ...     ...   ...   ...    ...    ...    ...\n",
       "COMP54     15975.0  115.596  38.369  22.0  88.0  113.0  140.0  274.0\n",
       "COMP42     15939.0  115.491  38.806  19.0  88.0  113.0  141.0  281.0\n",
       "COMP57     15633.0  115.400  38.515  19.0  88.0  113.0  140.0  263.0\n",
       "COMP53     15773.0  115.351  38.673  22.0  87.0  113.0  140.0  278.0\n",
       "COMP37     15901.0  115.341  38.677  20.0  88.0  113.0  141.0  285.0\n",
       "\n",
       "[63 rows x 8 columns]"
      ]
     },
     "execution_count": 126,
     "metadata": {},
     "output_type": "execute_result"
    }
   ],
   "source": [
    "train_df.groupby(['companyId']).salary.describe().sort_values('mean', ascending=False)"
   ]
  },
  {
   "cell_type": "markdown",
   "metadata": {},
   "source": [
    "Since there are 63 companies, let's randomly select some companies and see their statistics:"
   ]
  },
  {
   "cell_type": "code",
   "execution_count": 127,
   "metadata": {},
   "outputs": [
    {
     "data": {
      "image/png": "[encoded data removed]",
      "text/plain": [
       "<Figure size 432x288 with 1 Axes>"
      ]
     },
     "metadata": {
      "needs_background": "light"
     },
     "output_type": "display_data"
    }
   ],
   "source": [
    "companies = train_df.companyId.unique()\n",
    "pick_n_companies = 15\n",
    "rand_companies = companies[np.random.randint(1, len(companies), pick_n_companies)]\n",
    "\n",
    "for i in range(pick_n_companies):\n",
    "    if i==0:\n",
    "        groups = train_df[['companyId', 'salary']].loc[train_df.companyId == rand_companies[i], :]\n",
    "    else:\n",
    "        group = train_df[['companyId', 'salary']].loc[train_df.companyId == rand_companies[i], :]\n",
    "        groups = pd.concat([groups, group], axis=0)\n",
    "\n",
    "groups.boxplot(by='companyId')\n",
    "plt.show()"
   ]
  },
  {
   "cell_type": "markdown",
   "metadata": {},
   "source": [
    "Observations on both statistics reports:\n",
    "1. Similar distribution\n",
    "2. Average salary varies only a little\n",
    "3. Similar deviation\n",
    "4. The min, 25%, 50%, and 75% are almost the same between companies\n",
    "\n",
    "The salary distributions are very similar that no company particularly stands out and gives higher or lower wage, and of course no trend or pattern in this feature that relates to salary. Unless there are other features depending on companyId, so far it's not giving me useful info and it's likely to be dropped."
   ]
  },
  {
   "cell_type": "markdown",
   "metadata": {},
   "source": [
    "### Job Types\n",
    "There are 8 types of job: CEO, CFO, CTO, JANITOR, JUNIOR, MANAGER, SENIOR and VICE_PRESIDENT.\n",
    "\n",
    "It's reasonable to assume the chief positions offers much higher than JANITOR and JUNIOR."
   ]
  },
  {
   "cell_type": "code",
   "execution_count": 128,
   "metadata": {},
   "outputs": [
    {
     "name": "stdout",
     "output_type": "stream",
     "text": [
      "                   count     mean     std   min    25%    50%    75%    max\n",
      "jobType                                                                    \n",
      "CEO             124767.0  145.313  34.424  55.0  120.0  142.0  167.0  298.0\n",
      "CTO             125038.0  135.481  33.092  51.0  111.0  132.0  156.0  301.0\n",
      "CFO             124359.0  135.459  33.070  51.0  111.0  132.0  156.0  301.0\n",
      "VICE_PRESIDENT  125223.0  125.371  31.956  44.0  102.0  122.0  146.0  272.0\n",
      "MANAGER         125110.0  115.370  30.835  37.0   93.0  112.0  135.0  270.0\n",
      "SENIOR          125870.0  105.489  30.070  31.0   83.0  102.0  124.0  258.0\n",
      "JUNIOR          124573.0   95.336  29.246  23.0   74.0   92.0  114.0  248.0\n",
      "JANITOR         124869.0   70.822  24.643  17.0   52.0   68.0   86.0  189.0\n"
     ]
    },
    {
     "data": {
      "text/plain": [
       "<AxesSubplot:title={'center':'salary'}, xlabel='[jobType]'>"
      ]
     },
     "execution_count": 128,
     "metadata": {},
     "output_type": "execute_result"
    },
    {
     "data": {
      "image/png": "[encoded data removed]",
      "text/plain": [
       "<Figure size 432x288 with 1 Axes>"
      ]
     },
     "metadata": {
      "needs_background": "light"
     },
     "output_type": "display_data"
    }
   ],
   "source": [
    "print(train_df.groupby(['jobType']).salary.describe().sort_values(by='mean', ascending=False))\n",
    "train_df[['jobType', 'salary']].boxplot(by='jobType')"
   ]
  },
  {
   "cell_type": "markdown",
   "metadata": {},
   "source": [
    "Looks like there's a rule to follow:\n",
    "1. Each job type has 124,000~126,000 sample\n",
    "2. The differences in average salary between each job type is the largest among all featuers\n",
    "    * Average salary ranges from 145 to 70\n",
    "3. Both CFO and CTO offer same salary and distribution\n",
    "4. The ranking of average salary is: CEO > CFO = CTO > VP > MANAGER > SENIOR > JUNIOR >> JANITOR\n",
    "5. The deviation also decreases with average salary\n",
    "6. Most positions are slightly positive skewed Gaussian distribution\n",
    "\n",
    "Some data transformation is needed to emphasize the rules in jobType vs. salary. \n",
    "\n",
    "To visualize more on the skewness, use histograms and calculation of skewness:"
   ]
  },
  {
   "cell_type": "code",
   "execution_count": 129,
   "metadata": {},
   "outputs": [
    {
     "data": {
      "image/png": "[encoded data removed]",
      "text/plain": [
       "<Figure size 1008x432 with 8 Axes>"
      ]
     },
     "metadata": {
      "needs_background": "light"
     },
     "output_type": "display_data"
    },
    {
     "data": {
      "text/plain": [
       "jobType\n",
       "CEO               0.491\n",
       "CFO               0.515\n",
       "CTO               0.512\n",
       "JANITOR           0.634\n",
       "JUNIOR            0.594\n",
       "MANAGER           0.552\n",
       "SENIOR            0.556\n",
       "VICE_PRESIDENT    0.527\n",
       "Name: salary, dtype: float64"
      ]
     },
     "execution_count": 129,
     "metadata": {},
     "output_type": "execute_result"
    }
   ],
   "source": [
    "jobTypes = train_df.jobType.unique()\n",
    "plt.figure(figsize = (14, 6))\n",
    "\n",
    "for i in range(len(jobTypes)):\n",
    "    plt.subplot(3, 3, i+1)\n",
    "    plt.hist(train_df.salary[train_df.jobType == jobTypes[i]])\n",
    "    plt.title(jobTypes[i])\n",
    "plt.show()\n",
    "\n",
    "train_df.groupby(['jobType']).salary.skew()"
   ]
  },
  {
   "cell_type": "markdown",
   "metadata": {},
   "source": [
    "The histogram and skew table back up our previous assumption of positive skewness. As shown in table, the skewness are all positive and very small, and the histogram for each position only slightly lean toward left. \n",
    "\n",
    "The skewness level is: CEO < CFO = CTO < VICE_PRESIDENT < MANAGER = SENIOR < JUNIOR < JANITOR, which is opposite of average salary ranking! My guessing would be that lower positions usually have more room to negotiate for more salary due to other factors, such as world class company might offer more for the same position than local startups, or people with prior experience in the industry tends to be offered more than university graduates, and so on. And people interviewing for higher position might not be for the money, so the positions tends to offer standard salary."
   ]
  },
  {
   "cell_type": "markdown",
   "metadata": {},
   "source": [
    "### Degree\n",
    "There are 5 types of degree: BACHLORS, DOCTORAL, HIGH_SCHOOL, MASTERS, and NONE\n",
    "\n",
    "I expect that more professional position asks for higher educatation, so jobs requiring DOCTORAL degree might offer much higher than HIGH SCHOOL graduated. But will it be the same for DOCTORAL vs. MASTER degree? How much of a gap in salary will it be?"
   ]
  },
  {
   "cell_type": "code",
   "execution_count": 130,
   "metadata": {},
   "outputs": [
    {
     "data": {
      "text/plain": [
       "degree\n",
       "BACHELORS      175492\n",
       "DOCTORAL       175359\n",
       "HIGH_SCHOOL    236879\n",
       "MASTERS        175307\n",
       "NONE           236772\n",
       "dtype: int64"
      ]
     },
     "execution_count": 130,
     "metadata": {},
     "output_type": "execute_result"
    }
   ],
   "source": [
    "train_df.groupby(['degree']).size()"
   ]
  },
  {
   "cell_type": "markdown",
   "metadata": {},
   "source": [
    "From number of jobs, we see that:\n",
    "1. Number of jobs asking for NONE degree is almost the same as asking for HIGH_SCHOOL degree.\n",
    "2. Number of jobs asking for BACHELORS, MASTERS, and DOCTORAL are almost the same."
   ]
  },
  {
   "cell_type": "code",
   "execution_count": 131,
   "metadata": {},
   "outputs": [
    {
     "name": "stdout",
     "output_type": "stream",
     "text": [
      "                count     mean     std   min    25%    50%    75%    max\n",
      "degree                                                                  \n",
      "DOCTORAL     175359.0  135.492  35.790  45.0  109.0  132.0  158.0  301.0\n",
      "MASTERS      175307.0  130.506  35.400  38.0  105.0  127.0  153.0  301.0\n",
      "BACHELORS    175492.0  125.455  35.043  35.0  100.0  122.0  148.0  294.0\n",
      "HIGH_SCHOOL  236879.0  101.930  36.111  18.0   75.0   99.0  125.0  260.0\n",
      "NONE         236772.0   98.185  34.913  17.0   72.0   95.0  121.0  254.0\n"
     ]
    },
    {
     "data": {
      "text/plain": [
       "<AxesSubplot:title={'center':'salary'}, xlabel='[degree]'>"
      ]
     },
     "execution_count": 131,
     "metadata": {},
     "output_type": "execute_result"
    },
    {
     "data": {
      "image/png": "[encoded data removed]",
      "text/plain": [
       "<Figure size 432x288 with 1 Axes>"
      ]
     },
     "metadata": {
      "needs_background": "light"
     },
     "output_type": "display_data"
    }
   ],
   "source": [
    "print(train_df.groupby(['degree']).describe().salary.sort_values(by='mean', ascending=False))\n",
    "train_df[['degree', 'salary']].boxplot(by='degree')"
   ]
  },
  {
   "cell_type": "markdown",
   "metadata": {},
   "source": [
    "From statistics reports, it can be observed that:\n",
    "1. Jobs asking for HIGH_SCHOOL degree offer almost the same salary as not asking any degree (NONE). \n",
    "2. Jobs asking for HIGH_SCHOOL degree or NONE offer much less than BACHELORS and above. \n",
    "3. Distribution for BACHELORS, MASTERS, and DOCTORAL shifts and narrows in same rate.\n",
    "4. The ranking of average salary is: DOCTORAL > MASTERS > BACHELORS >> HIGH_SCHOOL > NONE.\n",
    "5. Except HIGH_SCHOOL, the ranking of deviation is the same as average salary\n",
    "    * HIGH_SCHOOL has highest deviation\n",
    "    * Maybe some jobs are intern positions that allow students to continue higher education while working, thus the salary is negotiable judging from their potential\n",
    "    * Maybe other jobs are general labor jobs that don't require any professional knowledge, thus paid less\n",
    "6. All degree are Gaussian distributed. And maybe positively skewed.\n",
    "\n",
    "Combine with finding from number of jobs, seems like data can be seperated to two groups:\n",
    "1. NONE and HIGH_SCHOOL: more job opening but lower offer\n",
    "2. BACHELORS, MASTERS, DOCTORAL: less job openings and higher offer\n",
    "\n",
    "Will it simplify the degree feature too much? Need to experiments them to find out!\n",
    "\n",
    "Again, let's verify the Gaussian distribution and skewness with histograms."
   ]
  },
  {
   "cell_type": "code",
   "execution_count": 132,
   "metadata": {},
   "outputs": [
    {
     "data": {
      "image/png": "[encoded data removed]",
      "text/plain": [
       "<Figure size 1008x432 with 5 Axes>"
      ]
     },
     "metadata": {
      "needs_background": "light"
     },
     "output_type": "display_data"
    },
    {
     "data": {
      "text/plain": [
       "degree\n",
       "BACHELORS      0.462\n",
       "DOCTORAL       0.457\n",
       "HIGH_SCHOOL    0.413\n",
       "MASTERS        0.468\n",
       "NONE           0.465\n",
       "Name: salary, dtype: float64"
      ]
     },
     "execution_count": 132,
     "metadata": {},
     "output_type": "execute_result"
    }
   ],
   "source": [
    "jobTypes = train_df.degree.unique()\n",
    "plt.figure(figsize = (14, 6))\n",
    "\n",
    "for i in range(len(jobTypes)):\n",
    "    plt.subplot(2, 3, i+1)\n",
    "    plt.hist(train_df.salary[train_df.degree == jobTypes[i]])\n",
    "    plt.title(jobTypes[i])\n",
    "plt.show()\n",
    "\n",
    "train_df.groupby(['degree'])['salary'].skew()"
   ]
  },
  {
   "cell_type": "markdown",
   "metadata": {},
   "source": [
    "As expected, it's Gaussian and positive skewed. \n",
    "\n",
    "The level of skewness is: MASTERS = NONE = BACHELORS > DOCTORAL >> HIGH_SCHOOL, all with very little difference. It's interesting that HIGH_SCHOOL degree is skewed the least and also offered second to least, suggesting that jobs requiring HIGH_SCHOOL are more fixed compare to other degrees."
   ]
  },
  {
   "cell_type": "markdown",
   "metadata": {},
   "source": [
    "### Major\n",
    "There are 9 majors: BIOLOGY, BUSINESS, CHEMISTRY, COMPSCI (computer science), ENGINEERING, LITERATURE, MATH, NONE, and PHYSICS\n",
    "\n",
    "I expect the technical (ENGINEERING and COMPSCI) and BUSINESS major might be offered more than pure science (BIOLOGY, CHEMISTRY, MATH, PHYSICS) and LITERATURE major since they're more practical (eg. designing product, analyzing market trend, etc.) and less theoratical or economic (eg. research papers, studying Shakespeare, etc.)."
   ]
  },
  {
   "cell_type": "code",
   "execution_count": 133,
   "metadata": {},
   "outputs": [
    {
     "data": {
      "text/plain": [
       "major\n",
       "BIOLOGY         58374\n",
       "BUSINESS        58518\n",
       "CHEMISTRY       58874\n",
       "COMPSCI         58381\n",
       "ENGINEERING     58594\n",
       "LITERATURE      58684\n",
       "MATH            57800\n",
       "NONE           532176\n",
       "PHYSICS         58408\n",
       "dtype: int64"
      ]
     },
     "execution_count": 133,
     "metadata": {},
     "output_type": "execute_result"
    }
   ],
   "source": [
    "train_df.groupby(['major']).size()"
   ]
  },
  {
   "cell_type": "markdown",
   "metadata": {},
   "source": [
    "Number of jobs asking for no major is more than other jobs combined and also more than half of the data. The imbalance data says that more than half of the offerings don't look at applicant's major, everyone can apply. But this raises some questions:\n",
    "* Does it reflect on salary? \n",
    "* If the major is irrelevent, do those jobs have lower wage because it's not professional? \n",
    "     * For example, workers at warehouse or clark at supermarket might not need be any major to work.\n",
    "* Does it suggest us that the major doesn't provide valueable information since so many jobs don't require any and we should focus on other features such as yearsExperience? \n",
    "* Is it related to other features?\n",
    "    * For example, OLD and SERVICE industry are willing to hire more NONE major employees than WEB or FINANCE?\n",
    "    * For example, is employee likely to be paid more with higher education diploma in any major?\n",
    "\n",
    "Let's confirm it from statistics report."
   ]
  },
  {
   "cell_type": "code",
   "execution_count": 134,
   "metadata": {},
   "outputs": [
    {
     "name": "stdout",
     "output_type": "stream",
     "text": [
      "                count     mean     std   min    25%    50%    75%    max\n",
      "major                                                                   \n",
      "ENGINEERING   58594.0  138.441  38.179  41.0  111.0  135.0  163.0  301.0\n",
      "BUSINESS      58518.0  135.649  37.007  40.0  109.0  132.0  159.0  294.0\n",
      "MATH          57800.0  133.322  35.539  39.0  107.0  130.0  156.0  280.0\n",
      "COMPSCI       58381.0  132.076  34.777  41.0  107.0  129.0  154.0  286.0\n",
      "PHYSICS       58408.0  130.373  34.957  38.0  105.0  127.0  153.0  293.0\n",
      "CHEMISTRY     58874.0  129.072  34.833  40.0  104.0  126.0  151.0  282.0\n",
      "BIOLOGY       58374.0  127.934  34.820  35.0  103.0  125.0  150.0  285.0\n",
      "LITERATURE    58684.0  124.423  33.576  37.0  100.0  122.0  146.0  271.0\n",
      "NONE         532176.0  102.592  36.134  17.0   76.0  100.0  126.0  270.0\n"
     ]
    },
    {
     "data": {
      "text/plain": [
       "<AxesSubplot:title={'center':'salary'}, xlabel='[major]'>"
      ]
     },
     "execution_count": 134,
     "metadata": {},
     "output_type": "execute_result"
    },
    {
     "data": {
      "image/png": "[encoded data removed]",
      "text/plain": [
       "<Figure size 432x288 with 1 Axes>"
      ]
     },
     "metadata": {
      "needs_background": "light"
     },
     "output_type": "display_data"
    }
   ],
   "source": [
    "print(train_df.groupby(['major']).salary.describe().sort_values(by='mean', ascending=False))\n",
    "train_df[['major', 'salary']].boxplot(by='major')"
   ]
  },
  {
   "cell_type": "markdown",
   "metadata": {},
   "source": [
    "1. NONE obviously has lower distribution than others by great amount.\n",
    "2. The ranking of average salary is: ENGINEERING > BUSINESS > MATH > COMPSCI > PHYSICS > CHEMISTRY > BIOLOGY > LITERATURE >> NONE\n",
    "3. BUSINESS and ENGINEERING have larger deviation\n",
    "4. LITERATURE has smallest deviation\n",
    "5. Ranking of deviation is similar to mean, except NONE has higher deviation\n",
    "    * Lower paid jobs usually offers the standard salary\n",
    "    * Higher paid jobs depends more on other factors, thus have wider range of salary\n",
    "    * There can be various jobs that don't require any major, thus it also heavily depends on other features\n",
    "6. Gaussian distributed and skew to positive\n",
    "\n",
    "This verifies our initial guessing that jobs with no major requirement might be less professional and thus paid less. But consider the imbalanced data, it's too early to assume all jobs not requiring major pay less since we're not sure if there are other factors influencing the salary. Need more digging!"
   ]
  },
  {
   "cell_type": "code",
   "execution_count": 135,
   "metadata": {},
   "outputs": [
    {
     "data": {
      "image/png": "[encoded data removed]",
      "text/plain": [
       "<Figure size 1008x432 with 9 Axes>"
      ]
     },
     "metadata": {
      "needs_background": "light"
     },
     "output_type": "display_data"
    },
    {
     "data": {
      "text/plain": [
       "major\n",
       "BIOLOGY        0.422\n",
       "BUSINESS       0.458\n",
       "CHEMISTRY      0.430\n",
       "COMPSCI        0.453\n",
       "ENGINEERING    0.430\n",
       "LITERATURE     0.447\n",
       "MATH           0.437\n",
       "NONE           0.422\n",
       "PHYSICS        0.444\n",
       "Name: salary, dtype: float64"
      ]
     },
     "execution_count": 135,
     "metadata": {},
     "output_type": "execute_result"
    }
   ],
   "source": [
    "jobTypes = train_df.major.unique()\n",
    "plt.figure(figsize = (14, 6))\n",
    "\n",
    "for i in range(len(jobTypes)):\n",
    "    plt.subplot(3, 3, i+1)\n",
    "    plt.hist(train_df.salary[train_df.major == jobTypes[i]])\n",
    "    plt.title(jobTypes[i])\n",
    "plt.show()\n",
    "\n",
    "train_df.groupby(['major']).salary.skew()"
   ]
  },
  {
   "cell_type": "markdown",
   "metadata": {},
   "source": [
    "BUSINESS is the most skewed and BIOLOGY and NONE are least skewed. But compare to other features like jobType, all majors are skewed at similar rate."
   ]
  },
  {
   "cell_type": "markdown",
   "metadata": {},
   "source": [
    "### Industry\n",
    "There are 7 types of industry: AUTO (automobile), EDUCATION, FINANCE, HEALTH, OIL, SERVICE, and WEB\n",
    "\n",
    "I expect FINANCE and WEB pays relatively higher and SERVICE pays lower."
   ]
  },
  {
   "cell_type": "code",
   "execution_count": 136,
   "metadata": {},
   "outputs": [
    {
     "data": {
      "text/plain": [
       "industry\n",
       "AUTO         142907\n",
       "EDUCATION    142781\n",
       "FINANCE      142848\n",
       "HEALTH       142728\n",
       "OIL          142756\n",
       "SERVICE      142610\n",
       "WEB          143179\n",
       "dtype: int64"
      ]
     },
     "execution_count": 136,
     "metadata": {},
     "output_type": "execute_result"
    }
   ],
   "source": [
    "train_df.groupby(['industry']).size()"
   ]
  },
  {
   "cell_type": "markdown",
   "metadata": {},
   "source": [
    "Each industry has around 142,800 openings."
   ]
  },
  {
   "cell_type": "code",
   "execution_count": 137,
   "metadata": {},
   "outputs": [
    {
     "name": "stdout",
     "output_type": "stream",
     "text": [
      "              count     mean     std   min    25%    50%    75%    max\n",
      "industry                                                              \n",
      "OIL        142756.0  130.957  38.527  37.0  103.0  128.0  156.0  301.0\n",
      "FINANCE    142848.0  130.752  38.319  36.0  103.0  128.0  156.0  294.0\n",
      "WEB        143179.0  121.652  38.164  31.0   94.0  119.0  146.0  290.0\n",
      "HEALTH     142728.0  115.743  36.863  28.0   89.0  114.0  140.0  275.0\n",
      "AUTO       142907.0  109.443  36.089  25.0   84.0  108.0  133.0  264.0\n",
      "SERVICE    142610.0  104.452  35.575  22.0   79.0  103.0  128.0  256.0\n",
      "EDUCATION  142781.0   99.457  35.107  17.0   75.0   98.0  122.0  253.0\n"
     ]
    },
    {
     "data": {
      "text/plain": [
       "<AxesSubplot:title={'center':'salary'}, xlabel='[industry]'>"
      ]
     },
     "execution_count": 137,
     "metadata": {},
     "output_type": "execute_result"
    },
    {
     "data": {
      "image/png": "[encoded data removed]",
      "text/plain": [
       "<Figure size 432x288 with 1 Axes>"
      ]
     },
     "metadata": {
      "needs_background": "light"
     },
     "output_type": "display_data"
    }
   ],
   "source": [
    "print(train_df.groupby(['industry']).salary.describe().sort_values(by='mean', ascending=False))\n",
    "train_df[['industry', 'salary']].boxplot(by='industry')"
   ]
  },
  {
   "cell_type": "markdown",
   "metadata": {},
   "source": [
    "Findings:\n",
    "1. FINANCE and OIL(!) have highest wage and most stretched deviation\n",
    "2. FINANCE and OIL have the same distribution\n",
    "3. The ranking of average salary is: FINANCE = OIL > WEB > HEALTH > AUTO > SERVICE > EDUCATION\n",
    "4. The ranking of deviation is the same as average salary\n",
    "    * There's a significant drop between WEB and HEALTH\n",
    "    * Is there any relationship between group:(OIL, FINANCE, WEB) and group:(HEALTH, AUTO, SERVICE, EDUCATION)?\n",
    "5. The differences between each industry's average salary are the smallest among all features\n",
    "    * The average salary ranges from 130 to 99\n",
    "5. Gaussian distribution and positive skew\n",
    "\n",
    "Let's look at the salary histograms and skewness"
   ]
  },
  {
   "cell_type": "code",
   "execution_count": 138,
   "metadata": {},
   "outputs": [
    {
     "data": {
      "image/png": "[encoded data removed]",
      "text/plain": [
       "<Figure size 1008x432 with 7 Axes>"
      ]
     },
     "metadata": {
      "needs_background": "light"
     },
     "output_type": "display_data"
    },
    {
     "data": {
      "text/plain": [
       "industry\n",
       "AUTO         0.323\n",
       "EDUCATION    0.304\n",
       "FINANCE      0.345\n",
       "HEALTH       0.321\n",
       "OIL          0.359\n",
       "SERVICE      0.315\n",
       "WEB          0.348\n",
       "Name: salary, dtype: float64"
      ]
     },
     "execution_count": 138,
     "metadata": {},
     "output_type": "execute_result"
    }
   ],
   "source": [
    "jobTypes = train_df.industry.unique()\n",
    "plt.figure(figsize = (14, 6))\n",
    "\n",
    "for i in range(len(jobTypes)):\n",
    "    plt.subplot(3, 3, i+1)\n",
    "    plt.hist(train_df.salary[train_df.industry == jobTypes[i]])\n",
    "    plt.title(jobTypes[i])\n",
    "plt.show()\n",
    "\n",
    "train_df.groupby(['industry']).salary.skew()"
   ]
  },
  {
   "cell_type": "markdown",
   "metadata": {},
   "source": [
    "The skewness is the relatively small among all features and skews at similar rate. Similar to the deviations, there's a gap in skewness between group:(OIL, WEB, FINANCE) and group:(AUTO, HEALTH, SERVICE, EDUCATION)."
   ]
  },
  {
   "cell_type": "markdown",
   "metadata": {},
   "source": [
    "### Years of Experience\n",
    "Span from 0 to 24 years. Let's select a few and see their distributions.\n",
    "\n",
    "I expect the more years of experience a job asks, the more it pays. But is there a plateau? Is the relationship linear?"
   ]
  },
  {
   "cell_type": "code",
   "execution_count": 139,
   "metadata": {},
   "outputs": [
    {
     "data": {
      "text/plain": [
       "array([ 0,  1,  2,  3,  4,  5,  6,  7,  8,  9, 10, 11, 12, 13, 14, 15, 16,\n",
       "       17, 18, 19, 20, 21, 22, 23, 24], dtype=int64)"
      ]
     },
     "execution_count": 139,
     "metadata": {},
     "output_type": "execute_result"
    }
   ],
   "source": [
    "np.unique(train_df.yearsExperience)"
   ]
  },
  {
   "cell_type": "code",
   "execution_count": 140,
   "metadata": {},
   "outputs": [
    {
     "data": {
      "image/png": "[encoded data removed]",
      "text/plain": [
       "<Figure size 432x288 with 1 Axes>"
      ]
     },
     "metadata": {
      "needs_background": "light"
     },
     "output_type": "display_data"
    }
   ],
   "source": [
    "years= np.arange(24+1)\n",
    "for i in range(len(years)):\n",
    "    if i==0:\n",
    "        groups = train_df[['yearsExperience', 'salary']][train_df.yearsExperience == years[i]]\n",
    "    else:\n",
    "        group = train_df[['yearsExperience', 'salary']][train_df.yearsExperience == years[i]]\n",
    "        groups = pd.concat([groups, group], axis=0)\n",
    "\n",
    "groups.boxplot(by='yearsExperience')\n",
    "plt.show()"
   ]
  },
  {
   "cell_type": "markdown",
   "metadata": {},
   "source": [
    "As expected:\n",
    "1. The yearsExperience and average salary have linear relationship\n",
    "2. The deviation increases with average salary\n",
    "3. Gaussian distribution and positive skew"
   ]
  },
  {
   "cell_type": "code",
   "execution_count": 141,
   "metadata": {},
   "outputs": [
    {
     "data": {
      "image/png": "[encoded data removed]",
      "text/plain": [
       "<Figure size 1008x432 with 9 Axes>"
      ]
     },
     "metadata": {
      "needs_background": "light"
     },
     "output_type": "display_data"
    },
    {
     "data": {
      "text/plain": [
       "yearsExperience\n",
       "0     0.232\n",
       "1     0.238\n",
       "2     0.227\n",
       "3     0.258\n",
       "4     0.249\n",
       "5     0.270\n",
       "6     0.240\n",
       "7     0.255\n",
       "8     0.250\n",
       "9     0.247\n",
       "10    0.265\n",
       "11    0.279\n",
       "12    0.288\n",
       "13    0.289\n",
       "14    0.268\n",
       "15    0.268\n",
       "16    0.271\n",
       "17    0.278\n",
       "18    0.276\n",
       "19    0.266\n",
       "20    0.285\n",
       "21    0.283\n",
       "22    0.296\n",
       "23    0.292\n",
       "24    0.298\n",
       "Name: salary, dtype: float64"
      ]
     },
     "execution_count": 141,
     "metadata": {},
     "output_type": "execute_result"
    }
   ],
   "source": [
    "years= np.arange(0, 24+1, 3)\n",
    "plt.figure(figsize = (14, 6))\n",
    "\n",
    "for i in range(len(years)):\n",
    "    plt.subplot(3, 3, i+1)\n",
    "    plt.hist(train_df.salary[train_df.yearsExperience == years[i]])\n",
    "    plt.title(years[i])\n",
    "plt.show()\n",
    "\n",
    "train_df.groupby(['yearsExperience']).salary.skew()"
   ]
  },
  {
   "cell_type": "markdown",
   "metadata": {},
   "source": [
    "The skewness is the smallest of all features and skews at similar rate. Overall, the skewness increases with yearsExperience.\n",
    "\n",
    "And to show the linear relationship, here's the plot of yearsExperience vs. average salary."
   ]
  },
  {
   "cell_type": "code",
   "execution_count": 142,
   "metadata": {},
   "outputs": [
    {
     "name": "stdout",
     "output_type": "stream",
     "text": [
      "                   count     mean     std   min    25%    50%    75%    max\n",
      "yearsExperience                                                            \n",
      "0                39828.0   91.886  32.378  17.0   69.0   91.0  114.0  227.0\n",
      "1                40252.0   93.978  32.498  18.0   71.0   93.0  116.0  223.0\n",
      "2                40032.0   96.136  32.490  19.0   73.0   95.0  118.0  229.0\n",
      "3                40184.0   98.098  33.024  21.0   74.0   97.0  120.0  234.0\n",
      "4                40031.0  100.019  33.397  21.0   76.0   99.0  122.0  245.0\n",
      "5                40006.0  101.683  33.538  22.0   78.0  100.0  124.0  245.0\n",
      "6                40087.0  103.929  33.708  21.0   80.0  103.0  127.0  239.0\n",
      "7                40041.0  106.051  33.827  25.0   82.0  105.0  129.0  244.0\n",
      "8                40111.0  107.841  34.352  25.0   83.0  107.0  131.0  248.0\n",
      "9                40228.0  110.114  34.490  25.0   85.0  109.0  133.0  261.0\n",
      "10               40021.0  112.180  34.759  24.0   87.0  111.0  135.0  263.0\n",
      "11               39937.0  113.957  35.248  25.0   89.0  112.0  138.0  282.0\n",
      "12               39460.0  116.351  35.492  25.0   91.0  115.0  140.0  262.0\n",
      "13               39817.0  117.906  35.916  28.0   92.0  116.0  142.0  271.0\n",
      "14               39823.0  120.270  36.256  27.0   94.0  119.0  144.0  273.0\n",
      "15               40309.0  121.907  36.667  28.0   96.0  120.0  146.0  268.0\n",
      "16               39868.0  124.154  37.047  29.0   98.0  123.0  149.0  293.0\n",
      "17               40066.0  126.156  37.400  29.0   99.0  124.0  151.0  267.0\n",
      "18               40082.0  128.434  37.858  30.0  101.0  127.0  154.0  280.0\n",
      "19               39847.0  130.020  38.002  30.0  103.0  128.0  155.0  294.0\n",
      "20               39980.0  132.096  38.640  34.0  105.0  130.0  158.0  290.0\n",
      "21               39753.0  134.003  38.904  32.0  106.0  132.0  160.0  288.0\n",
      "22               40179.0  136.359  39.344  32.0  108.0  134.0  162.0  298.0\n",
      "23               40012.0  138.442  39.933  35.0  110.0  136.0  165.0  301.0\n",
      "24               39855.0  140.135  40.101  36.0  111.0  138.0  167.0  301.0\n"
     ]
    },
    {
     "data": {
      "text/plain": [
       "<AxesSubplot:xlabel='yearsExperience'>"
      ]
     },
     "execution_count": 142,
     "metadata": {},
     "output_type": "execute_result"
    },
    {
     "data": {
      "image/png": "[encoded data removed]",
      "text/plain": [
       "<Figure size 432x288 with 1 Axes>"
      ]
     },
     "metadata": {
      "needs_background": "light"
     },
     "output_type": "display_data"
    }
   ],
   "source": [
    "print(train_df.groupby(['yearsExperience']).salary.describe())\n",
    "train_df.groupby(['yearsExperience']).salary.describe()['mean'].plot(x='yearsExperience', y='salary')"
   ]
  },
  {
   "cell_type": "markdown",
   "metadata": {},
   "source": [
    "Now that's an obvious slope of 2 and offset 90 linear relationship.\n",
    "\n",
    "yearsExperience is an independent feature, Gaussian distributed, and has a simple linear trend pattern. If we scale it down using standard scaler, we won't distored the pattern and it'll release some burdent in training."
   ]
  },
  {
   "cell_type": "markdown",
   "metadata": {},
   "source": [
    "### Miles from metropolis\n",
    "Span from 0 to 99 miles. Like yearsExperience, let's select a few and see their distributions.\n",
    "\n",
    "I expect companies having offices in metropolis are likely to have higher net worth, thus the closer to metropolis, the more it pays. Again, is there a plateau? Is the relationship linear?"
   ]
  },
  {
   "cell_type": "code",
   "execution_count": 143,
   "metadata": {},
   "outputs": [
    {
     "data": {
      "text/plain": [
       "array([ 0,  1,  2,  3,  4,  5,  6,  7,  8,  9, 10, 11, 12, 13, 14, 15, 16,\n",
       "       17, 18, 19, 20, 21, 22, 23, 24, 25, 26, 27, 28, 29, 30, 31, 32, 33,\n",
       "       34, 35, 36, 37, 38, 39, 40, 41, 42, 43, 44, 45, 46, 47, 48, 49, 50,\n",
       "       51, 52, 53, 54, 55, 56, 57, 58, 59, 60, 61, 62, 63, 64, 65, 66, 67,\n",
       "       68, 69, 70, 71, 72, 73, 74, 75, 76, 77, 78, 79, 80, 81, 82, 83, 84,\n",
       "       85, 86, 87, 88, 89, 90, 91, 92, 93, 94, 95, 96, 97, 98, 99],\n",
       "      dtype=int64)"
      ]
     },
     "execution_count": 143,
     "metadata": {},
     "output_type": "execute_result"
    }
   ],
   "source": [
    "np.unique(train_df.milesFromMetropolis)"
   ]
  },
  {
   "cell_type": "code",
   "execution_count": 144,
   "metadata": {},
   "outputs": [
    {
     "data": {
      "image/png": "[encoded data removed]",
      "text/plain": [
       "<Figure size 432x288 with 1 Axes>"
      ]
     },
     "metadata": {
      "needs_background": "light"
     },
     "output_type": "display_data"
    }
   ],
   "source": [
    "miles= np.arange(0, 99+1, 4)\n",
    "for i in range(len(miles)):\n",
    "    if i==0:\n",
    "        groups = train_df[['milesFromMetropolis', 'salary']][train_df.milesFromMetropolis == miles[i]]\n",
    "    else:\n",
    "        group = train_df[['milesFromMetropolis', 'salary']][train_df.milesFromMetropolis == miles[i]]\n",
    "        groups = pd.concat([groups, group], axis=0)\n",
    "\n",
    "groups.boxplot(by='milesFromMetropolis')\n",
    "plt.show()"
   ]
  },
  {
   "cell_type": "markdown",
   "metadata": {},
   "source": [
    "1. It's a inverse linear relationship\n",
    "2. Deviation decreases with average salary\n",
    "3. Gaussian distribution and positive skew"
   ]
  },
  {
   "cell_type": "code",
   "execution_count": 145,
   "metadata": {},
   "outputs": [
    {
     "data": {
      "image/png": "[encoded data removed]",
      "text/plain": [
       "<Figure size 1008x432 with 9 Axes>"
      ]
     },
     "metadata": {
      "needs_background": "light"
     },
     "output_type": "display_data"
    },
    {
     "data": {
      "text/plain": [
       "milesFromMetropolis\n",
       "0     0.264\n",
       "12    0.281\n",
       "24    0.288\n",
       "36    0.310\n",
       "48    0.233\n",
       "60    0.270\n",
       "72    0.238\n",
       "84    0.231\n",
       "96    0.272\n",
       "Name: salary, dtype: float64"
      ]
     },
     "execution_count": 145,
     "metadata": {},
     "output_type": "execute_result"
    }
   ],
   "source": [
    "miles= np.arange(0, 99+1, 12)\n",
    "plt.figure(figsize = (14, 6))\n",
    "\n",
    "for i in range(len(miles)):\n",
    "    plt.subplot(3, 3, i+1)\n",
    "    plt.hist(train_df.salary[train_df.milesFromMetropolis == miles[i]])\n",
    "    plt.title(miles[i])\n",
    "plt.show()\n",
    "\n",
    "train_df.groupby(['milesFromMetropolis']).salary.skew()[miles]"
   ]
  },
  {
   "cell_type": "markdown",
   "metadata": {},
   "source": [
    "The skewness is the small among all features and skews at similar rate. There's no obvious relationship between skewness and and milesFromMetropolis.\n",
    "\n",
    "And to show the linearity, here's the plot of milesFromMetropolis vs. average salary."
   ]
  },
  {
   "cell_type": "code",
   "execution_count": 146,
   "metadata": {},
   "outputs": [
    {
     "name": "stdout",
     "output_type": "stream",
     "text": [
      "count    999809.000\n",
      "mean         49.528\n",
      "std          28.878\n",
      "min           0.000\n",
      "25%          25.000\n",
      "50%          50.000\n",
      "75%          75.000\n",
      "max          99.000\n",
      "Name: milesFromMetropolis, dtype: float64\n"
     ]
    },
    {
     "data": {
      "text/plain": [
       "<AxesSubplot:xlabel='milesFromMetropolis'>"
      ]
     },
     "execution_count": 146,
     "metadata": {},
     "output_type": "execute_result"
    },
    {
     "data": {
      "image/png": "[encoded data removed]",
      "text/plain": [
       "<Figure size 432x288 with 1 Axes>"
      ]
     },
     "metadata": {
      "needs_background": "light"
     },
     "output_type": "display_data"
    }
   ],
   "source": [
    "print(train_df['milesFromMetropolis'].describe())\n",
    "train_df.groupby(['milesFromMetropolis']).salary.describe()['mean'].plot(x='milesFromMetropolis', y='salary')"
   ]
  },
  {
   "cell_type": "markdown",
   "metadata": {},
   "source": [
    "It's an obvious slope of -0.4 and offset 135 linear trend.\n",
    "\n",
    "Similar to yearsExperience, milesFromMetropolis is an independent feature, Gaussian distributed, and has a simple (reversed) linear trend pattern."
   ]
  },
  {
   "cell_type": "markdown",
   "metadata": {},
   "source": [
    "### Data analysis conclusion\n",
    "1. Without further data transformation, all features have obvious pattern/ranking\n",
    "2. All features are Gaussian distributed and positive skewness\n",
    "3. Higher average salary often pairs with wider distribution (larger deviation)\n",
    "4. **companyId** provides little to no information related to salary\n",
    "5. **jobType** has highest variance\n",
    "    * Avearage salary ranges from 145 to 70\n",
    "6. **degree** can potentially be split to two groups\n",
    "    * NONE and HIGH_SCHOOL: more job opening but lower offer\n",
    "    * BACHELORS, MASTERS, DOCTORAL: less job openings and higher offer\n",
    "7. **major** has imbalanced data\n",
    "    * More than half of dataset don't require a major\n",
    "8. **industry** has smallest variance\n",
    "    * Average salary ranges from 130 to 99\n",
    "9. **yearsExperience** and **milesFromMetropolis** both are independent and linearly related to salary"
   ]
  },
  {
   "cell_type": "markdown",
   "metadata": {},
   "source": [
    "## Transform data\n",
    "The goal is to transform our data according to certain rules to further reveal the hidden pattern.\n",
    "\n",
    "Obviously, we have to transform strings to meaningful numerical values. companyId, jobType, degree, major, and industry are the columns in dataset that need convertion. We have three options:\n",
    "1. One-Hot Encoder\n",
    "2. Label Encoder\n",
    "3. Custome Label Encoder\n",
    "\n",
    "Let's try all three and see which method gives me features that are:\n",
    "1. Independent\n",
    "2. Most correlated to salary\n",
    "\n",
    "### Outliers\n",
    "\n",
    "### Encoders\n",
    "To find the best encoding method, let's use 50,000 samples for testing and see which yields best correlated features.\n",
    "#### One Hot Encoder\n",
    "In this case, one-hot encoding 50,000 samples takes too long, so use 500 samples instead. Also show first 40 out of 95 correlations with salary."
   ]
  },
  {
   "cell_type": "markdown",
   "metadata": {},
   "source": [
    "### Encoders\n",
    "To find the best encoding method, let's use 50,000 samples for testing and see which yields best correlated features.\n",
    "#### One Hot Encoder\n",
    "In this case, one-hot encoding 50,000 samples takes too long, so use 500 samples instead. Also show first 40 out of 95 correlations with salary."
   ]
  },
  {
   "cell_type": "code",
   "execution_count": 147,
   "metadata": {},
   "outputs": [],
   "source": [
    "# TODO: write a class instead: class OneHotEncodingFeatures:\n",
    "def one_hot_encode_features(data, features, test=None):\n",
    "    for feature in features:\n",
    "        for label in data[feature]:\n",
    "            col_name = feature + \"_\" + label  # to avoid same label name, eg. NONE in degree and NONE in major\n",
    "            data[col_name] = (data[feature]==label).astype(int)\n",
    "            if test:\n",
    "                test[col_name] = (test[feature]==label).astype(int)\n",
    "        data = data.drop(feature, axis=1)\n",
    "        if test:\n",
    "            test = test.drop(feature, axis=1)\n",
    "            \n",
    "    if test:\n",
    "        return data, test\n",
    "    else:\n",
    "        return data"
   ]
  },
  {
   "cell_type": "code",
   "execution_count": 148,
   "metadata": {},
   "outputs": [],
   "source": [
    "examples = 50000"
   ]
  },
  {
   "cell_type": "code",
   "execution_count": 149,
   "metadata": {
    "scrolled": true
   },
   "outputs": [
    {
     "data": {
      "text/html": [
       "<div>\n",
       "<style scoped>\n",
       "    .dataframe tbody tr th:only-of-type {\n",
       "        vertical-align: middle;\n",
       "    }\n",
       "\n",
       "    .dataframe tbody tr th {\n",
       "        vertical-align: top;\n",
       "    }\n",
       "\n",
       "    .dataframe thead th {\n",
       "        text-align: right;\n",
       "    }\n",
       "</style>\n",
       "<table border=\"1\" class=\"dataframe\">\n",
       "  <thead>\n",
       "    <tr style=\"text-align: right;\">\n",
       "      <th></th>\n",
       "      <th>yearsExperience</th>\n",
       "      <th>milesFromMetropolis</th>\n",
       "      <th>salary</th>\n",
       "      <th>jobType_CFO</th>\n",
       "      <th>jobType_CEO</th>\n",
       "      <th>jobType_VICE_PRESIDENT</th>\n",
       "      <th>jobType_MANAGER</th>\n",
       "      <th>jobType_JUNIOR</th>\n",
       "      <th>jobType_JANITOR</th>\n",
       "      <th>jobType_CTO</th>\n",
       "      <th>...</th>\n",
       "      <th>companyId_COMP59</th>\n",
       "      <th>companyId_COMP13</th>\n",
       "      <th>companyId_COMP39</th>\n",
       "      <th>companyId_COMP16</th>\n",
       "      <th>companyId_COMP9</th>\n",
       "      <th>companyId_COMP32</th>\n",
       "      <th>companyId_COMP62</th>\n",
       "      <th>companyId_COMP35</th>\n",
       "      <th>companyId_COMP18</th>\n",
       "      <th>companyId_COMP60</th>\n",
       "    </tr>\n",
       "    <tr>\n",
       "      <th>jobId</th>\n",
       "      <th></th>\n",
       "      <th></th>\n",
       "      <th></th>\n",
       "      <th></th>\n",
       "      <th></th>\n",
       "      <th></th>\n",
       "      <th></th>\n",
       "      <th></th>\n",
       "      <th></th>\n",
       "      <th></th>\n",
       "      <th></th>\n",
       "      <th></th>\n",
       "      <th></th>\n",
       "      <th></th>\n",
       "      <th></th>\n",
       "      <th></th>\n",
       "      <th></th>\n",
       "      <th></th>\n",
       "      <th></th>\n",
       "      <th></th>\n",
       "      <th></th>\n",
       "    </tr>\n",
       "  </thead>\n",
       "  <tbody>\n",
       "    <tr>\n",
       "      <th>JOB1362684407687</th>\n",
       "      <td>10</td>\n",
       "      <td>83</td>\n",
       "      <td>130</td>\n",
       "      <td>1</td>\n",
       "      <td>0</td>\n",
       "      <td>0</td>\n",
       "      <td>0</td>\n",
       "      <td>0</td>\n",
       "      <td>0</td>\n",
       "      <td>0</td>\n",
       "      <td>...</td>\n",
       "      <td>0</td>\n",
       "      <td>0</td>\n",
       "      <td>0</td>\n",
       "      <td>0</td>\n",
       "      <td>0</td>\n",
       "      <td>0</td>\n",
       "      <td>0</td>\n",
       "      <td>0</td>\n",
       "      <td>0</td>\n",
       "      <td>0</td>\n",
       "    </tr>\n",
       "    <tr>\n",
       "      <th>JOB1362684407688</th>\n",
       "      <td>3</td>\n",
       "      <td>73</td>\n",
       "      <td>101</td>\n",
       "      <td>0</td>\n",
       "      <td>1</td>\n",
       "      <td>0</td>\n",
       "      <td>0</td>\n",
       "      <td>0</td>\n",
       "      <td>0</td>\n",
       "      <td>0</td>\n",
       "      <td>...</td>\n",
       "      <td>0</td>\n",
       "      <td>0</td>\n",
       "      <td>0</td>\n",
       "      <td>0</td>\n",
       "      <td>0</td>\n",
       "      <td>0</td>\n",
       "      <td>0</td>\n",
       "      <td>0</td>\n",
       "      <td>0</td>\n",
       "      <td>0</td>\n",
       "    </tr>\n",
       "    <tr>\n",
       "      <th>JOB1362684407689</th>\n",
       "      <td>10</td>\n",
       "      <td>38</td>\n",
       "      <td>137</td>\n",
       "      <td>0</td>\n",
       "      <td>0</td>\n",
       "      <td>1</td>\n",
       "      <td>0</td>\n",
       "      <td>0</td>\n",
       "      <td>0</td>\n",
       "      <td>0</td>\n",
       "      <td>...</td>\n",
       "      <td>0</td>\n",
       "      <td>0</td>\n",
       "      <td>0</td>\n",
       "      <td>0</td>\n",
       "      <td>0</td>\n",
       "      <td>0</td>\n",
       "      <td>0</td>\n",
       "      <td>0</td>\n",
       "      <td>0</td>\n",
       "      <td>0</td>\n",
       "    </tr>\n",
       "    <tr>\n",
       "      <th>JOB1362684407690</th>\n",
       "      <td>8</td>\n",
       "      <td>17</td>\n",
       "      <td>142</td>\n",
       "      <td>0</td>\n",
       "      <td>0</td>\n",
       "      <td>0</td>\n",
       "      <td>1</td>\n",
       "      <td>0</td>\n",
       "      <td>0</td>\n",
       "      <td>0</td>\n",
       "      <td>...</td>\n",
       "      <td>0</td>\n",
       "      <td>0</td>\n",
       "      <td>0</td>\n",
       "      <td>0</td>\n",
       "      <td>0</td>\n",
       "      <td>0</td>\n",
       "      <td>0</td>\n",
       "      <td>0</td>\n",
       "      <td>0</td>\n",
       "      <td>0</td>\n",
       "    </tr>\n",
       "    <tr>\n",
       "      <th>JOB1362684407691</th>\n",
       "      <td>8</td>\n",
       "      <td>16</td>\n",
       "      <td>163</td>\n",
       "      <td>0</td>\n",
       "      <td>0</td>\n",
       "      <td>1</td>\n",
       "      <td>0</td>\n",
       "      <td>0</td>\n",
       "      <td>0</td>\n",
       "      <td>0</td>\n",
       "      <td>...</td>\n",
       "      <td>0</td>\n",
       "      <td>0</td>\n",
       "      <td>0</td>\n",
       "      <td>0</td>\n",
       "      <td>0</td>\n",
       "      <td>0</td>\n",
       "      <td>0</td>\n",
       "      <td>0</td>\n",
       "      <td>0</td>\n",
       "      <td>0</td>\n",
       "    </tr>\n",
       "  </tbody>\n",
       "</table>\n",
       "<p>5 rows × 95 columns</p>\n",
       "</div>"
      ],
      "text/plain": [
       "                  yearsExperience  milesFromMetropolis  salary  jobType_CFO  \\\n",
       "jobId                                                                         \n",
       "JOB1362684407687               10                   83     130            1   \n",
       "JOB1362684407688                3                   73     101            0   \n",
       "JOB1362684407689               10                   38     137            0   \n",
       "JOB1362684407690                8                   17     142            0   \n",
       "JOB1362684407691                8                   16     163            0   \n",
       "\n",
       "                  jobType_CEO  jobType_VICE_PRESIDENT  jobType_MANAGER  \\\n",
       "jobId                                                                    \n",
       "JOB1362684407687            0                       0                0   \n",
       "JOB1362684407688            1                       0                0   \n",
       "JOB1362684407689            0                       1                0   \n",
       "JOB1362684407690            0                       0                1   \n",
       "JOB1362684407691            0                       1                0   \n",
       "\n",
       "                  jobType_JUNIOR  jobType_JANITOR  jobType_CTO  ...  \\\n",
       "jobId                                                           ...   \n",
       "JOB1362684407687               0                0            0  ...   \n",
       "JOB1362684407688               0                0            0  ...   \n",
       "JOB1362684407689               0                0            0  ...   \n",
       "JOB1362684407690               0                0            0  ...   \n",
       "JOB1362684407691               0                0            0  ...   \n",
       "\n",
       "                  companyId_COMP59  companyId_COMP13  companyId_COMP39  \\\n",
       "jobId                                                                    \n",
       "JOB1362684407687                 0                 0                 0   \n",
       "JOB1362684407688                 0                 0                 0   \n",
       "JOB1362684407689                 0                 0                 0   \n",
       "JOB1362684407690                 0                 0                 0   \n",
       "JOB1362684407691                 0                 0                 0   \n",
       "\n",
       "                  companyId_COMP16  companyId_COMP9  companyId_COMP32  \\\n",
       "jobId                                                                   \n",
       "JOB1362684407687                 0                0                 0   \n",
       "JOB1362684407688                 0                0                 0   \n",
       "JOB1362684407689                 0                0                 0   \n",
       "JOB1362684407690                 0                0                 0   \n",
       "JOB1362684407691                 0                0                 0   \n",
       "\n",
       "                  companyId_COMP62  companyId_COMP35  companyId_COMP18  \\\n",
       "jobId                                                                    \n",
       "JOB1362684407687                 0                 0                 0   \n",
       "JOB1362684407688                 0                 0                 0   \n",
       "JOB1362684407689                 0                 0                 0   \n",
       "JOB1362684407690                 0                 0                 0   \n",
       "JOB1362684407691                 0                 0                 0   \n",
       "\n",
       "                  companyId_COMP60  \n",
       "jobId                               \n",
       "JOB1362684407687                 0  \n",
       "JOB1362684407688                 0  \n",
       "JOB1362684407689                 0  \n",
       "JOB1362684407690                 0  \n",
       "JOB1362684407691                 0  \n",
       "\n",
       "[5 rows x 95 columns]"
      ]
     },
     "execution_count": 149,
     "metadata": {},
     "output_type": "execute_result"
    }
   ],
   "source": [
    "# because one-hot encoding 50,000 samples takes too long, use 5,000 samples instead\n",
    "example_set = train_df[:5000].copy()\n",
    "one_hot_encode_features(example_set, ['jobType', 'degree', 'major', 'industry', 'companyId']).head(5)"
   ]
  },
  {
   "cell_type": "code",
   "execution_count": 150,
   "metadata": {
    "scrolled": true
   },
   "outputs": [
    {
     "data": {
      "text/plain": [
       "yearsExperience           0.368\n",
       "milesFromMetropolis      -0.299\n",
       "salary                    1.000\n",
       "jobType_CFO               0.171\n",
       "jobType_CEO               0.275\n",
       "jobType_VICE_PRESIDENT    0.097\n",
       "jobType_MANAGER          -0.007\n",
       "jobType_JUNIOR           -0.178\n",
       "jobType_JANITOR          -0.457\n",
       "jobType_CTO               0.201\n",
       "jobType_SENIOR           -0.106\n",
       "degree_MASTERS            0.158\n",
       "degree_HIGH_SCHOOL       -0.195\n",
       "degree_DOCTORAL           0.236\n",
       "degree_BACHELORS          0.122\n",
       "degree_NONE              -0.259\n",
       "major_MATH                0.110\n",
       "major_NONE               -0.366\n",
       "major_PHYSICS             0.092\n",
       "major_CHEMISTRY           0.071\n",
       "major_COMPSCI             0.101\n",
       "major_BIOLOGY             0.058\n",
       "major_LITERATURE          0.044\n",
       "major_BUSINESS            0.155\n",
       "major_ENGINEERING         0.153\n",
       "industry_HEALTH          -0.005\n",
       "industry_WEB              0.079\n",
       "industry_AUTO            -0.063\n",
       "industry_FINANCE          0.156\n",
       "industry_EDUCATION       -0.173\n",
       "industry_OIL              0.153\n",
       "industry_SERVICE         -0.150\n",
       "companyId_COMP37         -0.004\n",
       "companyId_COMP19         -0.038\n",
       "companyId_COMP52         -0.008\n",
       "companyId_COMP38          0.002\n",
       "companyId_COMP7           0.012\n",
       "companyId_COMP15         -0.019\n",
       "companyId_COMP24          0.005\n",
       "companyId_COMP20          0.012\n",
       "Name: salary, dtype: float64"
      ]
     },
     "execution_count": 150,
     "metadata": {},
     "output_type": "execute_result"
    }
   ],
   "source": [
    "# because one-hot encoding 50,000 samples takes too long, use 5,000 samples instead\n",
    "example_set = train_df[:5000].copy()\n",
    "show_corr = 40\n",
    "one_hot_encode_features(example_set, ['jobType', 'degree', 'major', 'industry', 'companyId']).corr()['salary'].iloc[:show_corr]"
   ]
  },
  {
   "cell_type": "markdown",
   "metadata": {},
   "source": [
    "One-Hot encoding is the standard way to transform strings to numericals, but this gives too many features (95 columns) and takes too long to generate. And if we look into the correlation matrix, the maximum negative correlation is jobType_JANITOR with magnitude of 0.457 and positive correlation is 0.368 from yearsExperience, which didn't need to be one-hot encoded. Thus, one-hot encoding doesn't give me strong correlated features.\n",
    "\n",
    "#### Label Encoder\n",
    "This method uses sklearn.preprocessing.LabelEncoder() to assign numerical values starting from 0."
   ]
  },
  {
   "cell_type": "code",
   "execution_count": 151,
   "metadata": {},
   "outputs": [],
   "source": [
    "# TODO: write a class instead: class LabelEncodingFeatures:\n",
    "def label_features(data, features, test=None):\n",
    "    encoder = sklearn.preprocessing.LabelEncoder()\n",
    "    for feature in features:\n",
    "        data[feature] = encoder.fit_transform(data[feature])\n",
    "        if test:\n",
    "            test[feature] = encoder.transform(test[feature])\n",
    "            \n",
    "    if test:\n",
    "        return data, test\n",
    "    else:\n",
    "        return data"
   ]
  },
  {
   "cell_type": "code",
   "execution_count": 152,
   "metadata": {
    "scrolled": true
   },
   "outputs": [
    {
     "data": {
      "text/html": [
       "<div>\n",
       "<style scoped>\n",
       "    .dataframe tbody tr th:only-of-type {\n",
       "        vertical-align: middle;\n",
       "    }\n",
       "\n",
       "    .dataframe tbody tr th {\n",
       "        vertical-align: top;\n",
       "    }\n",
       "\n",
       "    .dataframe thead th {\n",
       "        text-align: right;\n",
       "    }\n",
       "</style>\n",
       "<table border=\"1\" class=\"dataframe\">\n",
       "  <thead>\n",
       "    <tr style=\"text-align: right;\">\n",
       "      <th></th>\n",
       "      <th>companyId</th>\n",
       "      <th>jobType</th>\n",
       "      <th>degree</th>\n",
       "      <th>major</th>\n",
       "      <th>industry</th>\n",
       "      <th>yearsExperience</th>\n",
       "      <th>milesFromMetropolis</th>\n",
       "      <th>salary</th>\n",
       "    </tr>\n",
       "    <tr>\n",
       "      <th>jobId</th>\n",
       "      <th></th>\n",
       "      <th></th>\n",
       "      <th></th>\n",
       "      <th></th>\n",
       "      <th></th>\n",
       "      <th></th>\n",
       "      <th></th>\n",
       "      <th></th>\n",
       "    </tr>\n",
       "  </thead>\n",
       "  <tbody>\n",
       "    <tr>\n",
       "      <th>JOB1362684407687</th>\n",
       "      <td>31</td>\n",
       "      <td>1</td>\n",
       "      <td>3</td>\n",
       "      <td>6</td>\n",
       "      <td>3</td>\n",
       "      <td>10</td>\n",
       "      <td>83</td>\n",
       "      <td>130</td>\n",
       "    </tr>\n",
       "    <tr>\n",
       "      <th>JOB1362684407688</th>\n",
       "      <td>11</td>\n",
       "      <td>0</td>\n",
       "      <td>2</td>\n",
       "      <td>7</td>\n",
       "      <td>6</td>\n",
       "      <td>3</td>\n",
       "      <td>73</td>\n",
       "      <td>101</td>\n",
       "    </tr>\n",
       "    <tr>\n",
       "      <th>JOB1362684407689</th>\n",
       "      <td>48</td>\n",
       "      <td>7</td>\n",
       "      <td>1</td>\n",
       "      <td>8</td>\n",
       "      <td>3</td>\n",
       "      <td>10</td>\n",
       "      <td>38</td>\n",
       "      <td>137</td>\n",
       "    </tr>\n",
       "    <tr>\n",
       "      <th>JOB1362684407690</th>\n",
       "      <td>32</td>\n",
       "      <td>5</td>\n",
       "      <td>1</td>\n",
       "      <td>2</td>\n",
       "      <td>0</td>\n",
       "      <td>8</td>\n",
       "      <td>17</td>\n",
       "      <td>142</td>\n",
       "    </tr>\n",
       "    <tr>\n",
       "      <th>JOB1362684407691</th>\n",
       "      <td>60</td>\n",
       "      <td>7</td>\n",
       "      <td>0</td>\n",
       "      <td>8</td>\n",
       "      <td>2</td>\n",
       "      <td>8</td>\n",
       "      <td>16</td>\n",
       "      <td>163</td>\n",
       "    </tr>\n",
       "  </tbody>\n",
       "</table>\n",
       "</div>"
      ],
      "text/plain": [
       "                  companyId  jobType  degree  major  industry  \\\n",
       "jobId                                                           \n",
       "JOB1362684407687         31        1       3      6         3   \n",
       "JOB1362684407688         11        0       2      7         6   \n",
       "JOB1362684407689         48        7       1      8         3   \n",
       "JOB1362684407690         32        5       1      2         0   \n",
       "JOB1362684407691         60        7       0      8         2   \n",
       "\n",
       "                  yearsExperience  milesFromMetropolis  salary  \n",
       "jobId                                                           \n",
       "JOB1362684407687               10                   83     130  \n",
       "JOB1362684407688                3                   73     101  \n",
       "JOB1362684407689               10                   38     137  \n",
       "JOB1362684407690                8                   17     142  \n",
       "JOB1362684407691                8                   16     163  "
      ]
     },
     "execution_count": 152,
     "metadata": {},
     "output_type": "execute_result"
    }
   ],
   "source": [
    "example_set = train_df[:examples].copy()\n",
    "label_features(example_set, ['jobType', 'degree', 'major', 'industry', 'companyId']).head(5)"
   ]
  },
  {
   "cell_type": "markdown",
   "metadata": {},
   "source": [
    "Following are the correlation scale and matrix:"
   ]
  },
  {
   "cell_type": "code",
   "execution_count": 153,
   "metadata": {},
   "outputs": [
    {
     "name": "stdout",
     "output_type": "stream",
     "text": [
      "companyId             -0.007\n",
      "jobType               -0.232\n",
      "degree                -0.232\n",
      "major                 -0.265\n",
      "industry               0.081\n",
      "yearsExperience        0.374\n",
      "milesFromMetropolis   -0.299\n",
      "salary                 1.000\n",
      "Name: salary, dtype: float64\n"
     ]
    },
    {
     "data": {
      "text/plain": [
       "<AxesSubplot:>"
      ]
     },
     "execution_count": 153,
     "metadata": {},
     "output_type": "execute_result"
    },
    {
     "data": {
      "image/png": "[encoded data removed]",
      "text/plain": [
       "<Figure size 2160x720 with 2 Axes>"
      ]
     },
     "metadata": {
      "needs_background": "light"
     },
     "output_type": "display_data"
    }
   ],
   "source": [
    "example_set = train_df[:examples].copy()\n",
    "correlation = label_features(example_set, ['jobType', 'degree', 'major', 'industry', 'companyId']).corr()\n",
    "\n",
    "print(correlation['salary'])\n",
    "\n",
    "plt.figure(figsize=(30, 10))\n",
    "sns.heatmap(correlation, annot=True, linewidths=0, vmin=-1, cmap=\"RdBu_r\")"
   ]
  },
  {
   "cell_type": "markdown",
   "metadata": {},
   "source": [
    "With Label Encoder:\n",
    "1. No new features\n",
    "2. Except companyId and industry, other features have good correlation with salary\n",
    "3. Except major and degree, other pairs of features are independent from each other\n",
    "\n",
    "This approach looks promissing! Let's see if we can lift the perfomance up a notch with custom Laber Encoder.\n",
    "\n",
    "#### Custom Label Encoder\n",
    "This method uses the ranking of average salary to assign numerical values starting from 1.\n",
    "* Starts from 1 because rank() starts from 1, and I don't want to \"deactivate\" any label of each feature with 0\n",
    "* Average salaries are rounded down, so labels with same average salary will have the same rank\n",
    "* companyId: 63 companies are ranked according to average salary\n",
    "* **jobType**: CEO = 1, CFO = 2, CTO = 2, VP = 4, MANAGER = 5, SENIOR = 6, JUNIOR = 7, JANITOR = 8\n",
    "* **degree**: DOCTORAL = 1, MASTERS = 2, BACHELORS = 3, HIGH_SCHOOL = 4, NONE = 5\n",
    "* **major**: ENGINEERING = 1, BUSINESS = 2, MATH = 3, COMPSCI = 4, PHYSICS = 5, CHEMISTRY = 6, BIOLOGY = 7, LITERATURE = 8, NONE = 9\n",
    "* **industry**: FINANCE = 1, OIL = 1, WEB = 3, HEALTH = 4, AUTO = 5, SERVICE = 6, EDUCATION = 7"
   ]
  },
  {
   "cell_type": "code",
   "execution_count": 157,
   "metadata": {},
   "outputs": [
    {
     "data": {
      "text/html": [
       "<div>\n",
       "<style scoped>\n",
       "    .dataframe tbody tr th:only-of-type {\n",
       "        vertical-align: middle;\n",
       "    }\n",
       "\n",
       "    .dataframe tbody tr th {\n",
       "        vertical-align: top;\n",
       "    }\n",
       "\n",
       "    .dataframe thead th {\n",
       "        text-align: right;\n",
       "    }\n",
       "</style>\n",
       "<table border=\"1\" class=\"dataframe\">\n",
       "  <thead>\n",
       "    <tr style=\"text-align: right;\">\n",
       "      <th></th>\n",
       "      <th>companyId</th>\n",
       "      <th>jobType</th>\n",
       "      <th>degree</th>\n",
       "      <th>major</th>\n",
       "      <th>industry</th>\n",
       "      <th>yearsExperience</th>\n",
       "      <th>milesFromMetropolis</th>\n",
       "      <th>salary</th>\n",
       "    </tr>\n",
       "    <tr>\n",
       "      <th>jobId</th>\n",
       "      <th></th>\n",
       "      <th></th>\n",
       "      <th></th>\n",
       "      <th></th>\n",
       "      <th></th>\n",
       "      <th></th>\n",
       "      <th></th>\n",
       "      <th></th>\n",
       "    </tr>\n",
       "  </thead>\n",
       "  <tbody>\n",
       "    <tr>\n",
       "      <th>JOB1362684407687</th>\n",
       "      <td>115.341</td>\n",
       "      <td>135.459</td>\n",
       "      <td>130.506</td>\n",
       "      <td>133.322</td>\n",
       "      <td>115.743</td>\n",
       "      <td>10</td>\n",
       "      <td>83</td>\n",
       "      <td>130</td>\n",
       "    </tr>\n",
       "    <tr>\n",
       "      <th>JOB1362684407688</th>\n",
       "      <td>115.767</td>\n",
       "      <td>145.313</td>\n",
       "      <td>101.930</td>\n",
       "      <td>102.592</td>\n",
       "      <td>121.652</td>\n",
       "      <td>3</td>\n",
       "      <td>73</td>\n",
       "      <td>101</td>\n",
       "    </tr>\n",
       "    <tr>\n",
       "      <th>JOB1362684407689</th>\n",
       "      <td>116.236</td>\n",
       "      <td>125.371</td>\n",
       "      <td>135.492</td>\n",
       "      <td>130.373</td>\n",
       "      <td>115.743</td>\n",
       "      <td>10</td>\n",
       "      <td>38</td>\n",
       "      <td>137</td>\n",
       "    </tr>\n",
       "    <tr>\n",
       "      <th>JOB1362684407690</th>\n",
       "      <td>116.205</td>\n",
       "      <td>115.370</td>\n",
       "      <td>135.492</td>\n",
       "      <td>129.072</td>\n",
       "      <td>109.443</td>\n",
       "      <td>8</td>\n",
       "      <td>17</td>\n",
       "      <td>142</td>\n",
       "    </tr>\n",
       "    <tr>\n",
       "      <th>JOB1362684407691</th>\n",
       "      <td>115.894</td>\n",
       "      <td>125.371</td>\n",
       "      <td>125.455</td>\n",
       "      <td>130.373</td>\n",
       "      <td>130.752</td>\n",
       "      <td>8</td>\n",
       "      <td>16</td>\n",
       "      <td>163</td>\n",
       "    </tr>\n",
       "  </tbody>\n",
       "</table>\n",
       "</div>"
      ],
      "text/plain": [
       "                  companyId  jobType   degree    major  industry  \\\n",
       "jobId                                                              \n",
       "JOB1362684407687    115.341  135.459  130.506  133.322   115.743   \n",
       "JOB1362684407688    115.767  145.313  101.930  102.592   121.652   \n",
       "JOB1362684407689    116.236  125.371  135.492  130.373   115.743   \n",
       "JOB1362684407690    116.205  115.370  135.492  129.072   109.443   \n",
       "JOB1362684407691    115.894  125.371  125.455  130.373   130.752   \n",
       "\n",
       "                  yearsExperience  milesFromMetropolis  salary  \n",
       "jobId                                                           \n",
       "JOB1362684407687               10                   83     130  \n",
       "JOB1362684407688                3                   73     101  \n",
       "JOB1362684407689               10                   38     137  \n",
       "JOB1362684407690                8                   17     142  \n",
       "JOB1362684407691                8                   16     163  "
      ]
     },
     "metadata": {},
     "output_type": "display_data"
    }
   ],
   "source": [
    "# TODO: write a class instead: class RankFeatures:\n",
    "def rank_features(data, features, test=None):\n",
    "    for feature in features:\n",
    "        group_salary_mean = data.groupby([feature]).salary.describe()['mean']\n",
    "        group_salary_rank = group_salary_mean.rank(ascending=False).astype(int)\n",
    "        group_salary_rank_dict = dict(group_salary_rank)\n",
    "        data[feature] = data[feature].map(group_salary_rank_dict)\n",
    "        if test:\n",
    "            test[feature] = test[feature].map(group_salary_rank_dict)\n",
    "            \n",
    "    if test:\n",
    "        return data, test\n",
    "    else:\n",
    "        return data\n",
    "    \n",
    "\n",
    "def encode_label(df, cols):\n",
    "    #encode the categories using average salary for each category to replace label\n",
    "    categories_dict = {}\n",
    "    for col in cols:\n",
    "        unique_list = df[col].unique()\n",
    "        for cat in unique_list:\n",
    "            categories_dict[cat] = train_df[train_df[col] == cat]['salary'].mean()   \n",
    "        df[col] = df[col].map(categories_dict)\n",
    "    \n",
    "\n",
    "df = train_df.copy()\n",
    "encode_label(df, ['jobType', 'degree', 'major', 'industry', 'companyId'])\n",
    "display(df.head(5))"
   ]
  },
  {
   "cell_type": "code",
   "execution_count": null,
   "metadata": {
    "scrolled": true
   },
   "outputs": [],
   "source": [
    "example_set = train_df[:examples].copy()\n",
    "rank_features(example_set, ['jobType', 'degree', 'major', 'industry', 'companyId']).head(5)"
   ]
  },
  {
   "cell_type": "code",
   "execution_count": 167,
   "metadata": {},
   "outputs": [
    {
     "name": "stdout",
     "output_type": "stream",
     "text": [
      "companyId              0.009\n",
      "jobType                0.597\n",
      "degree                 0.401\n",
      "major                  0.379\n",
      "industry               0.297\n",
      "yearsExperience        0.375\n",
      "milesFromMetropolis   -0.298\n",
      "salary                 1.000\n",
      "Name: salary, dtype: float64\n"
     ]
    },
    {
     "data": {
      "text/plain": [
       "<AxesSubplot:>"
      ]
     },
     "execution_count": 167,
     "metadata": {},
     "output_type": "execute_result"
    },
    {
     "data": {
      "image/png": "[encoded data removed]",
      "text/plain": [
       "<Figure size 1080x720 with 2 Axes>"
      ]
     },
     "metadata": {
      "needs_background": "light"
     },
     "output_type": "display_data"
    }
   ],
   "source": [
    "example_set = train_df[:examples].copy()\n",
    "df = train_df.copy()\n",
    "encode_label(df, ['jobType', 'degree', 'major', 'industry', 'companyId'])\n",
    "correlation = df.corr()\n",
    "\n",
    "print(correlation.salary)\n",
    "\n",
    "plt.figure(figsize=(15, 10))\n",
    "sns.heatmap(correlation, annot=True, vmin=-1, cmap=\"RdBu_r\")"
   ]
  },
  {
   "cell_type": "markdown",
   "metadata": {},
   "source": [
    "From correlation matrix, we observe:\n",
    "1. Correlation matrix of custom Label Encoder looks like correlation matrix of Label Encoder but better\n",
    "2. Between Salary and other features, only companyId has low correlation with salary\n",
    "    * Consider removing companyId\n",
    "3. Between feature to feature, Major and Industry are highly correlated.\n",
    "    * Consider merging Major and Industry to avoid possible noise\n",
    "4. Between two features, pairs other than Major-Industry have low correlation, meaning two features are relatively independent from each other\n",
    "\n",
    "Thus makes it the plausible encoder for our case.\n",
    "\n",
    "### Transform data and test performance\n",
    "Now we've selected our encoder, next is to transform data. From the correlation matrix with custom label encoder, we see some potential options for feature selection:\n",
    "1. Drop companyId\n",
    "2. Merge major or degree\n",
    "\n",
    "We'll perform a quick test with LinearRegression model to see which of the following data transformaiton method yields the least MSE:\n",
    "1. Keep companyId and not merge degree and major\n",
    "2. Drop companyId and not merge degree and major\n",
    "3. Keep companyId and merge degree and major\n",
    "4. Drop companyId and merge degree and major"
   ]
  },
  {
   "cell_type": "code",
   "execution_count": 185,
   "metadata": {},
   "outputs": [],
   "source": [
    "def merge_degree_major(train, test=None):\n",
    "    group_salary_mean_dict = dict(train.groupby(['degree', 'major']).salary.describe()['mean'])\n",
    "\n",
    "    degree_major_rank = []\n",
    "    for i in range(len(train.index)):\n",
    "        degree_major_combination = (train.degree[i], train.major[i])\n",
    "        degree_major_rank.append(group_salary_mean_dict[degree_major_combination])\n",
    "    train['degree_major'] = pd.Series(degree_major_rank, index=train.index)\n",
    "    train = train.drop(columns=['degree', 'major'])\n",
    "    if not test:\n",
    "        return train\n",
    "    \n",
    "    else:\n",
    "        degree_major_rank = []\n",
    "        for i in range(len(test.index)):\n",
    "            degree_major_combination = (test.degree[i], test.major.iloc[i])\n",
    "            degree_major_rank.append(group_salary_mean_dict[degree_major_combination])\n",
    "        test['degree_major'] = pd.Series(degree_major_rank, index=test.index)\n",
    "        test = test.drop(columns=['degree', 'major'])\n",
    "        return train, test"
   ]
  },
  {
   "cell_type": "code",
   "execution_count": 172,
   "metadata": {},
   "outputs": [],
   "source": [
    "def feature_select(to_drop_companyId, to_merge_degree_major, train, test=None):\n",
    "    if test:\n",
    "        train, test = encode_label(train, ['jobType', 'industry'], test)\n",
    "        \n",
    "        if to_drop_companyId:\n",
    "            train = train.drop(columns=['companyId'])\n",
    "            test = test.drop(columns=['companyId'])\n",
    "        else:\n",
    "            train, test = rank_features(train, ['companyId'], test)\n",
    "            \n",
    "        if to_merge_degree_major:\n",
    "            train, test = merge_degree_major(train, test)            \n",
    "        else:\n",
    "            train, test = rank_features(train, ['degree', 'major'], test)\n",
    "            \n",
    "        return train, test\n",
    "\n",
    "    else:\n",
    "        encode_label(train, ['jobType', 'industry'])\n",
    "        \n",
    "        if to_drop_companyId:\n",
    "            train = train.drop(columns=['companyId'])\n",
    "        else:\n",
    "            encode_label(train, ['companyId'])\n",
    "            \n",
    "        if to_merge_degree_major:\n",
    "            train = merge_degree_major(train)\n",
    "        else:\n",
    "            encode_label(train, ['degree', 'major'])\n",
    "            \n",
    "        return train\n",
    "        "
   ]
  },
  {
   "cell_type": "markdown",
   "metadata": {},
   "source": [
    "Now let's quickly test the performance with a simple LinearRegression and with different feature selection methods."
   ]
  },
  {
   "cell_type": "code",
   "execution_count": 186,
   "metadata": {
    "scrolled": true
   },
   "outputs": [
    {
     "name": "stdout",
     "output_type": "stream",
     "text": [
      "-391.33584365192627\n",
      "-391.34331749164886\n",
      "-187.19562129069703\n"
     ]
    },
    {
     "ename": "KeyboardInterrupt",
     "evalue": "",
     "output_type": "error",
     "traceback": [
      "\u001b[1;31m---------------------------------------------------------------------------\u001b[0m",
      "\u001b[1;31mKeyboardInterrupt\u001b[0m                         Traceback (most recent call last)",
      "\u001b[1;32m<ipython-input-186-1e4b97773cad>\u001b[0m in \u001b[0;36m<module>\u001b[1;34m\u001b[0m\n\u001b[0;32m      3\u001b[0m \u001b[0mvalidation_rows\u001b[0m \u001b[1;33m=\u001b[0m \u001b[1;36m5000\u001b[0m\u001b[1;33m\u001b[0m\u001b[1;33m\u001b[0m\u001b[0m\n\u001b[0;32m      4\u001b[0m \u001b[1;32mfor\u001b[0m \u001b[0mcompanyId\u001b[0m\u001b[1;33m,\u001b[0m \u001b[0mdegree_major\u001b[0m \u001b[1;32min\u001b[0m \u001b[0mtest_list\u001b[0m\u001b[1;33m:\u001b[0m\u001b[1;33m\u001b[0m\u001b[1;33m\u001b[0m\u001b[0m\n\u001b[1;32m----> 5\u001b[1;33m     \u001b[0mtrain\u001b[0m \u001b[1;33m=\u001b[0m \u001b[0mfeature_select\u001b[0m\u001b[1;33m(\u001b[0m\u001b[0mto_drop_companyId\u001b[0m\u001b[1;33m=\u001b[0m\u001b[0mcompanyId\u001b[0m\u001b[1;33m,\u001b[0m \u001b[0mto_merge_degree_major\u001b[0m\u001b[1;33m=\u001b[0m\u001b[0mdegree_major\u001b[0m\u001b[1;33m,\u001b[0m \u001b[0mtrain\u001b[0m\u001b[1;33m=\u001b[0m\u001b[0mdata\u001b[0m\u001b[1;33m.\u001b[0m\u001b[0mcopy\u001b[0m\u001b[1;33m(\u001b[0m\u001b[1;33m)\u001b[0m\u001b[1;33m)\u001b[0m\u001b[1;33m\u001b[0m\u001b[1;33m\u001b[0m\u001b[0m\n\u001b[0m\u001b[0;32m      6\u001b[0m \u001b[1;33m\u001b[0m\u001b[0m\n\u001b[0;32m      7\u001b[0m \u001b[1;31m#     valid_f = train.iloc[:validation_rows, :-1]\u001b[0m\u001b[1;33m\u001b[0m\u001b[1;33m\u001b[0m\u001b[1;33m\u001b[0m\u001b[0m\n",
      "\u001b[1;32m<ipython-input-172-2f24efa73bfa>\u001b[0m in \u001b[0;36mfeature_select\u001b[1;34m(to_drop_companyId, to_merge_degree_major, train, test)\u001b[0m\n\u001b[0;32m     25\u001b[0m \u001b[1;33m\u001b[0m\u001b[0m\n\u001b[0;32m     26\u001b[0m         \u001b[1;32mif\u001b[0m \u001b[0mto_merge_degree_major\u001b[0m\u001b[1;33m:\u001b[0m\u001b[1;33m\u001b[0m\u001b[1;33m\u001b[0m\u001b[0m\n\u001b[1;32m---> 27\u001b[1;33m             \u001b[0mtrain\u001b[0m \u001b[1;33m=\u001b[0m \u001b[0mmerge_degree_major\u001b[0m\u001b[1;33m(\u001b[0m\u001b[0mtrain\u001b[0m\u001b[1;33m)\u001b[0m\u001b[1;33m\u001b[0m\u001b[1;33m\u001b[0m\u001b[0m\n\u001b[0m\u001b[0;32m     28\u001b[0m         \u001b[1;32melse\u001b[0m\u001b[1;33m:\u001b[0m\u001b[1;33m\u001b[0m\u001b[1;33m\u001b[0m\u001b[0m\n\u001b[0;32m     29\u001b[0m             \u001b[0mtrain\u001b[0m \u001b[1;33m=\u001b[0m \u001b[0mrank_features\u001b[0m\u001b[1;33m(\u001b[0m\u001b[0mtrain\u001b[0m\u001b[1;33m,\u001b[0m \u001b[1;33m[\u001b[0m\u001b[1;34m'degree'\u001b[0m\u001b[1;33m,\u001b[0m \u001b[1;34m'major'\u001b[0m\u001b[1;33m]\u001b[0m\u001b[1;33m)\u001b[0m\u001b[1;33m\u001b[0m\u001b[1;33m\u001b[0m\u001b[0m\n",
      "\u001b[1;32m<ipython-input-185-8fce196e21da>\u001b[0m in \u001b[0;36mmerge_degree_major\u001b[1;34m(train, test)\u001b[0m\n\u001b[0;32m      4\u001b[0m     \u001b[0mdegree_major_rank\u001b[0m \u001b[1;33m=\u001b[0m \u001b[1;33m[\u001b[0m\u001b[1;33m]\u001b[0m\u001b[1;33m\u001b[0m\u001b[1;33m\u001b[0m\u001b[0m\n\u001b[0;32m      5\u001b[0m     \u001b[1;32mfor\u001b[0m \u001b[0mi\u001b[0m \u001b[1;32min\u001b[0m \u001b[0mrange\u001b[0m\u001b[1;33m(\u001b[0m\u001b[0mlen\u001b[0m\u001b[1;33m(\u001b[0m\u001b[0mtrain\u001b[0m\u001b[1;33m.\u001b[0m\u001b[0mindex\u001b[0m\u001b[1;33m)\u001b[0m\u001b[1;33m)\u001b[0m\u001b[1;33m:\u001b[0m\u001b[1;33m\u001b[0m\u001b[1;33m\u001b[0m\u001b[0m\n\u001b[1;32m----> 6\u001b[1;33m         \u001b[0mdegree_major_combination\u001b[0m \u001b[1;33m=\u001b[0m \u001b[1;33m(\u001b[0m\u001b[0mtrain\u001b[0m\u001b[1;33m.\u001b[0m\u001b[0mdegree\u001b[0m\u001b[1;33m[\u001b[0m\u001b[0mi\u001b[0m\u001b[1;33m]\u001b[0m\u001b[1;33m,\u001b[0m \u001b[0mtrain\u001b[0m\u001b[1;33m.\u001b[0m\u001b[0mmajor\u001b[0m\u001b[1;33m[\u001b[0m\u001b[0mi\u001b[0m\u001b[1;33m]\u001b[0m\u001b[1;33m)\u001b[0m\u001b[1;33m\u001b[0m\u001b[1;33m\u001b[0m\u001b[0m\n\u001b[0m\u001b[0;32m      7\u001b[0m         \u001b[0mdegree_major_rank\u001b[0m\u001b[1;33m.\u001b[0m\u001b[0mappend\u001b[0m\u001b[1;33m(\u001b[0m\u001b[0mgroup_salary_mean_dict\u001b[0m\u001b[1;33m[\u001b[0m\u001b[0mdegree_major_combination\u001b[0m\u001b[1;33m]\u001b[0m\u001b[1;33m)\u001b[0m\u001b[1;33m\u001b[0m\u001b[1;33m\u001b[0m\u001b[0m\n\u001b[0;32m      8\u001b[0m     \u001b[0mtrain\u001b[0m\u001b[1;33m[\u001b[0m\u001b[1;34m'degree_major'\u001b[0m\u001b[1;33m]\u001b[0m \u001b[1;33m=\u001b[0m \u001b[0mpd\u001b[0m\u001b[1;33m.\u001b[0m\u001b[0mSeries\u001b[0m\u001b[1;33m(\u001b[0m\u001b[0mdegree_major_rank\u001b[0m\u001b[1;33m,\u001b[0m \u001b[0mindex\u001b[0m\u001b[1;33m=\u001b[0m\u001b[0mtrain\u001b[0m\u001b[1;33m.\u001b[0m\u001b[0mindex\u001b[0m\u001b[1;33m)\u001b[0m\u001b[1;33m\u001b[0m\u001b[1;33m\u001b[0m\u001b[0m\n",
      "\u001b[1;32m~\\anaconda3\\envs\\tf\\lib\\site-packages\\pandas\\core\\series.py\u001b[0m in \u001b[0;36m__getitem__\u001b[1;34m(self, key)\u001b[0m\n\u001b[0;32m    876\u001b[0m             \u001b[0mkey\u001b[0m \u001b[1;33m=\u001b[0m \u001b[0munpack_1tuple\u001b[0m\u001b[1;33m(\u001b[0m\u001b[0mkey\u001b[0m\u001b[1;33m)\u001b[0m\u001b[1;33m\u001b[0m\u001b[1;33m\u001b[0m\u001b[0m\n\u001b[0;32m    877\u001b[0m \u001b[1;33m\u001b[0m\u001b[0m\n\u001b[1;32m--> 878\u001b[1;33m         \u001b[1;32mif\u001b[0m \u001b[0mis_integer\u001b[0m\u001b[1;33m(\u001b[0m\u001b[0mkey\u001b[0m\u001b[1;33m)\u001b[0m \u001b[1;32mand\u001b[0m \u001b[0mself\u001b[0m\u001b[1;33m.\u001b[0m\u001b[0mindex\u001b[0m\u001b[1;33m.\u001b[0m\u001b[0m_should_fallback_to_positional\u001b[0m\u001b[1;33m(\u001b[0m\u001b[1;33m)\u001b[0m\u001b[1;33m:\u001b[0m\u001b[1;33m\u001b[0m\u001b[1;33m\u001b[0m\u001b[0m\n\u001b[0m\u001b[0;32m    879\u001b[0m             \u001b[1;32mreturn\u001b[0m \u001b[0mself\u001b[0m\u001b[1;33m.\u001b[0m\u001b[0m_values\u001b[0m\u001b[1;33m[\u001b[0m\u001b[0mkey\u001b[0m\u001b[1;33m]\u001b[0m\u001b[1;33m\u001b[0m\u001b[1;33m\u001b[0m\u001b[0m\n\u001b[0;32m    880\u001b[0m \u001b[1;33m\u001b[0m\u001b[0m\n",
      "\u001b[1;32m~\\anaconda3\\envs\\tf\\lib\\site-packages\\pandas\\core\\indexes\\base.py\u001b[0m in \u001b[0;36m_should_fallback_to_positional\u001b[1;34m(self)\u001b[0m\n\u001b[0;32m   4611\u001b[0m         \u001b[0mShould\u001b[0m \u001b[0man\u001b[0m \u001b[0minteger\u001b[0m \u001b[0mkey\u001b[0m \u001b[0mbe\u001b[0m \u001b[0mtreated\u001b[0m \u001b[1;32mas\u001b[0m \u001b[0mpositional\u001b[0m\u001b[0;31m?\u001b[0m\u001b[1;33m\u001b[0m\u001b[1;33m\u001b[0m\u001b[0m\n\u001b[0;32m   4612\u001b[0m         \"\"\"\n\u001b[1;32m-> 4613\u001b[1;33m         \u001b[1;32mif\u001b[0m \u001b[0mself\u001b[0m\u001b[1;33m.\u001b[0m\u001b[0mholds_integer\u001b[0m\u001b[1;33m(\u001b[0m\u001b[1;33m)\u001b[0m \u001b[1;32mor\u001b[0m \u001b[0mself\u001b[0m\u001b[1;33m.\u001b[0m\u001b[0mis_boolean\u001b[0m\u001b[1;33m(\u001b[0m\u001b[1;33m)\u001b[0m\u001b[1;33m:\u001b[0m\u001b[1;33m\u001b[0m\u001b[1;33m\u001b[0m\u001b[0m\n\u001b[0m\u001b[0;32m   4614\u001b[0m             \u001b[1;32mreturn\u001b[0m \u001b[1;32mFalse\u001b[0m\u001b[1;33m\u001b[0m\u001b[1;33m\u001b[0m\u001b[0m\n\u001b[0;32m   4615\u001b[0m         \u001b[1;32mreturn\u001b[0m \u001b[1;32mTrue\u001b[0m\u001b[1;33m\u001b[0m\u001b[1;33m\u001b[0m\u001b[0m\n",
      "\u001b[1;32m~\\anaconda3\\envs\\tf\\lib\\site-packages\\pandas\\core\\indexes\\base.py\u001b[0m in \u001b[0;36mis_boolean\u001b[1;34m(self)\u001b[0m\n\u001b[0;32m   1677\u001b[0m         \u001b[1;32mreturn\u001b[0m \u001b[1;32mnot\u001b[0m \u001b[0mself\u001b[0m\u001b[1;33m.\u001b[0m\u001b[0mis_unique\u001b[0m\u001b[1;33m\u001b[0m\u001b[1;33m\u001b[0m\u001b[0m\n\u001b[0;32m   1678\u001b[0m \u001b[1;33m\u001b[0m\u001b[0m\n\u001b[1;32m-> 1679\u001b[1;33m     \u001b[1;32mdef\u001b[0m \u001b[0mis_boolean\u001b[0m\u001b[1;33m(\u001b[0m\u001b[0mself\u001b[0m\u001b[1;33m)\u001b[0m \u001b[1;33m->\u001b[0m \u001b[0mbool\u001b[0m\u001b[1;33m:\u001b[0m\u001b[1;33m\u001b[0m\u001b[1;33m\u001b[0m\u001b[0m\n\u001b[0m\u001b[0;32m   1680\u001b[0m         \"\"\"\n\u001b[0;32m   1681\u001b[0m         \u001b[0mCheck\u001b[0m \u001b[1;32mif\u001b[0m \u001b[0mthe\u001b[0m \u001b[0mIndex\u001b[0m \u001b[0monly\u001b[0m \u001b[0mconsists\u001b[0m \u001b[0mof\u001b[0m \u001b[0mbooleans\u001b[0m\u001b[1;33m.\u001b[0m\u001b[1;33m\u001b[0m\u001b[1;33m\u001b[0m\u001b[0m\n",
      "\u001b[1;31mKeyboardInterrupt\u001b[0m: "
     ]
    }
   ],
   "source": [
    "train_df = data.copy()\n",
    "test_list = [(False, False), (True, False), (False, True), (True, True)]\n",
    "validation_rows = 5000\n",
    "for companyId, degree_major in test_list:\n",
    "    train = feature_select(to_drop_companyId=companyId, to_merge_degree_major=degree_major, train=data.copy())\n",
    "\n",
    "#     valid_f = train.iloc[:validation_rows, :-1]\n",
    "#     valid_s = train.iloc[:validation_rows, -1].values.astype(float)\n",
    "#     train_f = train.drop(index=train.index[:validation_rows])\n",
    "#     train_s = train_f.pop('salary')\n",
    "\n",
    "#     model = LinearRegression()\n",
    "    regression.score = sklearn.model_selection.cross_val_score(LinearRegression(), train.iloc[:,:-1], train.iloc[:,-1], scoring=\"neg_mean_squared_error\")\n",
    "    regression_mse = -1.0 * regression.score.mean()\n",
    "    print(-1*regression_mse)\n",
    "#     model.fit(train_f, train_s)\n",
    "#     valid_pred = model.predict(valid_f)\n",
    "#     mse = mean_squared_error(valid_s, valid_pred)\n",
    "#     mae = mean_absolute_error(valid_s, valid_pred)\n",
    "#     print(\"to_drop_companyId=%s, to_merge_degree_major=%s:\\tMSE=%.3f\\tMAE=%.3f\" % (companyId, degree_major, mse, mae))"
   ]
  },
  {
   "cell_type": "code",
   "execution_count": 176,
   "metadata": {},
   "outputs": [
    {
     "name": "stdout",
     "output_type": "stream",
     "text": [
      "LinearRegression - MSE: 399.15923614878346\n"
     ]
    }
   ],
   "source": [
    "df = train_df.copy()\n",
    "encode_label(df, ['companyId', 'jobType', 'degree', 'major', 'industry'])\n",
    "regression = LinearRegression().fit(df.drop('salary', axis=1), df['salary'])\n",
    "#then measure MSE during 5-fold cross-validation\n",
    "regression.score = sklearn.model_selection.cross_val_score(regression, df.drop('salary', axis=1), df['salary'], scoring=\"neg_mean_squared_error\")\n",
    "regression_mse = -1.0 * regression.score.mean()\n",
    "print(\"LinearRegression - MSE:\", regression_mse)"
   ]
  },
  {
   "cell_type": "markdown",
   "metadata": {},
   "source": [
    "Seems like toggling to_drop_companyId gives same result, thus might as well remove companyId to improve training time. And not merging degree and major performs better than merging. Thus we'll remove companyId and keep major and degree as is."
   ]
  },
  {
   "cell_type": "markdown",
   "metadata": {},
   "source": [
    "## Split data"
   ]
  },
  {
   "cell_type": "code",
   "execution_count": 16,
   "metadata": {},
   "outputs": [
    {
     "name": "stdout",
     "output_type": "stream",
     "text": [
      "(949809, 6) (50000, 6)\n",
      "(949809,) (50000,)\n"
     ]
    }
   ],
   "source": [
    "# train_df = data.copy()\n",
    "validation_rows = 50000\n",
    "train = feature_select(to_drop_companyId=True, to_merge_degree_major=False, train=train_df.copy())\n",
    "\n",
    "valid_f = train.iloc[:validation_rows, :-1]\n",
    "valid_s = train.iloc[:validation_rows, -1].values.astype(float)\n",
    "train_f = train.drop(index=train.index[:validation_rows])\n",
    "train_s = train_f.pop('salary')\n",
    "\n",
    "print(train_f.shape, valid_f.shape)\n",
    "print(train_s.shape, valid_s.shape)"
   ]
  },
  {
   "cell_type": "code",
   "execution_count": 30,
   "metadata": {},
   "outputs": [
    {
     "data": {
      "text/html": [
       "<div>\n",
       "<style scoped>\n",
       "    .dataframe tbody tr th:only-of-type {\n",
       "        vertical-align: middle;\n",
       "    }\n",
       "\n",
       "    .dataframe tbody tr th {\n",
       "        vertical-align: top;\n",
       "    }\n",
       "\n",
       "    .dataframe thead th {\n",
       "        text-align: right;\n",
       "    }\n",
       "</style>\n",
       "<table border=\"1\" class=\"dataframe\">\n",
       "  <thead>\n",
       "    <tr style=\"text-align: right;\">\n",
       "      <th></th>\n",
       "      <th>companyId</th>\n",
       "      <th>jobType</th>\n",
       "      <th>degree</th>\n",
       "      <th>major</th>\n",
       "      <th>industry</th>\n",
       "      <th>yearsExperience</th>\n",
       "      <th>milesFromMetropolis</th>\n",
       "      <th>salary</th>\n",
       "    </tr>\n",
       "    <tr>\n",
       "      <th>jobId</th>\n",
       "      <th></th>\n",
       "      <th></th>\n",
       "      <th></th>\n",
       "      <th></th>\n",
       "      <th></th>\n",
       "      <th></th>\n",
       "      <th></th>\n",
       "      <th></th>\n",
       "    </tr>\n",
       "  </thead>\n",
       "  <tbody>\n",
       "    <tr>\n",
       "      <th>JOB1362684407687</th>\n",
       "      <td>COMP37</td>\n",
       "      <td>CFO</td>\n",
       "      <td>MASTERS</td>\n",
       "      <td>MATH</td>\n",
       "      <td>HEALTH</td>\n",
       "      <td>10</td>\n",
       "      <td>83</td>\n",
       "      <td>130</td>\n",
       "    </tr>\n",
       "    <tr>\n",
       "      <th>JOB1362684407688</th>\n",
       "      <td>COMP19</td>\n",
       "      <td>CEO</td>\n",
       "      <td>HIGH_SCHOOL</td>\n",
       "      <td>NONE</td>\n",
       "      <td>WEB</td>\n",
       "      <td>3</td>\n",
       "      <td>73</td>\n",
       "      <td>101</td>\n",
       "    </tr>\n",
       "    <tr>\n",
       "      <th>JOB1362684407689</th>\n",
       "      <td>COMP52</td>\n",
       "      <td>VICE_PRESIDENT</td>\n",
       "      <td>DOCTORAL</td>\n",
       "      <td>PHYSICS</td>\n",
       "      <td>HEALTH</td>\n",
       "      <td>10</td>\n",
       "      <td>38</td>\n",
       "      <td>137</td>\n",
       "    </tr>\n",
       "  </tbody>\n",
       "</table>\n",
       "</div>"
      ],
      "text/plain": [
       "                 companyId         jobType       degree    major industry  \\\n",
       "jobId                                                                       \n",
       "JOB1362684407687    COMP37             CFO      MASTERS     MATH   HEALTH   \n",
       "JOB1362684407688    COMP19             CEO  HIGH_SCHOOL     NONE      WEB   \n",
       "JOB1362684407689    COMP52  VICE_PRESIDENT     DOCTORAL  PHYSICS   HEALTH   \n",
       "\n",
       "                  yearsExperience  milesFromMetropolis  salary  \n",
       "jobId                                                           \n",
       "JOB1362684407687               10                   83     130  \n",
       "JOB1362684407688                3                   73     101  \n",
       "JOB1362684407689               10                   38     137  "
      ]
     },
     "metadata": {},
     "output_type": "display_data"
    },
    {
     "name": "stdout",
     "output_type": "stream",
     "text": [
      "(999809, 8)\n",
      "<class 'pandas.core.frame.DataFrame'>\n",
      "Index: 999809 entries, JOB1362684407687 to JOB1362685407686\n",
      "Data columns (total 8 columns):\n",
      " #   Column               Non-Null Count   Dtype \n",
      "---  ------               --------------   ----- \n",
      " 0   companyId            999809 non-null  object\n",
      " 1   jobType              999809 non-null  object\n",
      " 2   degree               999809 non-null  object\n",
      " 3   major                999809 non-null  object\n",
      " 4   industry             999809 non-null  object\n",
      " 5   yearsExperience      999809 non-null  int64 \n",
      " 6   milesFromMetropolis  999809 non-null  int64 \n",
      " 7   salary               999809 non-null  int64 \n",
      "dtypes: int64(3), object(5)\n",
      "memory usage: 68.7+ MB\n"
     ]
    },
    {
     "data": {
      "text/plain": [
       "None"
      ]
     },
     "metadata": {},
     "output_type": "display_data"
    }
   ],
   "source": [
    "display(train_df.head(3))\n",
    "print(train_df.shape)\n",
    "display(train_df.info())"
   ]
  },
  {
   "cell_type": "markdown",
   "metadata": {},
   "source": [
    "## Create models"
   ]
  },
  {
   "cell_type": "markdown",
   "metadata": {},
   "source": [
    "### Baseline model\n",
    "Create a naive model and measure its efficiency as my performance metrics baseline. I'm using average salary for each industry as my baseline model."
   ]
  },
  {
   "cell_type": "code",
   "execution_count": 50,
   "metadata": {},
   "outputs": [
    {
     "name": "stdout",
     "output_type": "stream",
     "text": [
      "Baseline: MSE=1370.681\tMAE=29.663\n"
     ]
    }
   ],
   "source": [
    "baseline_pred = []\n",
    "industry_salary_mean = train_df.groupby(['industry']).describe()['salary']['mean']\n",
    "baseline_true = train_df['salary'].values.astype(float)\n",
    "\n",
    "for i in range(len(train_df.index)):\n",
    "    industry = train_df['industry'].iloc[i]\n",
    "    baseline_pred.append(industry_salary_mean.loc[industry])\n",
    "\n",
    "mse = mean_squared_error(baseline_true, baseline_pred)\n",
    "mae = mean_absolute_error(baseline_true, baseline_pred)\n",
    "print(\"Baseline: MSE=%.3f\\tMAE=%.3f\" % (mse, mae))"
   ]
  },
  {
   "cell_type": "markdown",
   "metadata": {},
   "source": [
    "### Regression and ensamble models"
   ]
  },
  {
   "cell_type": "code",
   "execution_count": 18,
   "metadata": {
    "scrolled": true
   },
   "outputs": [
    {
     "name": "stdout",
     "output_type": "stream",
     "text": [
      "LR:\tMSE=393.073\tMAE=16.004\n",
      "LASSO:\tMSE=393.682\tMAE=16.023\n",
      "EN:\tMSE=399.967\tMAE=16.181\n",
      "CART:\tMSE=656.987\tMAE=19.898\n",
      "RF:\tMSE=447.204\tMAE=16.807\n",
      "AB:\tMSE=532.805\tMAE=19.321\n",
      "GBR:\tMSE=366.553\tMAE=15.506\n",
      "RF:\tMSE=447.583\tMAE=16.817\n",
      "ET:\tMSE=519.517\tMAE=17.920\n"
     ]
    }
   ],
   "source": [
    "model_list = [('LR', LinearRegression()), \n",
    "              ('LASSO', Lasso()), \n",
    "              ('EN', ElasticNet()), \n",
    "              ('CART', DecisionTreeRegressor()),\n",
    "              (\"RF\", RandomForestRegressor()),\n",
    "              ## Boosting\n",
    "              ('AB', AdaBoostRegressor()), \n",
    "              ('GBR', GradientBoostingRegressor()), \n",
    "              ## Bagging\n",
    "              ('RF', RandomForestRegressor()), \n",
    "              ('ET', ExtraTreesRegressor())]\n",
    "\n",
    "for name, model in model_list:\n",
    "    model.fit(train_f, train_s)\n",
    "    valid_pred = model.predict(valid_f)\n",
    "    mse = mean_squared_error(valid_s, valid_pred)\n",
    "    mae = mean_absolute_error(valid_s, valid_pred)\n",
    "    print(\"%s:\\tMSE=%.3f\\tMAE=%.3f\" % (name, mse, mae))\n",
    "\n",
    "# LR:\tMSE=393.073\tMAE=16.004\n",
    "# LASSO:\tMSE=393.682\tMAE=16.023\n",
    "# EN:\tMSE=399.967\tMAE=16.181\n",
    "# CART:\tMSE=656.987\tMAE=19.898\n",
    "# RF:\tMSE=447.204\tMAE=16.807\n",
    "# AB:\tMSE=532.805\tMAE=19.321\n",
    "# GBR:\tMSE=366.553\tMAE=15.506\n",
    "# RF:\tMSE=447.583\tMAE=16.817\n",
    "# ET:\tMSE=519.517\tMAE=17.920"
   ]
  },
  {
   "cell_type": "markdown",
   "metadata": {},
   "source": [
    "Pick the best models that have lower MSE: LinearRegression, Lasso, ElasticNet, and GradientBoostingRegressor. Tune hyperparameters and other adjustments to improve performance.\n",
    "\n",
    "### Scalng"
   ]
  },
  {
   "cell_type": "code",
   "execution_count": 20,
   "metadata": {},
   "outputs": [
    {
     "name": "stdout",
     "output_type": "stream",
     "text": [
      "scaledLR:\tMSE=393.073\tMAE=16.004\n",
      "scaledLASSO:\tMSE=397.280\tMAE=16.087\n",
      "scaledEN:\tMSE=507.076\tMAE=18.216\n",
      "scaledGBR:\tMSE=366.553\tMAE=15.506\n"
     ]
    }
   ],
   "source": [
    "model_list = [(\"scaledLR\",    Pipeline([(\"Scaler\", StandardScaler()), (\"LR\", LinearRegression())])),\n",
    "              (\"scaledLASSO\", Pipeline([(\"Scaler\", StandardScaler()), (\"LASSO\", Lasso())])),\n",
    "              (\"scaledEN\",    Pipeline([(\"Scaler\", StandardScaler()), (\"EN\", ElasticNet())])),\n",
    "              (\"scaledGBR\",   Pipeline([(\"Scaler\", StandardScaler()), (\"GBR\", GradientBoostingRegressor())]))]\n",
    "\n",
    "for name, model in model_list:\n",
    "    model.fit(train_f, train_s)\n",
    "    valid_pred = model.predict(valid_f)\n",
    "    mse = mean_squared_error(valid_s, valid_pred)\n",
    "    mae = mean_absolute_error(valid_s, valid_pred)\n",
    "    print(\"%s:\\tMSE=%.3f\\tMAE=%.3f\" % (name, mse, mae))\n",
    "\n",
    "# scaledLR:\tMSE=393.073\tMAE=16.004\n",
    "# scaledLASSO:\tMSE=397.280\tMAE=16.087\n",
    "# scaledEN:\tMSE=507.076\tMAE=18.216\n",
    "# scaledGBR:\tMSE=366.553\tMAE=15.506"
   ]
  },
  {
   "cell_type": "markdown",
   "metadata": {},
   "source": [
    "Standardize the data doesn't improve the performance. Let's try tuning hyperparameters.\n",
    "\n",
    "### Tuning\n",
    "#### Gradient Boosting Regressor"
   ]
  },
  {
   "cell_type": "code",
   "execution_count": 22,
   "metadata": {},
   "outputs": [
    {
     "name": "stdout",
     "output_type": "stream",
     "text": [
      "(50, lad, 0.100):\tMSE=395.816\tMAE=15.894\n",
      "(50, lad, 0.010):\tMSE=1024.709\tMAE=25.367\n",
      "(50, huber, 0.100):\tMSE=392.731\tMAE=15.918\n",
      "(50, huber, 0.010):\tMSE=1021.534\tMAE=25.427\n",
      "(150, lad, 0.100):\tMSE=365.515\tMAE=15.470\n",
      "(150, lad, 0.010):\tMSE=652.050\tMAE=20.138\n",
      "(150, huber, 0.100):\tMSE=364.466\tMAE=15.459\n",
      "(150, huber, 0.010):\tMSE=645.996\tMAE=20.241\n",
      "(250, lad, 0.100):\tMSE=363.939\tMAE=15.447\n",
      "(250, lad, 0.010):\tMSE=508.796\tMAE=17.784\n",
      "(250, huber, 0.100):\tMSE=362.520\tMAE=15.429\n",
      "(250, huber, 0.010):\tMSE=502.098\tMAE=17.882\n",
      "(350, lad, 0.100):\tMSE=362.835\tMAE=15.430\n",
      "(350, lad, 0.010):\tMSE=442.252\tMAE=16.648\n",
      "(350, huber, 0.100):\tMSE=361.511\tMAE=15.411\n",
      "(350, huber, 0.010):\tMSE=436.436\tMAE=16.720\n"
     ]
    }
   ],
   "source": [
    "n_estimators_list = [50, 150, 250, 350]\n",
    "loss_list = ['lad', 'huber']\n",
    "learning_rate_list = [0.1, 0.01]\n",
    "\n",
    "for ne in n_estimators_list:\n",
    "    for loss in loss_list:\n",
    "        for lr in learning_rate_list:\n",
    "            model = GradientBoostingRegressor(n_estimators=ne, loss=loss, learning_rate=lr)\n",
    "            model.fit(train_f, train_s)\n",
    "            valid_pred = model.predict(valid_f)\n",
    "            mse = mean_squared_error(valid_s, valid_pred)\n",
    "            mae = mean_absolute_error(valid_s, valid_pred)\n",
    "            print(\"(%d, %s, %.3f):\\tMSE=%.3f\\tMAE=%.3f\" % (ne, loss, lr, mse, mae))"
   ]
  },
  {
   "cell_type": "code",
   "execution_count": 24,
   "metadata": {
    "scrolled": true
   },
   "outputs": [
    {
     "name": "stdout",
     "output_type": "stream",
     "text": [
      "(300, 0.100, 6):\tMSE=357.166\tMAE=15.338\n",
      "(300, 0.100, 8):\tMSE=359.951\tMAE=15.371\n",
      "(300, 0.100, 10):\tMSE=368.700\tMAE=15.494\n",
      "(300, 0.130, 6):\tMSE=357.796\tMAE=15.351\n"
     ]
    },
    {
     "ename": "KeyboardInterrupt",
     "evalue": "",
     "output_type": "error",
     "traceback": [
      "\u001b[1;31m---------------------------------------------------------------------------\u001b[0m",
      "\u001b[1;31mKeyboardInterrupt\u001b[0m                         Traceback (most recent call last)",
      "\u001b[1;32m<ipython-input-24-683b0b5487c9>\u001b[0m in \u001b[0;36m<module>\u001b[1;34m\u001b[0m\n\u001b[0;32m      7\u001b[0m         \u001b[1;32mfor\u001b[0m \u001b[0mmd\u001b[0m \u001b[1;32min\u001b[0m \u001b[0mmax_depth_list\u001b[0m\u001b[1;33m:\u001b[0m\u001b[1;33m\u001b[0m\u001b[1;33m\u001b[0m\u001b[0m\n\u001b[0;32m      8\u001b[0m             \u001b[0mmodel\u001b[0m \u001b[1;33m=\u001b[0m \u001b[0mGradientBoostingRegressor\u001b[0m\u001b[1;33m(\u001b[0m\u001b[0mn_estimators\u001b[0m\u001b[1;33m=\u001b[0m\u001b[0mne\u001b[0m\u001b[1;33m,\u001b[0m \u001b[0mloss\u001b[0m\u001b[1;33m=\u001b[0m\u001b[1;34m'huber'\u001b[0m\u001b[1;33m,\u001b[0m \u001b[0mlearning_rate\u001b[0m\u001b[1;33m=\u001b[0m\u001b[0mlr\u001b[0m\u001b[1;33m,\u001b[0m \u001b[0mmax_depth\u001b[0m\u001b[1;33m=\u001b[0m\u001b[0mmd\u001b[0m\u001b[1;33m)\u001b[0m\u001b[1;33m\u001b[0m\u001b[1;33m\u001b[0m\u001b[0m\n\u001b[1;32m----> 9\u001b[1;33m             \u001b[0mmodel\u001b[0m\u001b[1;33m.\u001b[0m\u001b[0mfit\u001b[0m\u001b[1;33m(\u001b[0m\u001b[0mtrain_f\u001b[0m\u001b[1;33m,\u001b[0m \u001b[0mtrain_s\u001b[0m\u001b[1;33m)\u001b[0m\u001b[1;33m\u001b[0m\u001b[1;33m\u001b[0m\u001b[0m\n\u001b[0m\u001b[0;32m     10\u001b[0m             \u001b[0mvalid_pred\u001b[0m \u001b[1;33m=\u001b[0m \u001b[0mmodel\u001b[0m\u001b[1;33m.\u001b[0m\u001b[0mpredict\u001b[0m\u001b[1;33m(\u001b[0m\u001b[0mvalid_f\u001b[0m\u001b[1;33m)\u001b[0m\u001b[1;33m\u001b[0m\u001b[1;33m\u001b[0m\u001b[0m\n\u001b[0;32m     11\u001b[0m             \u001b[0mmse\u001b[0m \u001b[1;33m=\u001b[0m \u001b[0mmean_squared_error\u001b[0m\u001b[1;33m(\u001b[0m\u001b[0mvalid_s\u001b[0m\u001b[1;33m,\u001b[0m \u001b[0mvalid_pred\u001b[0m\u001b[1;33m)\u001b[0m\u001b[1;33m\u001b[0m\u001b[1;33m\u001b[0m\u001b[0m\n",
      "\u001b[1;32m~\\anaconda3\\envs\\tf\\lib\\site-packages\\sklearn\\ensemble\\_gb.py\u001b[0m in \u001b[0;36mfit\u001b[1;34m(self, X, y, sample_weight, monitor)\u001b[0m\n\u001b[0;32m    498\u001b[0m         n_stages = self._fit_stages(\n\u001b[0;32m    499\u001b[0m             \u001b[0mX\u001b[0m\u001b[1;33m,\u001b[0m \u001b[0my\u001b[0m\u001b[1;33m,\u001b[0m \u001b[0mraw_predictions\u001b[0m\u001b[1;33m,\u001b[0m \u001b[0msample_weight\u001b[0m\u001b[1;33m,\u001b[0m \u001b[0mself\u001b[0m\u001b[1;33m.\u001b[0m\u001b[0m_rng\u001b[0m\u001b[1;33m,\u001b[0m \u001b[0mX_val\u001b[0m\u001b[1;33m,\u001b[0m \u001b[0my_val\u001b[0m\u001b[1;33m,\u001b[0m\u001b[1;33m\u001b[0m\u001b[1;33m\u001b[0m\u001b[0m\n\u001b[1;32m--> 500\u001b[1;33m             sample_weight_val, begin_at_stage, monitor, X_idx_sorted)\n\u001b[0m\u001b[0;32m    501\u001b[0m \u001b[1;33m\u001b[0m\u001b[0m\n\u001b[0;32m    502\u001b[0m         \u001b[1;31m# change shape of arrays after fit (early-stopping or additional ests)\u001b[0m\u001b[1;33m\u001b[0m\u001b[1;33m\u001b[0m\u001b[1;33m\u001b[0m\u001b[0m\n",
      "\u001b[1;32m~\\anaconda3\\envs\\tf\\lib\\site-packages\\sklearn\\ensemble\\_gb.py\u001b[0m in \u001b[0;36m_fit_stages\u001b[1;34m(self, X, y, raw_predictions, sample_weight, random_state, X_val, y_val, sample_weight_val, begin_at_stage, monitor, X_idx_sorted)\u001b[0m\n\u001b[0;32m    555\u001b[0m             raw_predictions = self._fit_stage(\n\u001b[0;32m    556\u001b[0m                 \u001b[0mi\u001b[0m\u001b[1;33m,\u001b[0m \u001b[0mX\u001b[0m\u001b[1;33m,\u001b[0m \u001b[0my\u001b[0m\u001b[1;33m,\u001b[0m \u001b[0mraw_predictions\u001b[0m\u001b[1;33m,\u001b[0m \u001b[0msample_weight\u001b[0m\u001b[1;33m,\u001b[0m \u001b[0msample_mask\u001b[0m\u001b[1;33m,\u001b[0m\u001b[1;33m\u001b[0m\u001b[1;33m\u001b[0m\u001b[0m\n\u001b[1;32m--> 557\u001b[1;33m                 random_state, X_idx_sorted, X_csc, X_csr)\n\u001b[0m\u001b[0;32m    558\u001b[0m \u001b[1;33m\u001b[0m\u001b[0m\n\u001b[0;32m    559\u001b[0m             \u001b[1;31m# track deviance (= loss)\u001b[0m\u001b[1;33m\u001b[0m\u001b[1;33m\u001b[0m\u001b[1;33m\u001b[0m\u001b[0m\n",
      "\u001b[1;32m~\\anaconda3\\envs\\tf\\lib\\site-packages\\sklearn\\ensemble\\_gb.py\u001b[0m in \u001b[0;36m_fit_stage\u001b[1;34m(self, i, X, y, raw_predictions, sample_weight, sample_mask, random_state, X_idx_sorted, X_csc, X_csr)\u001b[0m\n\u001b[0;32m    210\u001b[0m             \u001b[0mX\u001b[0m \u001b[1;33m=\u001b[0m \u001b[0mX_csr\u001b[0m \u001b[1;32mif\u001b[0m \u001b[0mX_csr\u001b[0m \u001b[1;32mis\u001b[0m \u001b[1;32mnot\u001b[0m \u001b[1;32mNone\u001b[0m \u001b[1;32melse\u001b[0m \u001b[0mX\u001b[0m\u001b[1;33m\u001b[0m\u001b[1;33m\u001b[0m\u001b[0m\n\u001b[0;32m    211\u001b[0m             tree.fit(X, residual, sample_weight=sample_weight,\n\u001b[1;32m--> 212\u001b[1;33m                      check_input=False, X_idx_sorted=X_idx_sorted)\n\u001b[0m\u001b[0;32m    213\u001b[0m \u001b[1;33m\u001b[0m\u001b[0m\n\u001b[0;32m    214\u001b[0m             \u001b[1;31m# update tree leaves\u001b[0m\u001b[1;33m\u001b[0m\u001b[1;33m\u001b[0m\u001b[1;33m\u001b[0m\u001b[0m\n",
      "\u001b[1;32m~\\anaconda3\\envs\\tf\\lib\\site-packages\\sklearn\\tree\\_classes.py\u001b[0m in \u001b[0;36mfit\u001b[1;34m(self, X, y, sample_weight, check_input, X_idx_sorted)\u001b[0m\n\u001b[0;32m   1244\u001b[0m             \u001b[0msample_weight\u001b[0m\u001b[1;33m=\u001b[0m\u001b[0msample_weight\u001b[0m\u001b[1;33m,\u001b[0m\u001b[1;33m\u001b[0m\u001b[1;33m\u001b[0m\u001b[0m\n\u001b[0;32m   1245\u001b[0m             \u001b[0mcheck_input\u001b[0m\u001b[1;33m=\u001b[0m\u001b[0mcheck_input\u001b[0m\u001b[1;33m,\u001b[0m\u001b[1;33m\u001b[0m\u001b[1;33m\u001b[0m\u001b[0m\n\u001b[1;32m-> 1246\u001b[1;33m             X_idx_sorted=X_idx_sorted)\n\u001b[0m\u001b[0;32m   1247\u001b[0m         \u001b[1;32mreturn\u001b[0m \u001b[0mself\u001b[0m\u001b[1;33m\u001b[0m\u001b[1;33m\u001b[0m\u001b[0m\n\u001b[0;32m   1248\u001b[0m \u001b[1;33m\u001b[0m\u001b[0m\n",
      "\u001b[1;32m~\\anaconda3\\envs\\tf\\lib\\site-packages\\sklearn\\tree\\_classes.py\u001b[0m in \u001b[0;36mfit\u001b[1;34m(self, X, y, sample_weight, check_input, X_idx_sorted)\u001b[0m\n\u001b[0;32m    373\u001b[0m                                            min_impurity_split)\n\u001b[0;32m    374\u001b[0m \u001b[1;33m\u001b[0m\u001b[0m\n\u001b[1;32m--> 375\u001b[1;33m         \u001b[0mbuilder\u001b[0m\u001b[1;33m.\u001b[0m\u001b[0mbuild\u001b[0m\u001b[1;33m(\u001b[0m\u001b[0mself\u001b[0m\u001b[1;33m.\u001b[0m\u001b[0mtree_\u001b[0m\u001b[1;33m,\u001b[0m \u001b[0mX\u001b[0m\u001b[1;33m,\u001b[0m \u001b[0my\u001b[0m\u001b[1;33m,\u001b[0m \u001b[0msample_weight\u001b[0m\u001b[1;33m,\u001b[0m \u001b[0mX_idx_sorted\u001b[0m\u001b[1;33m)\u001b[0m\u001b[1;33m\u001b[0m\u001b[1;33m\u001b[0m\u001b[0m\n\u001b[0m\u001b[0;32m    376\u001b[0m \u001b[1;33m\u001b[0m\u001b[0m\n\u001b[0;32m    377\u001b[0m         \u001b[1;32mif\u001b[0m \u001b[0mself\u001b[0m\u001b[1;33m.\u001b[0m\u001b[0mn_outputs_\u001b[0m \u001b[1;33m==\u001b[0m \u001b[1;36m1\u001b[0m \u001b[1;32mand\u001b[0m \u001b[0mis_classifier\u001b[0m\u001b[1;33m(\u001b[0m\u001b[0mself\u001b[0m\u001b[1;33m)\u001b[0m\u001b[1;33m:\u001b[0m\u001b[1;33m\u001b[0m\u001b[1;33m\u001b[0m\u001b[0m\n",
      "\u001b[1;31mKeyboardInterrupt\u001b[0m: "
     ]
    }
   ],
   "source": [
    "n_estimators_list = [300, 400]\n",
    "learning_rate_list = [0.1, 0.13]\n",
    "max_depth_list = [6, 8, 10]\n",
    "\n",
    "for ne in n_estimators_list:\n",
    "    for lr in learning_rate_list:\n",
    "        for md in max_depth_list:\n",
    "            model = GradientBoostingRegressor(n_estimators=ne, loss='huber', learning_rate=lr, max_depth=md)\n",
    "            model.fit(train_f, train_s)\n",
    "            valid_pred = model.predict(valid_f)\n",
    "            mse = mean_squared_error(valid_s, valid_pred)\n",
    "            mae = mean_absolute_error(valid_s, valid_pred)\n",
    "            print(\"(%d, %.3f, %d):\\tMSE=%.3f\\tMAE=%.3f\" % (ne, lr, md, mse, mae))"
   ]
  },
  {
   "cell_type": "markdown",
   "metadata": {},
   "source": [
    "## Deploy solution"
   ]
  },
  {
   "cell_type": "code",
   "execution_count": null,
   "metadata": {},
   "outputs": [],
   "source": [
    "predictions = model.predict(test_features).round(3)\n",
    "test_salary = pd.DataFrame(predictions, index=test_features.index)\n",
    "test_salary.to_csv(os.path.join(\"data\", \"test_salary_prediction.csv\"))"
   ]
  },
  {
   "cell_type": "code",
   "execution_count": null,
   "metadata": {},
   "outputs": [],
   "source": []
  },
  {
   "cell_type": "code",
   "execution_count": null,
   "metadata": {},
   "outputs": [],
   "source": []
  },
  {
   "cell_type": "code",
   "execution_count": null,
   "metadata": {},
   "outputs": [],
   "source": []
  },
  {
   "cell_type": "code",
   "execution_count": null,
   "metadata": {},
   "outputs": [],
   "source": []
  },
  {
   "cell_type": "code",
   "execution_count": null,
   "metadata": {},
   "outputs": [],
   "source": []
  },
  {
   "cell_type": "markdown",
   "metadata": {},
   "source": [
    "### Ensemble models"
   ]
  },
  {
   "cell_type": "code",
   "execution_count": null,
   "metadata": {},
   "outputs": [],
   "source": [
    "model_list = [## Boosting\n",
    "              ('AB', AdaBoostRegressor()), \n",
    "              ('GBR', GradientBoostingRegressor()), \n",
    "              ## Bagging\n",
    "              ('RF', RandomForestRegressor()), \n",
    "              ('ET', ExtraTreesRegressor())]\n",
    "\n",
    "for name, model in model_list:\n",
    "    model.fit(train_df, train_salary)\n",
    "    validation_pred = model.predict(validation_features)\n",
    "    mse = mean_squared_error(validation_salary, validation_pred)\n",
    "    mae = mean_absolute_error(validation_salary, validation_pred)\n",
    "    print(\"%s:\\tMSE=%.3f\\tMAE=%.3f\" % (name, mse, mae))\n",
    "\n",
    "# expect:\n",
    "# AB:\tMSE=555.790\tMAE=19.869\n",
    "# GBR:\tMSE=364.269\tMAE=15.487\n",
    "# RF:\tMSE=139.587\tMAE=9.053\n",
    "# ET:\tMSE=107.677\tMAE=6.012"
   ]
  },
  {
   "cell_type": "code",
   "execution_count": null,
   "metadata": {},
   "outputs": [],
   "source": [
    "ensembles = []\n",
    "# Boosting\n",
    "ensembles.append(('scaledAB',\n",
    "                  Pipeline([('Scaler', StandardScaler()),\n",
    "                            ('AB', AdaBoostRegressor())])))\n",
    "ensembles.append(('scaledGBR',\n",
    "                  Pipeline([('Scaler', StandardScaler()),\n",
    "                            ('GBR', GradientBoostingRegressor())])))\n",
    "## Bagging\n",
    "ensembles.append(('scaledRF',\n",
    "                  Pipeline([('Scaler', StandardScaler()),\n",
    "                            ('RF', RandomForestRegressor())])))\n",
    "ensembles.append(('scaledET',\n",
    "                  Pipeline([('Scaler', StandardScaler()),\n",
    "                            ('ET', ExtraTreesRegressor())])))\n",
    "\n",
    "for name, model in ensembles:\n",
    "    model.fit(train_df, train_salary)\n",
    "    validation_pred = model.predict(validation_features)\n",
    "    mse = mean_squared_error(validation_salary, validation_pred)\n",
    "    mae = mean_absolute_error(validation_salary, validation_pred)\n",
    "    print(\"%s:\\tMSE=%.3f\\tMAE=%.3f\" % (name, mse, mae))\n",
    "\n",
    "# expect:\n",
    "# scaledAB:\tMSE=553.240\tMAE=19.786\n",
    "# scaledGBR:\tMSE=364.269\tMAE=15.487\n",
    "# scaledRF:\tMSE=139.061\tMAE=9.046\n",
    "# scaledET:\tMSE=107.677\tMAE=6.012"
   ]
  },
  {
   "cell_type": "code",
   "execution_count": 181,
   "metadata": {
    "scrolled": true
   },
   "outputs": [
    {
     "name": "stdout",
     "output_type": "stream",
     "text": [
      "391.34331749164886\n",
      "391.8946694994659\n",
      "393.89552302934163\n",
      "692.947168189093\n"
     ]
    },
    {
     "ename": "KeyboardInterrupt",
     "evalue": "",
     "output_type": "error",
     "traceback": [
      "\u001b[1;31m---------------------------------------------------------------------------\u001b[0m",
      "\u001b[1;31mKeyboardInterrupt\u001b[0m                         Traceback (most recent call last)",
      "\u001b[1;32m<ipython-input-181-06b78eab39ae>\u001b[0m in \u001b[0;36m<module>\u001b[1;34m\u001b[0m\n\u001b[0;32m      7\u001b[0m \u001b[0mvalidation_rows\u001b[0m \u001b[1;33m=\u001b[0m \u001b[1;36m10000\u001b[0m\u001b[1;33m\u001b[0m\u001b[1;33m\u001b[0m\u001b[0m\n\u001b[0;32m      8\u001b[0m \u001b[1;32mfor\u001b[0m \u001b[1;33m(\u001b[0m\u001b[0mmodel_name\u001b[0m\u001b[1;33m,\u001b[0m \u001b[0mmodel\u001b[0m\u001b[1;33m)\u001b[0m \u001b[1;32min\u001b[0m \u001b[0mmodel_list\u001b[0m\u001b[1;33m:\u001b[0m\u001b[1;33m\u001b[0m\u001b[1;33m\u001b[0m\u001b[0m\n\u001b[1;32m----> 9\u001b[1;33m     \u001b[0mregression\u001b[0m\u001b[1;33m.\u001b[0m\u001b[0mscore\u001b[0m \u001b[1;33m=\u001b[0m \u001b[0msklearn\u001b[0m\u001b[1;33m.\u001b[0m\u001b[0mmodel_selection\u001b[0m\u001b[1;33m.\u001b[0m\u001b[0mcross_val_score\u001b[0m\u001b[1;33m(\u001b[0m\u001b[0mmodel\u001b[0m\u001b[1;33m,\u001b[0m \u001b[0mtrain\u001b[0m\u001b[1;33m.\u001b[0m\u001b[0miloc\u001b[0m\u001b[1;33m[\u001b[0m\u001b[1;33m:\u001b[0m\u001b[1;33m,\u001b[0m\u001b[1;33m:\u001b[0m\u001b[1;33m-\u001b[0m\u001b[1;36m1\u001b[0m\u001b[1;33m]\u001b[0m\u001b[1;33m,\u001b[0m \u001b[0mtrain\u001b[0m\u001b[1;33m.\u001b[0m\u001b[0miloc\u001b[0m\u001b[1;33m[\u001b[0m\u001b[1;33m:\u001b[0m\u001b[1;33m,\u001b[0m\u001b[1;33m-\u001b[0m\u001b[1;36m1\u001b[0m\u001b[1;33m]\u001b[0m\u001b[1;33m,\u001b[0m \u001b[0mscoring\u001b[0m\u001b[1;33m=\u001b[0m\u001b[1;34m\"neg_mean_squared_error\"\u001b[0m\u001b[1;33m)\u001b[0m\u001b[1;33m\u001b[0m\u001b[1;33m\u001b[0m\u001b[0m\n\u001b[0m\u001b[0;32m     10\u001b[0m     \u001b[0mprint\u001b[0m\u001b[1;33m(\u001b[0m\u001b[1;33m-\u001b[0m\u001b[1;36m1.0\u001b[0m \u001b[1;33m*\u001b[0m \u001b[0mregression\u001b[0m\u001b[1;33m.\u001b[0m\u001b[0mscore\u001b[0m\u001b[1;33m.\u001b[0m\u001b[0mmean\u001b[0m\u001b[1;33m(\u001b[0m\u001b[1;33m)\u001b[0m\u001b[1;33m)\u001b[0m\u001b[1;33m\u001b[0m\u001b[1;33m\u001b[0m\u001b[0m\n\u001b[0;32m     11\u001b[0m \u001b[1;33m\u001b[0m\u001b[0m\n",
      "\u001b[1;32m~\\anaconda3\\envs\\tf\\lib\\site-packages\\sklearn\\utils\\validation.py\u001b[0m in \u001b[0;36minner_f\u001b[1;34m(*args, **kwargs)\u001b[0m\n\u001b[0;32m     70\u001b[0m                           FutureWarning)\n\u001b[0;32m     71\u001b[0m         \u001b[0mkwargs\u001b[0m\u001b[1;33m.\u001b[0m\u001b[0mupdate\u001b[0m\u001b[1;33m(\u001b[0m\u001b[1;33m{\u001b[0m\u001b[0mk\u001b[0m\u001b[1;33m:\u001b[0m \u001b[0marg\u001b[0m \u001b[1;32mfor\u001b[0m \u001b[0mk\u001b[0m\u001b[1;33m,\u001b[0m \u001b[0marg\u001b[0m \u001b[1;32min\u001b[0m \u001b[0mzip\u001b[0m\u001b[1;33m(\u001b[0m\u001b[0msig\u001b[0m\u001b[1;33m.\u001b[0m\u001b[0mparameters\u001b[0m\u001b[1;33m,\u001b[0m \u001b[0margs\u001b[0m\u001b[1;33m)\u001b[0m\u001b[1;33m}\u001b[0m\u001b[1;33m)\u001b[0m\u001b[1;33m\u001b[0m\u001b[1;33m\u001b[0m\u001b[0m\n\u001b[1;32m---> 72\u001b[1;33m         \u001b[1;32mreturn\u001b[0m \u001b[0mf\u001b[0m\u001b[1;33m(\u001b[0m\u001b[1;33m**\u001b[0m\u001b[0mkwargs\u001b[0m\u001b[1;33m)\u001b[0m\u001b[1;33m\u001b[0m\u001b[1;33m\u001b[0m\u001b[0m\n\u001b[0m\u001b[0;32m     73\u001b[0m     \u001b[1;32mreturn\u001b[0m \u001b[0minner_f\u001b[0m\u001b[1;33m\u001b[0m\u001b[1;33m\u001b[0m\u001b[0m\n\u001b[0;32m     74\u001b[0m \u001b[1;33m\u001b[0m\u001b[0m\n",
      "\u001b[1;32m~\\anaconda3\\envs\\tf\\lib\\site-packages\\sklearn\\model_selection\\_validation.py\u001b[0m in \u001b[0;36mcross_val_score\u001b[1;34m(estimator, X, y, groups, scoring, cv, n_jobs, verbose, fit_params, pre_dispatch, error_score)\u001b[0m\n\u001b[0;32m    404\u001b[0m                                 \u001b[0mfit_params\u001b[0m\u001b[1;33m=\u001b[0m\u001b[0mfit_params\u001b[0m\u001b[1;33m,\u001b[0m\u001b[1;33m\u001b[0m\u001b[1;33m\u001b[0m\u001b[0m\n\u001b[0;32m    405\u001b[0m                                 \u001b[0mpre_dispatch\u001b[0m\u001b[1;33m=\u001b[0m\u001b[0mpre_dispatch\u001b[0m\u001b[1;33m,\u001b[0m\u001b[1;33m\u001b[0m\u001b[1;33m\u001b[0m\u001b[0m\n\u001b[1;32m--> 406\u001b[1;33m                                 error_score=error_score)\n\u001b[0m\u001b[0;32m    407\u001b[0m     \u001b[1;32mreturn\u001b[0m \u001b[0mcv_results\u001b[0m\u001b[1;33m[\u001b[0m\u001b[1;34m'test_score'\u001b[0m\u001b[1;33m]\u001b[0m\u001b[1;33m\u001b[0m\u001b[1;33m\u001b[0m\u001b[0m\n\u001b[0;32m    408\u001b[0m \u001b[1;33m\u001b[0m\u001b[0m\n",
      "\u001b[1;32m~\\anaconda3\\envs\\tf\\lib\\site-packages\\sklearn\\utils\\validation.py\u001b[0m in \u001b[0;36minner_f\u001b[1;34m(*args, **kwargs)\u001b[0m\n\u001b[0;32m     70\u001b[0m                           FutureWarning)\n\u001b[0;32m     71\u001b[0m         \u001b[0mkwargs\u001b[0m\u001b[1;33m.\u001b[0m\u001b[0mupdate\u001b[0m\u001b[1;33m(\u001b[0m\u001b[1;33m{\u001b[0m\u001b[0mk\u001b[0m\u001b[1;33m:\u001b[0m \u001b[0marg\u001b[0m \u001b[1;32mfor\u001b[0m \u001b[0mk\u001b[0m\u001b[1;33m,\u001b[0m \u001b[0marg\u001b[0m \u001b[1;32min\u001b[0m \u001b[0mzip\u001b[0m\u001b[1;33m(\u001b[0m\u001b[0msig\u001b[0m\u001b[1;33m.\u001b[0m\u001b[0mparameters\u001b[0m\u001b[1;33m,\u001b[0m \u001b[0margs\u001b[0m\u001b[1;33m)\u001b[0m\u001b[1;33m}\u001b[0m\u001b[1;33m)\u001b[0m\u001b[1;33m\u001b[0m\u001b[1;33m\u001b[0m\u001b[0m\n\u001b[1;32m---> 72\u001b[1;33m         \u001b[1;32mreturn\u001b[0m \u001b[0mf\u001b[0m\u001b[1;33m(\u001b[0m\u001b[1;33m**\u001b[0m\u001b[0mkwargs\u001b[0m\u001b[1;33m)\u001b[0m\u001b[1;33m\u001b[0m\u001b[1;33m\u001b[0m\u001b[0m\n\u001b[0m\u001b[0;32m     73\u001b[0m     \u001b[1;32mreturn\u001b[0m \u001b[0minner_f\u001b[0m\u001b[1;33m\u001b[0m\u001b[1;33m\u001b[0m\u001b[0m\n\u001b[0;32m     74\u001b[0m \u001b[1;33m\u001b[0m\u001b[0m\n",
      "\u001b[1;32m~\\anaconda3\\envs\\tf\\lib\\site-packages\\sklearn\\model_selection\\_validation.py\u001b[0m in \u001b[0;36mcross_validate\u001b[1;34m(estimator, X, y, groups, scoring, cv, n_jobs, verbose, fit_params, pre_dispatch, return_train_score, return_estimator, error_score)\u001b[0m\n\u001b[0;32m    246\u001b[0m             \u001b[0mreturn_times\u001b[0m\u001b[1;33m=\u001b[0m\u001b[1;32mTrue\u001b[0m\u001b[1;33m,\u001b[0m \u001b[0mreturn_estimator\u001b[0m\u001b[1;33m=\u001b[0m\u001b[0mreturn_estimator\u001b[0m\u001b[1;33m,\u001b[0m\u001b[1;33m\u001b[0m\u001b[1;33m\u001b[0m\u001b[0m\n\u001b[0;32m    247\u001b[0m             error_score=error_score)\n\u001b[1;32m--> 248\u001b[1;33m         for train, test in cv.split(X, y, groups))\n\u001b[0m\u001b[0;32m    249\u001b[0m \u001b[1;33m\u001b[0m\u001b[0m\n\u001b[0;32m    250\u001b[0m     \u001b[0mzipped_scores\u001b[0m \u001b[1;33m=\u001b[0m \u001b[0mlist\u001b[0m\u001b[1;33m(\u001b[0m\u001b[0mzip\u001b[0m\u001b[1;33m(\u001b[0m\u001b[1;33m*\u001b[0m\u001b[0mscores\u001b[0m\u001b[1;33m)\u001b[0m\u001b[1;33m)\u001b[0m\u001b[1;33m\u001b[0m\u001b[1;33m\u001b[0m\u001b[0m\n",
      "\u001b[1;32m~\\anaconda3\\envs\\tf\\lib\\site-packages\\joblib\\parallel.py\u001b[0m in \u001b[0;36m__call__\u001b[1;34m(self, iterable)\u001b[0m\n\u001b[0;32m   1027\u001b[0m             \u001b[1;31m# remaining jobs.\u001b[0m\u001b[1;33m\u001b[0m\u001b[1;33m\u001b[0m\u001b[1;33m\u001b[0m\u001b[0m\n\u001b[0;32m   1028\u001b[0m             \u001b[0mself\u001b[0m\u001b[1;33m.\u001b[0m\u001b[0m_iterating\u001b[0m \u001b[1;33m=\u001b[0m \u001b[1;32mFalse\u001b[0m\u001b[1;33m\u001b[0m\u001b[1;33m\u001b[0m\u001b[0m\n\u001b[1;32m-> 1029\u001b[1;33m             \u001b[1;32mif\u001b[0m \u001b[0mself\u001b[0m\u001b[1;33m.\u001b[0m\u001b[0mdispatch_one_batch\u001b[0m\u001b[1;33m(\u001b[0m\u001b[0miterator\u001b[0m\u001b[1;33m)\u001b[0m\u001b[1;33m:\u001b[0m\u001b[1;33m\u001b[0m\u001b[1;33m\u001b[0m\u001b[0m\n\u001b[0m\u001b[0;32m   1030\u001b[0m                 \u001b[0mself\u001b[0m\u001b[1;33m.\u001b[0m\u001b[0m_iterating\u001b[0m \u001b[1;33m=\u001b[0m \u001b[0mself\u001b[0m\u001b[1;33m.\u001b[0m\u001b[0m_original_iterator\u001b[0m \u001b[1;32mis\u001b[0m \u001b[1;32mnot\u001b[0m \u001b[1;32mNone\u001b[0m\u001b[1;33m\u001b[0m\u001b[1;33m\u001b[0m\u001b[0m\n\u001b[0;32m   1031\u001b[0m \u001b[1;33m\u001b[0m\u001b[0m\n",
      "\u001b[1;32m~\\anaconda3\\envs\\tf\\lib\\site-packages\\joblib\\parallel.py\u001b[0m in \u001b[0;36mdispatch_one_batch\u001b[1;34m(self, iterator)\u001b[0m\n\u001b[0;32m    845\u001b[0m                 \u001b[1;32mreturn\u001b[0m \u001b[1;32mFalse\u001b[0m\u001b[1;33m\u001b[0m\u001b[1;33m\u001b[0m\u001b[0m\n\u001b[0;32m    846\u001b[0m             \u001b[1;32melse\u001b[0m\u001b[1;33m:\u001b[0m\u001b[1;33m\u001b[0m\u001b[1;33m\u001b[0m\u001b[0m\n\u001b[1;32m--> 847\u001b[1;33m                 \u001b[0mself\u001b[0m\u001b[1;33m.\u001b[0m\u001b[0m_dispatch\u001b[0m\u001b[1;33m(\u001b[0m\u001b[0mtasks\u001b[0m\u001b[1;33m)\u001b[0m\u001b[1;33m\u001b[0m\u001b[1;33m\u001b[0m\u001b[0m\n\u001b[0m\u001b[0;32m    848\u001b[0m                 \u001b[1;32mreturn\u001b[0m \u001b[1;32mTrue\u001b[0m\u001b[1;33m\u001b[0m\u001b[1;33m\u001b[0m\u001b[0m\n\u001b[0;32m    849\u001b[0m \u001b[1;33m\u001b[0m\u001b[0m\n",
      "\u001b[1;32m~\\anaconda3\\envs\\tf\\lib\\site-packages\\joblib\\parallel.py\u001b[0m in \u001b[0;36m_dispatch\u001b[1;34m(self, batch)\u001b[0m\n\u001b[0;32m    763\u001b[0m         \u001b[1;32mwith\u001b[0m \u001b[0mself\u001b[0m\u001b[1;33m.\u001b[0m\u001b[0m_lock\u001b[0m\u001b[1;33m:\u001b[0m\u001b[1;33m\u001b[0m\u001b[1;33m\u001b[0m\u001b[0m\n\u001b[0;32m    764\u001b[0m             \u001b[0mjob_idx\u001b[0m \u001b[1;33m=\u001b[0m \u001b[0mlen\u001b[0m\u001b[1;33m(\u001b[0m\u001b[0mself\u001b[0m\u001b[1;33m.\u001b[0m\u001b[0m_jobs\u001b[0m\u001b[1;33m)\u001b[0m\u001b[1;33m\u001b[0m\u001b[1;33m\u001b[0m\u001b[0m\n\u001b[1;32m--> 765\u001b[1;33m             \u001b[0mjob\u001b[0m \u001b[1;33m=\u001b[0m \u001b[0mself\u001b[0m\u001b[1;33m.\u001b[0m\u001b[0m_backend\u001b[0m\u001b[1;33m.\u001b[0m\u001b[0mapply_async\u001b[0m\u001b[1;33m(\u001b[0m\u001b[0mbatch\u001b[0m\u001b[1;33m,\u001b[0m \u001b[0mcallback\u001b[0m\u001b[1;33m=\u001b[0m\u001b[0mcb\u001b[0m\u001b[1;33m)\u001b[0m\u001b[1;33m\u001b[0m\u001b[1;33m\u001b[0m\u001b[0m\n\u001b[0m\u001b[0;32m    766\u001b[0m             \u001b[1;31m# A job can complete so quickly than its callback is\u001b[0m\u001b[1;33m\u001b[0m\u001b[1;33m\u001b[0m\u001b[1;33m\u001b[0m\u001b[0m\n\u001b[0;32m    767\u001b[0m             \u001b[1;31m# called before we get here, causing self._jobs to\u001b[0m\u001b[1;33m\u001b[0m\u001b[1;33m\u001b[0m\u001b[1;33m\u001b[0m\u001b[0m\n",
      "\u001b[1;32m~\\anaconda3\\envs\\tf\\lib\\site-packages\\joblib\\_parallel_backends.py\u001b[0m in \u001b[0;36mapply_async\u001b[1;34m(self, func, callback)\u001b[0m\n\u001b[0;32m    206\u001b[0m     \u001b[1;32mdef\u001b[0m \u001b[0mapply_async\u001b[0m\u001b[1;33m(\u001b[0m\u001b[0mself\u001b[0m\u001b[1;33m,\u001b[0m \u001b[0mfunc\u001b[0m\u001b[1;33m,\u001b[0m \u001b[0mcallback\u001b[0m\u001b[1;33m=\u001b[0m\u001b[1;32mNone\u001b[0m\u001b[1;33m)\u001b[0m\u001b[1;33m:\u001b[0m\u001b[1;33m\u001b[0m\u001b[1;33m\u001b[0m\u001b[0m\n\u001b[0;32m    207\u001b[0m         \u001b[1;34m\"\"\"Schedule a func to be run\"\"\"\u001b[0m\u001b[1;33m\u001b[0m\u001b[1;33m\u001b[0m\u001b[0m\n\u001b[1;32m--> 208\u001b[1;33m         \u001b[0mresult\u001b[0m \u001b[1;33m=\u001b[0m \u001b[0mImmediateResult\u001b[0m\u001b[1;33m(\u001b[0m\u001b[0mfunc\u001b[0m\u001b[1;33m)\u001b[0m\u001b[1;33m\u001b[0m\u001b[1;33m\u001b[0m\u001b[0m\n\u001b[0m\u001b[0;32m    209\u001b[0m         \u001b[1;32mif\u001b[0m \u001b[0mcallback\u001b[0m\u001b[1;33m:\u001b[0m\u001b[1;33m\u001b[0m\u001b[1;33m\u001b[0m\u001b[0m\n\u001b[0;32m    210\u001b[0m             \u001b[0mcallback\u001b[0m\u001b[1;33m(\u001b[0m\u001b[0mresult\u001b[0m\u001b[1;33m)\u001b[0m\u001b[1;33m\u001b[0m\u001b[1;33m\u001b[0m\u001b[0m\n",
      "\u001b[1;32m~\\anaconda3\\envs\\tf\\lib\\site-packages\\joblib\\_parallel_backends.py\u001b[0m in \u001b[0;36m__init__\u001b[1;34m(self, batch)\u001b[0m\n\u001b[0;32m    570\u001b[0m         \u001b[1;31m# Don't delay the application, to avoid keeping the input\u001b[0m\u001b[1;33m\u001b[0m\u001b[1;33m\u001b[0m\u001b[1;33m\u001b[0m\u001b[0m\n\u001b[0;32m    571\u001b[0m         \u001b[1;31m# arguments in memory\u001b[0m\u001b[1;33m\u001b[0m\u001b[1;33m\u001b[0m\u001b[1;33m\u001b[0m\u001b[0m\n\u001b[1;32m--> 572\u001b[1;33m         \u001b[0mself\u001b[0m\u001b[1;33m.\u001b[0m\u001b[0mresults\u001b[0m \u001b[1;33m=\u001b[0m \u001b[0mbatch\u001b[0m\u001b[1;33m(\u001b[0m\u001b[1;33m)\u001b[0m\u001b[1;33m\u001b[0m\u001b[1;33m\u001b[0m\u001b[0m\n\u001b[0m\u001b[0;32m    573\u001b[0m \u001b[1;33m\u001b[0m\u001b[0m\n\u001b[0;32m    574\u001b[0m     \u001b[1;32mdef\u001b[0m \u001b[0mget\u001b[0m\u001b[1;33m(\u001b[0m\u001b[0mself\u001b[0m\u001b[1;33m)\u001b[0m\u001b[1;33m:\u001b[0m\u001b[1;33m\u001b[0m\u001b[1;33m\u001b[0m\u001b[0m\n",
      "\u001b[1;32m~\\anaconda3\\envs\\tf\\lib\\site-packages\\joblib\\parallel.py\u001b[0m in \u001b[0;36m__call__\u001b[1;34m(self)\u001b[0m\n\u001b[0;32m    251\u001b[0m         \u001b[1;32mwith\u001b[0m \u001b[0mparallel_backend\u001b[0m\u001b[1;33m(\u001b[0m\u001b[0mself\u001b[0m\u001b[1;33m.\u001b[0m\u001b[0m_backend\u001b[0m\u001b[1;33m,\u001b[0m \u001b[0mn_jobs\u001b[0m\u001b[1;33m=\u001b[0m\u001b[0mself\u001b[0m\u001b[1;33m.\u001b[0m\u001b[0m_n_jobs\u001b[0m\u001b[1;33m)\u001b[0m\u001b[1;33m:\u001b[0m\u001b[1;33m\u001b[0m\u001b[1;33m\u001b[0m\u001b[0m\n\u001b[0;32m    252\u001b[0m             return [func(*args, **kwargs)\n\u001b[1;32m--> 253\u001b[1;33m                     for func, args, kwargs in self.items]\n\u001b[0m\u001b[0;32m    254\u001b[0m \u001b[1;33m\u001b[0m\u001b[0m\n\u001b[0;32m    255\u001b[0m     \u001b[1;32mdef\u001b[0m \u001b[0m__reduce__\u001b[0m\u001b[1;33m(\u001b[0m\u001b[0mself\u001b[0m\u001b[1;33m)\u001b[0m\u001b[1;33m:\u001b[0m\u001b[1;33m\u001b[0m\u001b[1;33m\u001b[0m\u001b[0m\n",
      "\u001b[1;32m~\\anaconda3\\envs\\tf\\lib\\site-packages\\joblib\\parallel.py\u001b[0m in \u001b[0;36m<listcomp>\u001b[1;34m(.0)\u001b[0m\n\u001b[0;32m    251\u001b[0m         \u001b[1;32mwith\u001b[0m \u001b[0mparallel_backend\u001b[0m\u001b[1;33m(\u001b[0m\u001b[0mself\u001b[0m\u001b[1;33m.\u001b[0m\u001b[0m_backend\u001b[0m\u001b[1;33m,\u001b[0m \u001b[0mn_jobs\u001b[0m\u001b[1;33m=\u001b[0m\u001b[0mself\u001b[0m\u001b[1;33m.\u001b[0m\u001b[0m_n_jobs\u001b[0m\u001b[1;33m)\u001b[0m\u001b[1;33m:\u001b[0m\u001b[1;33m\u001b[0m\u001b[1;33m\u001b[0m\u001b[0m\n\u001b[0;32m    252\u001b[0m             return [func(*args, **kwargs)\n\u001b[1;32m--> 253\u001b[1;33m                     for func, args, kwargs in self.items]\n\u001b[0m\u001b[0;32m    254\u001b[0m \u001b[1;33m\u001b[0m\u001b[0m\n\u001b[0;32m    255\u001b[0m     \u001b[1;32mdef\u001b[0m \u001b[0m__reduce__\u001b[0m\u001b[1;33m(\u001b[0m\u001b[0mself\u001b[0m\u001b[1;33m)\u001b[0m\u001b[1;33m:\u001b[0m\u001b[1;33m\u001b[0m\u001b[1;33m\u001b[0m\u001b[0m\n",
      "\u001b[1;32m~\\anaconda3\\envs\\tf\\lib\\site-packages\\sklearn\\model_selection\\_validation.py\u001b[0m in \u001b[0;36m_fit_and_score\u001b[1;34m(estimator, X, y, scorer, train, test, verbose, parameters, fit_params, return_train_score, return_parameters, return_n_test_samples, return_times, return_estimator, error_score)\u001b[0m\n\u001b[0;32m    529\u001b[0m             \u001b[0mestimator\u001b[0m\u001b[1;33m.\u001b[0m\u001b[0mfit\u001b[0m\u001b[1;33m(\u001b[0m\u001b[0mX_train\u001b[0m\u001b[1;33m,\u001b[0m \u001b[1;33m**\u001b[0m\u001b[0mfit_params\u001b[0m\u001b[1;33m)\u001b[0m\u001b[1;33m\u001b[0m\u001b[1;33m\u001b[0m\u001b[0m\n\u001b[0;32m    530\u001b[0m         \u001b[1;32melse\u001b[0m\u001b[1;33m:\u001b[0m\u001b[1;33m\u001b[0m\u001b[1;33m\u001b[0m\u001b[0m\n\u001b[1;32m--> 531\u001b[1;33m             \u001b[0mestimator\u001b[0m\u001b[1;33m.\u001b[0m\u001b[0mfit\u001b[0m\u001b[1;33m(\u001b[0m\u001b[0mX_train\u001b[0m\u001b[1;33m,\u001b[0m \u001b[0my_train\u001b[0m\u001b[1;33m,\u001b[0m \u001b[1;33m**\u001b[0m\u001b[0mfit_params\u001b[0m\u001b[1;33m)\u001b[0m\u001b[1;33m\u001b[0m\u001b[1;33m\u001b[0m\u001b[0m\n\u001b[0m\u001b[0;32m    532\u001b[0m \u001b[1;33m\u001b[0m\u001b[0m\n\u001b[0;32m    533\u001b[0m     \u001b[1;32mexcept\u001b[0m \u001b[0mException\u001b[0m \u001b[1;32mas\u001b[0m \u001b[0me\u001b[0m\u001b[1;33m:\u001b[0m\u001b[1;33m\u001b[0m\u001b[1;33m\u001b[0m\u001b[0m\n",
      "\u001b[1;32m~\\anaconda3\\envs\\tf\\lib\\site-packages\\sklearn\\ensemble\\_forest.py\u001b[0m in \u001b[0;36mfit\u001b[1;34m(self, X, y, sample_weight)\u001b[0m\n\u001b[0;32m    390\u001b[0m                     \u001b[0mverbose\u001b[0m\u001b[1;33m=\u001b[0m\u001b[0mself\u001b[0m\u001b[1;33m.\u001b[0m\u001b[0mverbose\u001b[0m\u001b[1;33m,\u001b[0m \u001b[0mclass_weight\u001b[0m\u001b[1;33m=\u001b[0m\u001b[0mself\u001b[0m\u001b[1;33m.\u001b[0m\u001b[0mclass_weight\u001b[0m\u001b[1;33m,\u001b[0m\u001b[1;33m\u001b[0m\u001b[1;33m\u001b[0m\u001b[0m\n\u001b[0;32m    391\u001b[0m                     n_samples_bootstrap=n_samples_bootstrap)\n\u001b[1;32m--> 392\u001b[1;33m                 for i, t in enumerate(trees))\n\u001b[0m\u001b[0;32m    393\u001b[0m \u001b[1;33m\u001b[0m\u001b[0m\n\u001b[0;32m    394\u001b[0m             \u001b[1;31m# Collect newly grown trees\u001b[0m\u001b[1;33m\u001b[0m\u001b[1;33m\u001b[0m\u001b[1;33m\u001b[0m\u001b[0m\n",
      "\u001b[1;32m~\\anaconda3\\envs\\tf\\lib\\site-packages\\joblib\\parallel.py\u001b[0m in \u001b[0;36m__call__\u001b[1;34m(self, iterable)\u001b[0m\n\u001b[0;32m   1030\u001b[0m                 \u001b[0mself\u001b[0m\u001b[1;33m.\u001b[0m\u001b[0m_iterating\u001b[0m \u001b[1;33m=\u001b[0m \u001b[0mself\u001b[0m\u001b[1;33m.\u001b[0m\u001b[0m_original_iterator\u001b[0m \u001b[1;32mis\u001b[0m \u001b[1;32mnot\u001b[0m \u001b[1;32mNone\u001b[0m\u001b[1;33m\u001b[0m\u001b[1;33m\u001b[0m\u001b[0m\n\u001b[0;32m   1031\u001b[0m \u001b[1;33m\u001b[0m\u001b[0m\n\u001b[1;32m-> 1032\u001b[1;33m             \u001b[1;32mwhile\u001b[0m \u001b[0mself\u001b[0m\u001b[1;33m.\u001b[0m\u001b[0mdispatch_one_batch\u001b[0m\u001b[1;33m(\u001b[0m\u001b[0miterator\u001b[0m\u001b[1;33m)\u001b[0m\u001b[1;33m:\u001b[0m\u001b[1;33m\u001b[0m\u001b[1;33m\u001b[0m\u001b[0m\n\u001b[0m\u001b[0;32m   1033\u001b[0m                 \u001b[1;32mpass\u001b[0m\u001b[1;33m\u001b[0m\u001b[1;33m\u001b[0m\u001b[0m\n\u001b[0;32m   1034\u001b[0m \u001b[1;33m\u001b[0m\u001b[0m\n",
      "\u001b[1;32m~\\anaconda3\\envs\\tf\\lib\\site-packages\\joblib\\parallel.py\u001b[0m in \u001b[0;36mdispatch_one_batch\u001b[1;34m(self, iterator)\u001b[0m\n\u001b[0;32m    845\u001b[0m                 \u001b[1;32mreturn\u001b[0m \u001b[1;32mFalse\u001b[0m\u001b[1;33m\u001b[0m\u001b[1;33m\u001b[0m\u001b[0m\n\u001b[0;32m    846\u001b[0m             \u001b[1;32melse\u001b[0m\u001b[1;33m:\u001b[0m\u001b[1;33m\u001b[0m\u001b[1;33m\u001b[0m\u001b[0m\n\u001b[1;32m--> 847\u001b[1;33m                 \u001b[0mself\u001b[0m\u001b[1;33m.\u001b[0m\u001b[0m_dispatch\u001b[0m\u001b[1;33m(\u001b[0m\u001b[0mtasks\u001b[0m\u001b[1;33m)\u001b[0m\u001b[1;33m\u001b[0m\u001b[1;33m\u001b[0m\u001b[0m\n\u001b[0m\u001b[0;32m    848\u001b[0m                 \u001b[1;32mreturn\u001b[0m \u001b[1;32mTrue\u001b[0m\u001b[1;33m\u001b[0m\u001b[1;33m\u001b[0m\u001b[0m\n\u001b[0;32m    849\u001b[0m \u001b[1;33m\u001b[0m\u001b[0m\n",
      "\u001b[1;32m~\\anaconda3\\envs\\tf\\lib\\site-packages\\joblib\\parallel.py\u001b[0m in \u001b[0;36m_dispatch\u001b[1;34m(self, batch)\u001b[0m\n\u001b[0;32m    763\u001b[0m         \u001b[1;32mwith\u001b[0m \u001b[0mself\u001b[0m\u001b[1;33m.\u001b[0m\u001b[0m_lock\u001b[0m\u001b[1;33m:\u001b[0m\u001b[1;33m\u001b[0m\u001b[1;33m\u001b[0m\u001b[0m\n\u001b[0;32m    764\u001b[0m             \u001b[0mjob_idx\u001b[0m \u001b[1;33m=\u001b[0m \u001b[0mlen\u001b[0m\u001b[1;33m(\u001b[0m\u001b[0mself\u001b[0m\u001b[1;33m.\u001b[0m\u001b[0m_jobs\u001b[0m\u001b[1;33m)\u001b[0m\u001b[1;33m\u001b[0m\u001b[1;33m\u001b[0m\u001b[0m\n\u001b[1;32m--> 765\u001b[1;33m             \u001b[0mjob\u001b[0m \u001b[1;33m=\u001b[0m \u001b[0mself\u001b[0m\u001b[1;33m.\u001b[0m\u001b[0m_backend\u001b[0m\u001b[1;33m.\u001b[0m\u001b[0mapply_async\u001b[0m\u001b[1;33m(\u001b[0m\u001b[0mbatch\u001b[0m\u001b[1;33m,\u001b[0m \u001b[0mcallback\u001b[0m\u001b[1;33m=\u001b[0m\u001b[0mcb\u001b[0m\u001b[1;33m)\u001b[0m\u001b[1;33m\u001b[0m\u001b[1;33m\u001b[0m\u001b[0m\n\u001b[0m\u001b[0;32m    766\u001b[0m             \u001b[1;31m# A job can complete so quickly than its callback is\u001b[0m\u001b[1;33m\u001b[0m\u001b[1;33m\u001b[0m\u001b[1;33m\u001b[0m\u001b[0m\n\u001b[0;32m    767\u001b[0m             \u001b[1;31m# called before we get here, causing self._jobs to\u001b[0m\u001b[1;33m\u001b[0m\u001b[1;33m\u001b[0m\u001b[1;33m\u001b[0m\u001b[0m\n",
      "\u001b[1;32m~\\anaconda3\\envs\\tf\\lib\\site-packages\\joblib\\_parallel_backends.py\u001b[0m in \u001b[0;36mapply_async\u001b[1;34m(self, func, callback)\u001b[0m\n\u001b[0;32m    206\u001b[0m     \u001b[1;32mdef\u001b[0m \u001b[0mapply_async\u001b[0m\u001b[1;33m(\u001b[0m\u001b[0mself\u001b[0m\u001b[1;33m,\u001b[0m \u001b[0mfunc\u001b[0m\u001b[1;33m,\u001b[0m \u001b[0mcallback\u001b[0m\u001b[1;33m=\u001b[0m\u001b[1;32mNone\u001b[0m\u001b[1;33m)\u001b[0m\u001b[1;33m:\u001b[0m\u001b[1;33m\u001b[0m\u001b[1;33m\u001b[0m\u001b[0m\n\u001b[0;32m    207\u001b[0m         \u001b[1;34m\"\"\"Schedule a func to be run\"\"\"\u001b[0m\u001b[1;33m\u001b[0m\u001b[1;33m\u001b[0m\u001b[0m\n\u001b[1;32m--> 208\u001b[1;33m         \u001b[0mresult\u001b[0m \u001b[1;33m=\u001b[0m \u001b[0mImmediateResult\u001b[0m\u001b[1;33m(\u001b[0m\u001b[0mfunc\u001b[0m\u001b[1;33m)\u001b[0m\u001b[1;33m\u001b[0m\u001b[1;33m\u001b[0m\u001b[0m\n\u001b[0m\u001b[0;32m    209\u001b[0m         \u001b[1;32mif\u001b[0m \u001b[0mcallback\u001b[0m\u001b[1;33m:\u001b[0m\u001b[1;33m\u001b[0m\u001b[1;33m\u001b[0m\u001b[0m\n\u001b[0;32m    210\u001b[0m             \u001b[0mcallback\u001b[0m\u001b[1;33m(\u001b[0m\u001b[0mresult\u001b[0m\u001b[1;33m)\u001b[0m\u001b[1;33m\u001b[0m\u001b[1;33m\u001b[0m\u001b[0m\n",
      "\u001b[1;32m~\\anaconda3\\envs\\tf\\lib\\site-packages\\joblib\\_parallel_backends.py\u001b[0m in \u001b[0;36m__init__\u001b[1;34m(self, batch)\u001b[0m\n\u001b[0;32m    570\u001b[0m         \u001b[1;31m# Don't delay the application, to avoid keeping the input\u001b[0m\u001b[1;33m\u001b[0m\u001b[1;33m\u001b[0m\u001b[1;33m\u001b[0m\u001b[0m\n\u001b[0;32m    571\u001b[0m         \u001b[1;31m# arguments in memory\u001b[0m\u001b[1;33m\u001b[0m\u001b[1;33m\u001b[0m\u001b[1;33m\u001b[0m\u001b[0m\n\u001b[1;32m--> 572\u001b[1;33m         \u001b[0mself\u001b[0m\u001b[1;33m.\u001b[0m\u001b[0mresults\u001b[0m \u001b[1;33m=\u001b[0m \u001b[0mbatch\u001b[0m\u001b[1;33m(\u001b[0m\u001b[1;33m)\u001b[0m\u001b[1;33m\u001b[0m\u001b[1;33m\u001b[0m\u001b[0m\n\u001b[0m\u001b[0;32m    573\u001b[0m \u001b[1;33m\u001b[0m\u001b[0m\n\u001b[0;32m    574\u001b[0m     \u001b[1;32mdef\u001b[0m \u001b[0mget\u001b[0m\u001b[1;33m(\u001b[0m\u001b[0mself\u001b[0m\u001b[1;33m)\u001b[0m\u001b[1;33m:\u001b[0m\u001b[1;33m\u001b[0m\u001b[1;33m\u001b[0m\u001b[0m\n",
      "\u001b[1;32m~\\anaconda3\\envs\\tf\\lib\\site-packages\\joblib\\parallel.py\u001b[0m in \u001b[0;36m__call__\u001b[1;34m(self)\u001b[0m\n\u001b[0;32m    251\u001b[0m         \u001b[1;32mwith\u001b[0m \u001b[0mparallel_backend\u001b[0m\u001b[1;33m(\u001b[0m\u001b[0mself\u001b[0m\u001b[1;33m.\u001b[0m\u001b[0m_backend\u001b[0m\u001b[1;33m,\u001b[0m \u001b[0mn_jobs\u001b[0m\u001b[1;33m=\u001b[0m\u001b[0mself\u001b[0m\u001b[1;33m.\u001b[0m\u001b[0m_n_jobs\u001b[0m\u001b[1;33m)\u001b[0m\u001b[1;33m:\u001b[0m\u001b[1;33m\u001b[0m\u001b[1;33m\u001b[0m\u001b[0m\n\u001b[0;32m    252\u001b[0m             return [func(*args, **kwargs)\n\u001b[1;32m--> 253\u001b[1;33m                     for func, args, kwargs in self.items]\n\u001b[0m\u001b[0;32m    254\u001b[0m \u001b[1;33m\u001b[0m\u001b[0m\n\u001b[0;32m    255\u001b[0m     \u001b[1;32mdef\u001b[0m \u001b[0m__reduce__\u001b[0m\u001b[1;33m(\u001b[0m\u001b[0mself\u001b[0m\u001b[1;33m)\u001b[0m\u001b[1;33m:\u001b[0m\u001b[1;33m\u001b[0m\u001b[1;33m\u001b[0m\u001b[0m\n",
      "\u001b[1;32m~\\anaconda3\\envs\\tf\\lib\\site-packages\\joblib\\parallel.py\u001b[0m in \u001b[0;36m<listcomp>\u001b[1;34m(.0)\u001b[0m\n\u001b[0;32m    251\u001b[0m         \u001b[1;32mwith\u001b[0m \u001b[0mparallel_backend\u001b[0m\u001b[1;33m(\u001b[0m\u001b[0mself\u001b[0m\u001b[1;33m.\u001b[0m\u001b[0m_backend\u001b[0m\u001b[1;33m,\u001b[0m \u001b[0mn_jobs\u001b[0m\u001b[1;33m=\u001b[0m\u001b[0mself\u001b[0m\u001b[1;33m.\u001b[0m\u001b[0m_n_jobs\u001b[0m\u001b[1;33m)\u001b[0m\u001b[1;33m:\u001b[0m\u001b[1;33m\u001b[0m\u001b[1;33m\u001b[0m\u001b[0m\n\u001b[0;32m    252\u001b[0m             return [func(*args, **kwargs)\n\u001b[1;32m--> 253\u001b[1;33m                     for func, args, kwargs in self.items]\n\u001b[0m\u001b[0;32m    254\u001b[0m \u001b[1;33m\u001b[0m\u001b[0m\n\u001b[0;32m    255\u001b[0m     \u001b[1;32mdef\u001b[0m \u001b[0m__reduce__\u001b[0m\u001b[1;33m(\u001b[0m\u001b[0mself\u001b[0m\u001b[1;33m)\u001b[0m\u001b[1;33m:\u001b[0m\u001b[1;33m\u001b[0m\u001b[1;33m\u001b[0m\u001b[0m\n",
      "\u001b[1;32m~\\anaconda3\\envs\\tf\\lib\\site-packages\\sklearn\\ensemble\\_forest.py\u001b[0m in \u001b[0;36m_parallel_build_trees\u001b[1;34m(tree, forest, X, y, sample_weight, tree_idx, n_trees, verbose, class_weight, n_samples_bootstrap)\u001b[0m\n\u001b[0;32m    166\u001b[0m                                                         indices=indices)\n\u001b[0;32m    167\u001b[0m \u001b[1;33m\u001b[0m\u001b[0m\n\u001b[1;32m--> 168\u001b[1;33m         \u001b[0mtree\u001b[0m\u001b[1;33m.\u001b[0m\u001b[0mfit\u001b[0m\u001b[1;33m(\u001b[0m\u001b[0mX\u001b[0m\u001b[1;33m,\u001b[0m \u001b[0my\u001b[0m\u001b[1;33m,\u001b[0m \u001b[0msample_weight\u001b[0m\u001b[1;33m=\u001b[0m\u001b[0mcurr_sample_weight\u001b[0m\u001b[1;33m,\u001b[0m \u001b[0mcheck_input\u001b[0m\u001b[1;33m=\u001b[0m\u001b[1;32mFalse\u001b[0m\u001b[1;33m)\u001b[0m\u001b[1;33m\u001b[0m\u001b[1;33m\u001b[0m\u001b[0m\n\u001b[0m\u001b[0;32m    169\u001b[0m     \u001b[1;32melse\u001b[0m\u001b[1;33m:\u001b[0m\u001b[1;33m\u001b[0m\u001b[1;33m\u001b[0m\u001b[0m\n\u001b[0;32m    170\u001b[0m         \u001b[0mtree\u001b[0m\u001b[1;33m.\u001b[0m\u001b[0mfit\u001b[0m\u001b[1;33m(\u001b[0m\u001b[0mX\u001b[0m\u001b[1;33m,\u001b[0m \u001b[0my\u001b[0m\u001b[1;33m,\u001b[0m \u001b[0msample_weight\u001b[0m\u001b[1;33m=\u001b[0m\u001b[0msample_weight\u001b[0m\u001b[1;33m,\u001b[0m \u001b[0mcheck_input\u001b[0m\u001b[1;33m=\u001b[0m\u001b[1;32mFalse\u001b[0m\u001b[1;33m)\u001b[0m\u001b[1;33m\u001b[0m\u001b[1;33m\u001b[0m\u001b[0m\n",
      "\u001b[1;32m~\\anaconda3\\envs\\tf\\lib\\site-packages\\sklearn\\tree\\_classes.py\u001b[0m in \u001b[0;36mfit\u001b[1;34m(self, X, y, sample_weight, check_input, X_idx_sorted)\u001b[0m\n\u001b[0;32m   1244\u001b[0m             \u001b[0msample_weight\u001b[0m\u001b[1;33m=\u001b[0m\u001b[0msample_weight\u001b[0m\u001b[1;33m,\u001b[0m\u001b[1;33m\u001b[0m\u001b[1;33m\u001b[0m\u001b[0m\n\u001b[0;32m   1245\u001b[0m             \u001b[0mcheck_input\u001b[0m\u001b[1;33m=\u001b[0m\u001b[0mcheck_input\u001b[0m\u001b[1;33m,\u001b[0m\u001b[1;33m\u001b[0m\u001b[1;33m\u001b[0m\u001b[0m\n\u001b[1;32m-> 1246\u001b[1;33m             X_idx_sorted=X_idx_sorted)\n\u001b[0m\u001b[0;32m   1247\u001b[0m         \u001b[1;32mreturn\u001b[0m \u001b[0mself\u001b[0m\u001b[1;33m\u001b[0m\u001b[1;33m\u001b[0m\u001b[0m\n\u001b[0;32m   1248\u001b[0m \u001b[1;33m\u001b[0m\u001b[0m\n",
      "\u001b[1;32m~\\anaconda3\\envs\\tf\\lib\\site-packages\\sklearn\\tree\\_classes.py\u001b[0m in \u001b[0;36mfit\u001b[1;34m(self, X, y, sample_weight, check_input, X_idx_sorted)\u001b[0m\n\u001b[0;32m    373\u001b[0m                                            min_impurity_split)\n\u001b[0;32m    374\u001b[0m \u001b[1;33m\u001b[0m\u001b[0m\n\u001b[1;32m--> 375\u001b[1;33m         \u001b[0mbuilder\u001b[0m\u001b[1;33m.\u001b[0m\u001b[0mbuild\u001b[0m\u001b[1;33m(\u001b[0m\u001b[0mself\u001b[0m\u001b[1;33m.\u001b[0m\u001b[0mtree_\u001b[0m\u001b[1;33m,\u001b[0m \u001b[0mX\u001b[0m\u001b[1;33m,\u001b[0m \u001b[0my\u001b[0m\u001b[1;33m,\u001b[0m \u001b[0msample_weight\u001b[0m\u001b[1;33m,\u001b[0m \u001b[0mX_idx_sorted\u001b[0m\u001b[1;33m)\u001b[0m\u001b[1;33m\u001b[0m\u001b[1;33m\u001b[0m\u001b[0m\n\u001b[0m\u001b[0;32m    376\u001b[0m \u001b[1;33m\u001b[0m\u001b[0m\n\u001b[0;32m    377\u001b[0m         \u001b[1;32mif\u001b[0m \u001b[0mself\u001b[0m\u001b[1;33m.\u001b[0m\u001b[0mn_outputs_\u001b[0m \u001b[1;33m==\u001b[0m \u001b[1;36m1\u001b[0m \u001b[1;32mand\u001b[0m \u001b[0mis_classifier\u001b[0m\u001b[1;33m(\u001b[0m\u001b[0mself\u001b[0m\u001b[1;33m)\u001b[0m\u001b[1;33m:\u001b[0m\u001b[1;33m\u001b[0m\u001b[1;33m\u001b[0m\u001b[0m\n",
      "\u001b[1;31mKeyboardInterrupt\u001b[0m: "
     ]
    }
   ],
   "source": [
    "train_df = data.copy()\n",
    "model_list = [('LR', LinearRegression()), \n",
    "              ('LASSO', Lasso()), \n",
    "              ('EN', ElasticNet()), \n",
    "              ('CART', DecisionTreeRegressor()), \n",
    "              ('RF', RandomForestRegressor())]\n",
    "validation_rows = 10000\n",
    "for (model_name, model) in model_list:\n",
    "    regression.score = sklearn.model_selection.cross_val_score(model, train.iloc[:,:-1], train.iloc[:,-1], scoring=\"neg_mean_squared_error\")\n",
    "    print(model_name, -1.0 * regression.score.mean())\n",
    "\n",
    "#     model.fit(train_f, train_s)\n",
    "#     valid_pred = model.predict(valid_f)\n",
    "#     mse = mean_squared_error(valid_s, valid_pred)\n",
    "#     mae = mean_absolute_error(valid_s, valid_pred)\n",
    "#     print(\"model=%s,\\tto_drop_companyId=%s, to_merge_degree_major=%s:\\tMSE=%.3f\\tMAE=%.3f\" % \n",
    "#           (model_name, companyId, degree_major, mse, mae))\n",
    "\"\"\"\n",
    "model=LR,\tto_drop_companyId=False, to_merge_degree_major=False:\tMSE=393.114\tMAE=15.979\n",
    "model=LASSO,\tto_drop_companyId=False, to_merge_degree_major=False:\tMSE=394.213\tMAE=16.006\n",
    "model=EN,\tto_drop_companyId=False, to_merge_degree_major=False:\tMSE=400.965\tMAE=16.166\n",
    "model=CART,\tto_drop_companyId=False, to_merge_degree_major=False:\tMSE=686.648\tMAE=20.350\n",
    "model=RF,\tto_drop_companyId=False, to_merge_degree_major=False:\tMSE=435.528\tMAE=16.634\n",
    "model=LR,\tto_drop_companyId=True, to_merge_degree_major=False:\tMSE=393.119\tMAE=15.980\n",
    "model=LASSO,\tto_drop_companyId=True, to_merge_degree_major=False:\tMSE=394.216\tMAE=16.006\n",
    "model=EN,\tto_drop_companyId=True, to_merge_degree_major=False:\tMSE=400.967\tMAE=16.166\n",
    "model=CART,\tto_drop_companyId=True, to_merge_degree_major=False:\tMSE=642.333\tMAE=19.651\n",
    "model=RF,\tto_drop_companyId=True, to_merge_degree_major=False:\tMSE=438.890\tMAE=16.668\n",
    "model=LR,\tto_drop_companyId=False, to_merge_degree_major=True:\tMSE=958.742\tMAE=23.763\n",
    "model=LASSO,\tto_drop_companyId=False, to_merge_degree_major=True:\tMSE=948.846\tMAE=23.606\n",
    "model=EN,\tto_drop_companyId=False, to_merge_degree_major=True:\tMSE=1111.485\tMAE=25.481\n",
    "model=CART,\tto_drop_companyId=False, to_merge_degree_major=True:\tMSE=8083.295\tMAE=82.648\n",
    "model=RF,\tto_drop_companyId=False, to_merge_degree_major=True:\tMSE=7966.888\tMAE=82.662\n",
    "model=LR,\tto_drop_companyId=True, to_merge_degree_major=True:\tMSE=958.884\tMAE=23.764\n",
    "model=LASSO,\tto_drop_companyId=True, to_merge_degree_major=True:\tMSE=948.890\tMAE=23.607\n",
    "model=EN,\tto_drop_companyId=True, to_merge_degree_major=True:\tMSE=1111.605\tMAE=25.482\n",
    "model=CART,\tto_drop_companyId=True, to_merge_degree_major=True:\tMSE=8006.305\tMAE=82.538\n",
    "model=RF,\tto_drop_companyId=True, to_merge_degree_major=True:\tMSE=7948.391\tMAE=82.554\n",
    "\"\"\""
   ]
  },
  {
   "cell_type": "code",
   "execution_count": 187,
   "metadata": {},
   "outputs": [
    {
     "name": "stdout",
     "output_type": "stream",
     "text": [
      "model=GBR,\tto_drop_companyId=True, to_merge_degree_major=False:\tMSE=363.516\tMAE=15.475\n",
      "model=RF,\tto_drop_companyId=True, to_merge_degree_major=False:\tMSE=362.197\tMAE=15.442\n"
     ]
    },
    {
     "data": {
      "text/plain": [
       "'\\nExpect:\\nmodel=AB,\\tto_drop_companyId=False, to_merge_degree_major=False:\\tMSE=545.306\\tMAE=19.586\\nmodel=GBR,\\tto_drop_companyId=False, to_merge_degree_major=False:\\tMSE=366.419\\tMAE=15.532\\nmodel=RF,\\tto_drop_companyId=False, to_merge_degree_major=False:\\tMSE=434.414\\tMAE=16.592\\nmodel=ET,\\tto_drop_companyId=False, to_merge_degree_major=False:\\tMSE=507.821\\tMAE=17.748\\nmodel=AB,\\tto_drop_companyId=True, to_merge_degree_major=False:\\tMSE=555.479\\tMAE=19.755\\nmodel=GBR,\\tto_drop_companyId=True, to_merge_degree_major=False:\\tMSE=366.419\\tMAE=15.532\\nmodel=RF,\\tto_drop_companyId=True, to_merge_degree_major=False:\\tMSE=436.426\\tMAE=16.643\\nmodel=ET,\\tto_drop_companyId=True, to_merge_degree_major=False:\\tMSE=507.160\\tMAE=17.782\\nmodel=AB,\\tto_drop_companyId=False, to_merge_degree_major=True:\\tMSE=10058.697\\tMAE=96.473\\nmodel=GBR,\\tto_drop_companyId=False, to_merge_degree_major=True:\\tMSE=7936.804\\tMAE=83.056\\nmodel=RF,\\tto_drop_companyId=False, to_merge_degree_major=True:\\tMSE=7964.971\\tMAE=82.636\\nmodel=ET,\\tto_drop_companyId=False, to_merge_degree_major=True:\\tMSE=8044.035\\tMAE=82.660\\nmodel=AB,\\tto_drop_companyId=True, to_merge_degree_major=True:\\tMSE=10134.425\\tMAE=96.792\\nmodel=GBR,\\tto_drop_companyId=True, to_merge_degree_major=True:\\tMSE=7936.804\\tMAE=83.056\\nmodel=RF,\\tto_drop_companyId=True, to_merge_degree_major=True:\\tMSE=7949.010\\tMAE=82.555\\nmodel=ET,\\tto_drop_companyId=True, to_merge_degree_major=True:\\tMSE=7988.281\\tMAE=82.480\\n'"
      ]
     },
     "execution_count": 187,
     "metadata": {},
     "output_type": "execute_result"
    }
   ],
   "source": [
    "train_df = data.copy()\n",
    "test_list = [(True, False)]\n",
    "model_list = [## Boosting\n",
    "#               ('AB', AdaBoostRegressor()), \n",
    "              ('GBR', GradientBoostingRegressor(n_estimators=40, max_depth=7, loss='ls')), \n",
    "              ## Bagging\n",
    "              ('RF', RandomForestRegressor(n_estimators=60, max_depth=15, min_samples_split=80, max_features=5)), ]\n",
    "#               ('ET', ExtraTreesRegressor())]\n",
    "validation_rows = 10000\n",
    "for (companyId, degree_major) in test_list:\n",
    "    for (model_name, model) in model_list:\n",
    "        train = feature_select(to_drop_companyId=companyId, to_merge_degree_major=degree_major, train=data.copy())\n",
    "\n",
    "        valid_f = train.iloc[:validation_rows, :-1]\n",
    "        valid_s = train.iloc[:validation_rows, -1].values.astype(float)\n",
    "        train_f = train.drop(index=train.index[:validation_rows])\n",
    "        train_s = train_f.pop('salary')\n",
    "\n",
    "        model.fit(train_f, train_s)\n",
    "        valid_pred = model.predict(valid_f)\n",
    "        mse = mean_squared_error(valid_s, valid_pred)\n",
    "        mae = mean_absolute_error(valid_s, valid_pred)\n",
    "        print(\"model=%s,\\tto_drop_companyId=%s, to_merge_degree_major=%s:\\tMSE=%.3f\\tMAE=%.3f\" % \n",
    "              (model_name, companyId, degree_major, mse, mae))\n",
    "\n",
    "\"\"\"\n",
    "Expect:\n",
    "model=AB,\tto_drop_companyId=False, to_merge_degree_major=False:\tMSE=545.306\tMAE=19.586\n",
    "model=GBR,\tto_drop_companyId=False, to_merge_degree_major=False:\tMSE=366.419\tMAE=15.532\n",
    "model=RF,\tto_drop_companyId=False, to_merge_degree_major=False:\tMSE=434.414\tMAE=16.592\n",
    "model=ET,\tto_drop_companyId=False, to_merge_degree_major=False:\tMSE=507.821\tMAE=17.748\n",
    "model=AB,\tto_drop_companyId=True, to_merge_degree_major=False:\tMSE=555.479\tMAE=19.755\n",
    "model=GBR,\tto_drop_companyId=True, to_merge_degree_major=False:\tMSE=366.419\tMAE=15.532\n",
    "model=RF,\tto_drop_companyId=True, to_merge_degree_major=False:\tMSE=436.426\tMAE=16.643\n",
    "model=ET,\tto_drop_companyId=True, to_merge_degree_major=False:\tMSE=507.160\tMAE=17.782\n",
    "model=AB,\tto_drop_companyId=False, to_merge_degree_major=True:\tMSE=10058.697\tMAE=96.473\n",
    "model=GBR,\tto_drop_companyId=False, to_merge_degree_major=True:\tMSE=7936.804\tMAE=83.056\n",
    "model=RF,\tto_drop_companyId=False, to_merge_degree_major=True:\tMSE=7964.971\tMAE=82.636\n",
    "model=ET,\tto_drop_companyId=False, to_merge_degree_major=True:\tMSE=8044.035\tMAE=82.660\n",
    "model=AB,\tto_drop_companyId=True, to_merge_degree_major=True:\tMSE=10134.425\tMAE=96.792\n",
    "model=GBR,\tto_drop_companyId=True, to_merge_degree_major=True:\tMSE=7936.804\tMAE=83.056\n",
    "model=RF,\tto_drop_companyId=True, to_merge_degree_major=True:\tMSE=7949.010\tMAE=82.555\n",
    "model=ET,\tto_drop_companyId=True, to_merge_degree_major=True:\tMSE=7988.281\tMAE=82.480\n",
    "\"\"\""
   ]
  },
  {
   "cell_type": "code",
   "execution_count": null,
   "metadata": {},
   "outputs": [],
   "source": []
  }
 ],
 "metadata": {
  "kernelspec": {
   "display_name": "Python 3",
   "language": "python",
   "name": "python3"
  },
  "language_info": {
   "codemirror_mode": {
    "name": "ipython",
    "version": 3
   },
   "file_extension": ".py",
   "mimetype": "text/x-python",
   "name": "python",
   "nbconvert_exporter": "python",
   "pygments_lexer": "ipython3",
   "version": "3.7.9"
  }
 },
 "nbformat": 4,
 "nbformat_minor": 4
}
