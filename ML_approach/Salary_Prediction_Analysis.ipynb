{
 "cells": [
  {
   "cell_type": "markdown",
   "metadata": {},
   "source": [
    "# Salary Prediction\n",
    "This project predicts salary based on job descriptions. This notebook shows my thought process from data scrubbing, to EDA, and finally model fitting. Final clean code is in separate python script.\n",
    "\n",
    "## Features:\n",
    "1. jobId\n",
    "2. companyId\n",
    "3. jobType\n",
    "4. degree\n",
    "5. major\n",
    "6. industry\n",
    "7. yearsExperience\n",
    "8. milesFromMetropolis\n",
    "9. salary\n",
    "\n",
    "## Import Libraries"
   ]
  },
  {
   "cell_type": "code",
   "execution_count": 1,
   "metadata": {},
   "outputs": [],
   "source": [
    "import os\n",
    "import zipfile\n",
    "import numpy as np\n",
    "import pandas as pd\n",
    "import matplotlib.pyplot as plt\n",
    "import sklearn\n",
    "import seaborn as sns\n",
    "\n",
    "from sklearn.linear_model import LinearRegression, Lasso, ElasticNet\n",
    "from sklearn.tree import DecisionTreeRegressor\n",
    "from sklearn.neighbors import KNeighborsRegressor\n",
    "from sklearn.svm import SVR\n",
    "from sklearn.ensemble import RandomForestRegressor, GradientBoostingRegressor, ExtraTreesRegressor, AdaBoostRegressor\n",
    "from sklearn.preprocessing import StandardScaler\n",
    "from sklearn.pipeline import Pipeline\n",
    "from sklearn.model_selection import cross_val_score\n",
    "from sklearn.metrics import mean_squared_error, mean_absolute_error"
   ]
  },
  {
   "cell_type": "code",
   "execution_count": 2,
   "metadata": {},
   "outputs": [],
   "source": [
    "# set display to 3 decimal max\n",
    "pd.set_option('precision', 3)"
   ]
  },
  {
   "cell_type": "markdown",
   "metadata": {},
   "source": [
    "## Load data"
   ]
  },
  {
   "cell_type": "code",
   "execution_count": 3,
   "metadata": {},
   "outputs": [
    {
     "name": "stdout",
     "output_type": "stream",
     "text": [
      "['test_features.csv', 'train_features.csv', 'train_salaries.csv']\n"
     ]
    }
   ],
   "source": [
    "zipfile_path = os.path.join(\"..\", \"SalaryPredictions.zip\")\n",
    "zipfile_ref = zipfile.ZipFile(zipfile_path, 'r')\n",
    "zipfile_ref.extractall(\"..\")\n",
    "zipfile_ref.close()\n",
    "\n",
    "print(os.listdir(os.path.join(\"..\", \"data\")))"
   ]
  },
  {
   "cell_type": "code",
   "execution_count": 4,
   "metadata": {},
   "outputs": [],
   "source": [
    "test_df = pd.read_csv(os.path.join(\"..\", \"data\", \"test_features.csv\"), header=0, index_col=0)\n",
    "train_df = pd.read_csv(os.path.join(\"..\", \"data\", \"train_features.csv\"), header=0, index_col=0)\n",
    "train_df['salary'] = pd.read_csv(os.path.join(\"..\", \"data\", \"train_salaries.csv\"), header=0, index_col=0)"
   ]
  },
  {
   "cell_type": "code",
   "execution_count": 5,
   "metadata": {},
   "outputs": [
    {
     "name": "stdout",
     "output_type": "stream",
     "text": [
      "<class 'pandas.core.frame.DataFrame'>\n",
      "Index: 1000000 entries, JOB1362684407687 to JOB1362685407686\n",
      "Data columns (total 8 columns):\n",
      " #   Column               Non-Null Count    Dtype \n",
      "---  ------               --------------    ----- \n",
      " 0   companyId            1000000 non-null  object\n",
      " 1   jobType              1000000 non-null  object\n",
      " 2   degree               1000000 non-null  object\n",
      " 3   major                1000000 non-null  object\n",
      " 4   industry             1000000 non-null  object\n",
      " 5   yearsExperience      1000000 non-null  int64 \n",
      " 6   milesFromMetropolis  1000000 non-null  int64 \n",
      " 7   salary               1000000 non-null  int64 \n",
      "dtypes: int64(3), object(5)\n",
      "memory usage: 68.7+ MB\n",
      "None\n"
     ]
    },
    {
     "data": {
      "text/html": [
       "<div>\n",
       "<style scoped>\n",
       "    .dataframe tbody tr th:only-of-type {\n",
       "        vertical-align: middle;\n",
       "    }\n",
       "\n",
       "    .dataframe tbody tr th {\n",
       "        vertical-align: top;\n",
       "    }\n",
       "\n",
       "    .dataframe thead th {\n",
       "        text-align: right;\n",
       "    }\n",
       "</style>\n",
       "<table border=\"1\" class=\"dataframe\">\n",
       "  <thead>\n",
       "    <tr style=\"text-align: right;\">\n",
       "      <th></th>\n",
       "      <th>companyId</th>\n",
       "      <th>jobType</th>\n",
       "      <th>degree</th>\n",
       "      <th>major</th>\n",
       "      <th>industry</th>\n",
       "      <th>yearsExperience</th>\n",
       "      <th>milesFromMetropolis</th>\n",
       "      <th>salary</th>\n",
       "    </tr>\n",
       "    <tr>\n",
       "      <th>jobId</th>\n",
       "      <th></th>\n",
       "      <th></th>\n",
       "      <th></th>\n",
       "      <th></th>\n",
       "      <th></th>\n",
       "      <th></th>\n",
       "      <th></th>\n",
       "      <th></th>\n",
       "    </tr>\n",
       "  </thead>\n",
       "  <tbody>\n",
       "    <tr>\n",
       "      <th>JOB1362684407687</th>\n",
       "      <td>COMP37</td>\n",
       "      <td>CFO</td>\n",
       "      <td>MASTERS</td>\n",
       "      <td>MATH</td>\n",
       "      <td>HEALTH</td>\n",
       "      <td>10</td>\n",
       "      <td>83</td>\n",
       "      <td>130</td>\n",
       "    </tr>\n",
       "    <tr>\n",
       "      <th>JOB1362684407688</th>\n",
       "      <td>COMP19</td>\n",
       "      <td>CEO</td>\n",
       "      <td>HIGH_SCHOOL</td>\n",
       "      <td>NONE</td>\n",
       "      <td>WEB</td>\n",
       "      <td>3</td>\n",
       "      <td>73</td>\n",
       "      <td>101</td>\n",
       "    </tr>\n",
       "    <tr>\n",
       "      <th>JOB1362684407689</th>\n",
       "      <td>COMP52</td>\n",
       "      <td>VICE_PRESIDENT</td>\n",
       "      <td>DOCTORAL</td>\n",
       "      <td>PHYSICS</td>\n",
       "      <td>HEALTH</td>\n",
       "      <td>10</td>\n",
       "      <td>38</td>\n",
       "      <td>137</td>\n",
       "    </tr>\n",
       "    <tr>\n",
       "      <th>JOB1362684407690</th>\n",
       "      <td>COMP38</td>\n",
       "      <td>MANAGER</td>\n",
       "      <td>DOCTORAL</td>\n",
       "      <td>CHEMISTRY</td>\n",
       "      <td>AUTO</td>\n",
       "      <td>8</td>\n",
       "      <td>17</td>\n",
       "      <td>142</td>\n",
       "    </tr>\n",
       "    <tr>\n",
       "      <th>JOB1362684407691</th>\n",
       "      <td>COMP7</td>\n",
       "      <td>VICE_PRESIDENT</td>\n",
       "      <td>BACHELORS</td>\n",
       "      <td>PHYSICS</td>\n",
       "      <td>FINANCE</td>\n",
       "      <td>8</td>\n",
       "      <td>16</td>\n",
       "      <td>163</td>\n",
       "    </tr>\n",
       "    <tr>\n",
       "      <th>JOB1362684407692</th>\n",
       "      <td>COMP15</td>\n",
       "      <td>MANAGER</td>\n",
       "      <td>DOCTORAL</td>\n",
       "      <td>COMPSCI</td>\n",
       "      <td>FINANCE</td>\n",
       "      <td>2</td>\n",
       "      <td>31</td>\n",
       "      <td>113</td>\n",
       "    </tr>\n",
       "    <tr>\n",
       "      <th>JOB1362684407693</th>\n",
       "      <td>COMP15</td>\n",
       "      <td>CFO</td>\n",
       "      <td>NONE</td>\n",
       "      <td>NONE</td>\n",
       "      <td>HEALTH</td>\n",
       "      <td>23</td>\n",
       "      <td>24</td>\n",
       "      <td>178</td>\n",
       "    </tr>\n",
       "    <tr>\n",
       "      <th>JOB1362684407694</th>\n",
       "      <td>COMP24</td>\n",
       "      <td>JUNIOR</td>\n",
       "      <td>BACHELORS</td>\n",
       "      <td>CHEMISTRY</td>\n",
       "      <td>EDUCATION</td>\n",
       "      <td>9</td>\n",
       "      <td>70</td>\n",
       "      <td>73</td>\n",
       "    </tr>\n",
       "    <tr>\n",
       "      <th>JOB1362684407695</th>\n",
       "      <td>COMP20</td>\n",
       "      <td>JANITOR</td>\n",
       "      <td>HIGH_SCHOOL</td>\n",
       "      <td>NONE</td>\n",
       "      <td>EDUCATION</td>\n",
       "      <td>1</td>\n",
       "      <td>54</td>\n",
       "      <td>31</td>\n",
       "    </tr>\n",
       "    <tr>\n",
       "      <th>JOB1362684407696</th>\n",
       "      <td>COMP41</td>\n",
       "      <td>VICE_PRESIDENT</td>\n",
       "      <td>BACHELORS</td>\n",
       "      <td>CHEMISTRY</td>\n",
       "      <td>AUTO</td>\n",
       "      <td>17</td>\n",
       "      <td>68</td>\n",
       "      <td>104</td>\n",
       "    </tr>\n",
       "  </tbody>\n",
       "</table>\n",
       "</div>"
      ],
      "text/plain": [
       "                 companyId         jobType       degree      major   industry  \\\n",
       "jobId                                                                           \n",
       "JOB1362684407687    COMP37             CFO      MASTERS       MATH     HEALTH   \n",
       "JOB1362684407688    COMP19             CEO  HIGH_SCHOOL       NONE        WEB   \n",
       "JOB1362684407689    COMP52  VICE_PRESIDENT     DOCTORAL    PHYSICS     HEALTH   \n",
       "JOB1362684407690    COMP38         MANAGER     DOCTORAL  CHEMISTRY       AUTO   \n",
       "JOB1362684407691     COMP7  VICE_PRESIDENT    BACHELORS    PHYSICS    FINANCE   \n",
       "JOB1362684407692    COMP15         MANAGER     DOCTORAL    COMPSCI    FINANCE   \n",
       "JOB1362684407693    COMP15             CFO         NONE       NONE     HEALTH   \n",
       "JOB1362684407694    COMP24          JUNIOR    BACHELORS  CHEMISTRY  EDUCATION   \n",
       "JOB1362684407695    COMP20         JANITOR  HIGH_SCHOOL       NONE  EDUCATION   \n",
       "JOB1362684407696    COMP41  VICE_PRESIDENT    BACHELORS  CHEMISTRY       AUTO   \n",
       "\n",
       "                  yearsExperience  milesFromMetropolis  salary  \n",
       "jobId                                                           \n",
       "JOB1362684407687               10                   83     130  \n",
       "JOB1362684407688                3                   73     101  \n",
       "JOB1362684407689               10                   38     137  \n",
       "JOB1362684407690                8                   17     142  \n",
       "JOB1362684407691                8                   16     163  \n",
       "JOB1362684407692                2                   31     113  \n",
       "JOB1362684407693               23                   24     178  \n",
       "JOB1362684407694                9                   70      73  \n",
       "JOB1362684407695                1                   54      31  \n",
       "JOB1362684407696               17                   68     104  "
      ]
     },
     "metadata": {},
     "output_type": "display_data"
    }
   ],
   "source": [
    "print(train_df.info())\n",
    "display(train_df.head(10))"
   ]
  },
  {
   "cell_type": "code",
   "execution_count": 46,
   "metadata": {},
   "outputs": [
    {
     "name": "stdout",
     "output_type": "stream",
     "text": [
      "<class 'pandas.core.frame.DataFrame'>\n",
      "Index: 1000000 entries, JOB1362685407687 to JOB1362686407686\n",
      "Data columns (total 7 columns):\n",
      " #   Column               Non-Null Count    Dtype \n",
      "---  ------               --------------    ----- \n",
      " 0   companyId            1000000 non-null  object\n",
      " 1   jobType              1000000 non-null  object\n",
      " 2   degree               1000000 non-null  object\n",
      " 3   major                1000000 non-null  object\n",
      " 4   industry             1000000 non-null  object\n",
      " 5   yearsExperience      1000000 non-null  int64 \n",
      " 6   milesFromMetropolis  1000000 non-null  int64 \n",
      "dtypes: int64(2), object(5)\n",
      "memory usage: 101.0+ MB\n",
      "None\n"
     ]
    },
    {
     "data": {
      "text/html": [
       "<div>\n",
       "<style scoped>\n",
       "    .dataframe tbody tr th:only-of-type {\n",
       "        vertical-align: middle;\n",
       "    }\n",
       "\n",
       "    .dataframe tbody tr th {\n",
       "        vertical-align: top;\n",
       "    }\n",
       "\n",
       "    .dataframe thead th {\n",
       "        text-align: right;\n",
       "    }\n",
       "</style>\n",
       "<table border=\"1\" class=\"dataframe\">\n",
       "  <thead>\n",
       "    <tr style=\"text-align: right;\">\n",
       "      <th></th>\n",
       "      <th>companyId</th>\n",
       "      <th>jobType</th>\n",
       "      <th>degree</th>\n",
       "      <th>major</th>\n",
       "      <th>industry</th>\n",
       "      <th>yearsExperience</th>\n",
       "      <th>milesFromMetropolis</th>\n",
       "    </tr>\n",
       "    <tr>\n",
       "      <th>jobId</th>\n",
       "      <th></th>\n",
       "      <th></th>\n",
       "      <th></th>\n",
       "      <th></th>\n",
       "      <th></th>\n",
       "      <th></th>\n",
       "      <th></th>\n",
       "    </tr>\n",
       "  </thead>\n",
       "  <tbody>\n",
       "    <tr>\n",
       "      <th>JOB1362685407687</th>\n",
       "      <td>COMP33</td>\n",
       "      <td>MANAGER</td>\n",
       "      <td>HIGH_SCHOOL</td>\n",
       "      <td>NONE</td>\n",
       "      <td>HEALTH</td>\n",
       "      <td>22</td>\n",
       "      <td>73</td>\n",
       "    </tr>\n",
       "    <tr>\n",
       "      <th>JOB1362685407688</th>\n",
       "      <td>COMP13</td>\n",
       "      <td>JUNIOR</td>\n",
       "      <td>NONE</td>\n",
       "      <td>NONE</td>\n",
       "      <td>AUTO</td>\n",
       "      <td>20</td>\n",
       "      <td>47</td>\n",
       "    </tr>\n",
       "    <tr>\n",
       "      <th>JOB1362685407689</th>\n",
       "      <td>COMP10</td>\n",
       "      <td>CTO</td>\n",
       "      <td>MASTERS</td>\n",
       "      <td>BIOLOGY</td>\n",
       "      <td>HEALTH</td>\n",
       "      <td>17</td>\n",
       "      <td>9</td>\n",
       "    </tr>\n",
       "    <tr>\n",
       "      <th>JOB1362685407690</th>\n",
       "      <td>COMP21</td>\n",
       "      <td>MANAGER</td>\n",
       "      <td>HIGH_SCHOOL</td>\n",
       "      <td>NONE</td>\n",
       "      <td>OIL</td>\n",
       "      <td>14</td>\n",
       "      <td>96</td>\n",
       "    </tr>\n",
       "    <tr>\n",
       "      <th>JOB1362685407691</th>\n",
       "      <td>COMP36</td>\n",
       "      <td>JUNIOR</td>\n",
       "      <td>DOCTORAL</td>\n",
       "      <td>BIOLOGY</td>\n",
       "      <td>OIL</td>\n",
       "      <td>10</td>\n",
       "      <td>44</td>\n",
       "    </tr>\n",
       "    <tr>\n",
       "      <th>JOB1362685407692</th>\n",
       "      <td>COMP40</td>\n",
       "      <td>CTO</td>\n",
       "      <td>MASTERS</td>\n",
       "      <td>COMPSCI</td>\n",
       "      <td>FINANCE</td>\n",
       "      <td>6</td>\n",
       "      <td>23</td>\n",
       "    </tr>\n",
       "    <tr>\n",
       "      <th>JOB1362685407693</th>\n",
       "      <td>COMP32</td>\n",
       "      <td>SENIOR</td>\n",
       "      <td>MASTERS</td>\n",
       "      <td>COMPSCI</td>\n",
       "      <td>SERVICE</td>\n",
       "      <td>6</td>\n",
       "      <td>32</td>\n",
       "    </tr>\n",
       "    <tr>\n",
       "      <th>JOB1362685407694</th>\n",
       "      <td>COMP11</td>\n",
       "      <td>CEO</td>\n",
       "      <td>BACHELORS</td>\n",
       "      <td>BIOLOGY</td>\n",
       "      <td>SERVICE</td>\n",
       "      <td>9</td>\n",
       "      <td>73</td>\n",
       "    </tr>\n",
       "    <tr>\n",
       "      <th>JOB1362685407695</th>\n",
       "      <td>COMP39</td>\n",
       "      <td>MANAGER</td>\n",
       "      <td>DOCTORAL</td>\n",
       "      <td>PHYSICS</td>\n",
       "      <td>HEALTH</td>\n",
       "      <td>6</td>\n",
       "      <td>78</td>\n",
       "    </tr>\n",
       "    <tr>\n",
       "      <th>JOB1362685407696</th>\n",
       "      <td>COMP22</td>\n",
       "      <td>VICE_PRESIDENT</td>\n",
       "      <td>NONE</td>\n",
       "      <td>NONE</td>\n",
       "      <td>AUTO</td>\n",
       "      <td>23</td>\n",
       "      <td>97</td>\n",
       "    </tr>\n",
       "  </tbody>\n",
       "</table>\n",
       "</div>"
      ],
      "text/plain": [
       "                 companyId         jobType       degree    major industry  \\\n",
       "jobId                                                                       \n",
       "JOB1362685407687    COMP33         MANAGER  HIGH_SCHOOL     NONE   HEALTH   \n",
       "JOB1362685407688    COMP13          JUNIOR         NONE     NONE     AUTO   \n",
       "JOB1362685407689    COMP10             CTO      MASTERS  BIOLOGY   HEALTH   \n",
       "JOB1362685407690    COMP21         MANAGER  HIGH_SCHOOL     NONE      OIL   \n",
       "JOB1362685407691    COMP36          JUNIOR     DOCTORAL  BIOLOGY      OIL   \n",
       "JOB1362685407692    COMP40             CTO      MASTERS  COMPSCI  FINANCE   \n",
       "JOB1362685407693    COMP32          SENIOR      MASTERS  COMPSCI  SERVICE   \n",
       "JOB1362685407694    COMP11             CEO    BACHELORS  BIOLOGY  SERVICE   \n",
       "JOB1362685407695    COMP39         MANAGER     DOCTORAL  PHYSICS   HEALTH   \n",
       "JOB1362685407696    COMP22  VICE_PRESIDENT         NONE     NONE     AUTO   \n",
       "\n",
       "                  yearsExperience  milesFromMetropolis  \n",
       "jobId                                                   \n",
       "JOB1362685407687               22                   73  \n",
       "JOB1362685407688               20                   47  \n",
       "JOB1362685407689               17                    9  \n",
       "JOB1362685407690               14                   96  \n",
       "JOB1362685407691               10                   44  \n",
       "JOB1362685407692                6                   23  \n",
       "JOB1362685407693                6                   32  \n",
       "JOB1362685407694                9                   73  \n",
       "JOB1362685407695                6                   78  \n",
       "JOB1362685407696               23                   97  "
      ]
     },
     "metadata": {},
     "output_type": "display_data"
    }
   ],
   "source": [
    "print(test_df.info())\n",
    "display(test_df.head(10))"
   ]
  },
  {
   "cell_type": "markdown",
   "metadata": {},
   "source": [
    "## Clean data\n",
    "Before we dive in to data analysis, we should perform basic cleaning. Look for:\n",
    "1. Any missing values (np.None or np.NaN) in entire training and testing set\n",
    "    * from train_df.info() and test_df.info(), there's no null cell\n",
    "2. Any duplicated samples in training set\n",
    "3. Any invalid yearsExperience (yearsExperience <= 0) in training set\n",
    "4. Any invalid milesFromMetropolis (milesFromMetropolis < 0) in training set\n",
    "5. Any invalid salary (salary < 0) in training set"
   ]
  },
  {
   "cell_type": "code",
   "execution_count": 7,
   "metadata": {},
   "outputs": [
    {
     "name": "stdout",
     "output_type": "stream",
     "text": [
      "Any duplicated rows in training set? 186\n",
      "Any invalid yearsExperience in training set? 0\n",
      "Any invalid milesFromMetropolis in training set? 0\n",
      "Any invalid salary in training set? 5\n"
     ]
    }
   ],
   "source": [
    "\n",
    "print(\"Any duplicated rows in training set?\", train_df.duplicated().sum())\n",
    "print(\"Any invalid yearsExperience in training set?\", train_df.yearsExperience.lt(0).sum())\n",
    "print(\"Any invalid milesFromMetropolis in training set?\", train_df.milesFromMetropolis.lt(0).sum())\n",
    "print(\"Any invalid salary in training set?\", train_df.salary.le(0).sum())"
   ]
  },
  {
   "cell_type": "markdown",
   "metadata": {},
   "source": [
    "Need to drop jobs with salary <= 0. Since we have 1,000,000 samples, we have enough data to handle removing those jobs."
   ]
  },
  {
   "cell_type": "code",
   "execution_count": 8,
   "metadata": {},
   "outputs": [
    {
     "name": "stdout",
     "output_type": "stream",
     "text": [
      "Training set now has shape: (999995, 8)\n"
     ]
    }
   ],
   "source": [
    "train_df = train_df.drop(train_df.index[train_df.salary.le(0)])\n",
    "print(\"Training set now has shape:\", train_df.shape)"
   ]
  },
  {
   "cell_type": "markdown",
   "metadata": {},
   "source": [
    "## Explore data\n",
    "Now that we've done the basic cleaning, let's look at each feature one by one and generate some statistics reports to further analyze our data.\n",
    "### Company ID\n",
    "In real-life, if a company is well-known or an international organization, the salary is likely to be higher than local startups. We can generate a statistics report to find out which company pays more in general. Since there are 63 companies, let's randomly select some companies and see their statistics:"
   ]
  },
  {
   "cell_type": "code",
   "execution_count": 9,
   "metadata": {},
   "outputs": [
    {
     "data": {
      "image/png": "[encoded data removed]",
      "text/plain": [
       "<Figure size 432x288 with 1 Axes>"
      ]
     },
     "metadata": {
      "needs_background": "light"
     },
     "output_type": "display_data"
    },
    {
     "data": {
      "text/html": [
       "<div>\n",
       "<style scoped>\n",
       "    .dataframe tbody tr th:only-of-type {\n",
       "        vertical-align: middle;\n",
       "    }\n",
       "\n",
       "    .dataframe tbody tr th {\n",
       "        vertical-align: top;\n",
       "    }\n",
       "\n",
       "    .dataframe thead th {\n",
       "        text-align: right;\n",
       "    }\n",
       "</style>\n",
       "<table border=\"1\" class=\"dataframe\">\n",
       "  <thead>\n",
       "    <tr style=\"text-align: right;\">\n",
       "      <th></th>\n",
       "      <th>count</th>\n",
       "      <th>mean</th>\n",
       "      <th>std</th>\n",
       "      <th>min</th>\n",
       "      <th>25%</th>\n",
       "      <th>50%</th>\n",
       "      <th>75%</th>\n",
       "      <th>max</th>\n",
       "    </tr>\n",
       "    <tr>\n",
       "      <th>companyId</th>\n",
       "      <th></th>\n",
       "      <th></th>\n",
       "      <th></th>\n",
       "      <th></th>\n",
       "      <th></th>\n",
       "      <th></th>\n",
       "      <th></th>\n",
       "      <th></th>\n",
       "    </tr>\n",
       "  </thead>\n",
       "  <tbody>\n",
       "    <tr>\n",
       "      <th>COMP40</th>\n",
       "      <td>16007.0</td>\n",
       "      <td>116.790</td>\n",
       "      <td>38.649</td>\n",
       "      <td>21.0</td>\n",
       "      <td>89.0</td>\n",
       "      <td>114.0</td>\n",
       "      <td>142.0</td>\n",
       "      <td>272.0</td>\n",
       "    </tr>\n",
       "    <tr>\n",
       "      <th>COMP21</th>\n",
       "      <td>15949.0</td>\n",
       "      <td>116.539</td>\n",
       "      <td>38.774</td>\n",
       "      <td>20.0</td>\n",
       "      <td>89.0</td>\n",
       "      <td>114.0</td>\n",
       "      <td>142.0</td>\n",
       "      <td>287.0</td>\n",
       "    </tr>\n",
       "    <tr>\n",
       "      <th>COMP9</th>\n",
       "      <td>15988.0</td>\n",
       "      <td>116.453</td>\n",
       "      <td>38.872</td>\n",
       "      <td>20.0</td>\n",
       "      <td>89.0</td>\n",
       "      <td>114.0</td>\n",
       "      <td>142.0</td>\n",
       "      <td>264.0</td>\n",
       "    </tr>\n",
       "    <tr>\n",
       "      <th>COMP58</th>\n",
       "      <td>15961.0</td>\n",
       "      <td>116.446</td>\n",
       "      <td>38.792</td>\n",
       "      <td>23.0</td>\n",
       "      <td>89.0</td>\n",
       "      <td>114.0</td>\n",
       "      <td>142.0</td>\n",
       "      <td>274.0</td>\n",
       "    </tr>\n",
       "    <tr>\n",
       "      <th>COMP16</th>\n",
       "      <td>15783.0</td>\n",
       "      <td>116.358</td>\n",
       "      <td>38.794</td>\n",
       "      <td>20.0</td>\n",
       "      <td>88.0</td>\n",
       "      <td>114.0</td>\n",
       "      <td>141.0</td>\n",
       "      <td>274.0</td>\n",
       "    </tr>\n",
       "    <tr>\n",
       "      <th>COMP17</th>\n",
       "      <td>15715.0</td>\n",
       "      <td>116.316</td>\n",
       "      <td>39.233</td>\n",
       "      <td>22.0</td>\n",
       "      <td>89.0</td>\n",
       "      <td>114.0</td>\n",
       "      <td>141.0</td>\n",
       "      <td>289.0</td>\n",
       "    </tr>\n",
       "    <tr>\n",
       "      <th>COMP14</th>\n",
       "      <td>15908.0</td>\n",
       "      <td>116.303</td>\n",
       "      <td>38.704</td>\n",
       "      <td>20.0</td>\n",
       "      <td>89.0</td>\n",
       "      <td>114.0</td>\n",
       "      <td>142.0</td>\n",
       "      <td>283.0</td>\n",
       "    </tr>\n",
       "    <tr>\n",
       "      <th>COMP51</th>\n",
       "      <td>16005.0</td>\n",
       "      <td>116.290</td>\n",
       "      <td>38.710</td>\n",
       "      <td>21.0</td>\n",
       "      <td>89.0</td>\n",
       "      <td>114.0</td>\n",
       "      <td>141.0</td>\n",
       "      <td>278.0</td>\n",
       "    </tr>\n",
       "    <tr>\n",
       "      <th>COMP23</th>\n",
       "      <td>15918.0</td>\n",
       "      <td>116.261</td>\n",
       "      <td>38.566</td>\n",
       "      <td>19.0</td>\n",
       "      <td>88.0</td>\n",
       "      <td>114.0</td>\n",
       "      <td>141.0</td>\n",
       "      <td>279.0</td>\n",
       "    </tr>\n",
       "    <tr>\n",
       "      <th>COMP52</th>\n",
       "      <td>15737.0</td>\n",
       "      <td>116.224</td>\n",
       "      <td>38.642</td>\n",
       "      <td>19.0</td>\n",
       "      <td>89.0</td>\n",
       "      <td>114.0</td>\n",
       "      <td>141.0</td>\n",
       "      <td>271.0</td>\n",
       "    </tr>\n",
       "    <tr>\n",
       "      <th>COMP22</th>\n",
       "      <td>15907.0</td>\n",
       "      <td>116.208</td>\n",
       "      <td>38.930</td>\n",
       "      <td>20.0</td>\n",
       "      <td>88.0</td>\n",
       "      <td>114.0</td>\n",
       "      <td>142.0</td>\n",
       "      <td>287.0</td>\n",
       "    </tr>\n",
       "    <tr>\n",
       "      <th>COMP3</th>\n",
       "      <td>16028.0</td>\n",
       "      <td>116.199</td>\n",
       "      <td>38.479</td>\n",
       "      <td>20.0</td>\n",
       "      <td>89.0</td>\n",
       "      <td>114.0</td>\n",
       "      <td>141.0</td>\n",
       "      <td>294.0</td>\n",
       "    </tr>\n",
       "    <tr>\n",
       "      <th>COMP24</th>\n",
       "      <td>15831.0</td>\n",
       "      <td>116.176</td>\n",
       "      <td>38.694</td>\n",
       "      <td>21.0</td>\n",
       "      <td>89.0</td>\n",
       "      <td>114.0</td>\n",
       "      <td>141.0</td>\n",
       "      <td>285.0</td>\n",
       "    </tr>\n",
       "    <tr>\n",
       "      <th>COMP36</th>\n",
       "      <td>15891.0</td>\n",
       "      <td>116.092</td>\n",
       "      <td>38.774</td>\n",
       "      <td>20.0</td>\n",
       "      <td>88.0</td>\n",
       "      <td>114.0</td>\n",
       "      <td>141.0</td>\n",
       "      <td>284.0</td>\n",
       "    </tr>\n",
       "    <tr>\n",
       "      <th>COMP33</th>\n",
       "      <td>15801.0</td>\n",
       "      <td>116.020</td>\n",
       "      <td>38.872</td>\n",
       "      <td>22.0</td>\n",
       "      <td>89.0</td>\n",
       "      <td>114.0</td>\n",
       "      <td>141.0</td>\n",
       "      <td>268.0</td>\n",
       "    </tr>\n",
       "    <tr>\n",
       "      <th>COMP20</th>\n",
       "      <td>15910.0</td>\n",
       "      <td>115.934</td>\n",
       "      <td>38.675</td>\n",
       "      <td>19.0</td>\n",
       "      <td>88.0</td>\n",
       "      <td>114.0</td>\n",
       "      <td>141.0</td>\n",
       "      <td>275.0</td>\n",
       "    </tr>\n",
       "    <tr>\n",
       "      <th>COMP15</th>\n",
       "      <td>31802.0</td>\n",
       "      <td>115.847</td>\n",
       "      <td>38.549</td>\n",
       "      <td>21.0</td>\n",
       "      <td>89.0</td>\n",
       "      <td>113.0</td>\n",
       "      <td>141.0</td>\n",
       "      <td>273.0</td>\n",
       "    </tr>\n",
       "    <tr>\n",
       "      <th>COMP55</th>\n",
       "      <td>31534.0</td>\n",
       "      <td>115.624</td>\n",
       "      <td>38.852</td>\n",
       "      <td>20.0</td>\n",
       "      <td>88.0</td>\n",
       "      <td>114.0</td>\n",
       "      <td>141.0</td>\n",
       "      <td>283.0</td>\n",
       "    </tr>\n",
       "  </tbody>\n",
       "</table>\n",
       "</div>"
      ],
      "text/plain": [
       "             count     mean     std   min   25%    50%    75%    max\n",
       "companyId                                                           \n",
       "COMP40     16007.0  116.790  38.649  21.0  89.0  114.0  142.0  272.0\n",
       "COMP21     15949.0  116.539  38.774  20.0  89.0  114.0  142.0  287.0\n",
       "COMP9      15988.0  116.453  38.872  20.0  89.0  114.0  142.0  264.0\n",
       "COMP58     15961.0  116.446  38.792  23.0  89.0  114.0  142.0  274.0\n",
       "COMP16     15783.0  116.358  38.794  20.0  88.0  114.0  141.0  274.0\n",
       "COMP17     15715.0  116.316  39.233  22.0  89.0  114.0  141.0  289.0\n",
       "COMP14     15908.0  116.303  38.704  20.0  89.0  114.0  142.0  283.0\n",
       "COMP51     16005.0  116.290  38.710  21.0  89.0  114.0  141.0  278.0\n",
       "COMP23     15918.0  116.261  38.566  19.0  88.0  114.0  141.0  279.0\n",
       "COMP52     15737.0  116.224  38.642  19.0  89.0  114.0  141.0  271.0\n",
       "COMP22     15907.0  116.208  38.930  20.0  88.0  114.0  142.0  287.0\n",
       "COMP3      16028.0  116.199  38.479  20.0  89.0  114.0  141.0  294.0\n",
       "COMP24     15831.0  116.176  38.694  21.0  89.0  114.0  141.0  285.0\n",
       "COMP36     15891.0  116.092  38.774  20.0  88.0  114.0  141.0  284.0\n",
       "COMP33     15801.0  116.020  38.872  22.0  89.0  114.0  141.0  268.0\n",
       "COMP20     15910.0  115.934  38.675  19.0  88.0  114.0  141.0  275.0\n",
       "COMP15     31802.0  115.847  38.549  21.0  89.0  113.0  141.0  273.0\n",
       "COMP55     31534.0  115.624  38.852  20.0  88.0  114.0  141.0  283.0"
      ]
     },
     "metadata": {},
     "output_type": "display_data"
    }
   ],
   "source": [
    "# randomly select n companies\n",
    "companies = train_df.companyId.unique()\n",
    "pick_n_companies = 20\n",
    "rand_companies = companies[np.random.randint(1, len(companies), pick_n_companies)]\n",
    "first_one = True\n",
    "\n",
    "# show boxplot\n",
    "for company in rand_companies:\n",
    "    if first_one:\n",
    "        groups = train_df[['companyId', 'salary']][train_df.companyId == company]\n",
    "        first_one = False\n",
    "    else:\n",
    "        group = train_df[['companyId', 'salary']][train_df.companyId == company]\n",
    "        groups = pd.concat([groups, group], axis=0)\n",
    "\n",
    "groups.boxplot(by='companyId')\n",
    "plt.show()\n",
    "\n",
    "# show statistics\n",
    "display(groups.groupby(['companyId']).salary.describe().sort_values(by='mean', ascending=False))"
   ]
  },
  {
   "cell_type": "markdown",
   "metadata": {},
   "source": [
    "Observations:\n",
    "1. Similar distribution\n",
    "2. Average salary varies a little\n",
    "    * Average salary span between 115-117\n",
    "3. Similar deviation\n",
    "4. The 25%, 50%, and 75% quantile are almost the same between companies\n",
    "\n",
    "Salary distributions are very identical that no company particularly stands out with higher or lower wage.\n",
    "\n",
    "### Job Types\n",
    "There are 8 types of job: CEO, CFO, CTO, JANITOR, JUNIOR, MANAGER, SENIOR and VICE_PRESIDENT.\n",
    "\n",
    "It's reasonable to assume the chief positions offers much higher than JANITOR and JUNIOR. But will it be linear increase? Or exponential? Let's check the statistics"
   ]
  },
  {
   "cell_type": "code",
   "execution_count": 10,
   "metadata": {},
   "outputs": [
    {
     "data": {
      "text/html": [
       "<div>\n",
       "<style scoped>\n",
       "    .dataframe tbody tr th:only-of-type {\n",
       "        vertical-align: middle;\n",
       "    }\n",
       "\n",
       "    .dataframe tbody tr th {\n",
       "        vertical-align: top;\n",
       "    }\n",
       "\n",
       "    .dataframe thead th {\n",
       "        text-align: right;\n",
       "    }\n",
       "</style>\n",
       "<table border=\"1\" class=\"dataframe\">\n",
       "  <thead>\n",
       "    <tr style=\"text-align: right;\">\n",
       "      <th></th>\n",
       "      <th>count</th>\n",
       "      <th>mean</th>\n",
       "      <th>std</th>\n",
       "      <th>min</th>\n",
       "      <th>25%</th>\n",
       "      <th>50%</th>\n",
       "      <th>75%</th>\n",
       "      <th>max</th>\n",
       "    </tr>\n",
       "    <tr>\n",
       "      <th>jobType</th>\n",
       "      <th></th>\n",
       "      <th></th>\n",
       "      <th></th>\n",
       "      <th></th>\n",
       "      <th></th>\n",
       "      <th></th>\n",
       "      <th></th>\n",
       "      <th></th>\n",
       "    </tr>\n",
       "  </thead>\n",
       "  <tbody>\n",
       "    <tr>\n",
       "      <th>CEO</th>\n",
       "      <td>124778.0</td>\n",
       "      <td>145.311</td>\n",
       "      <td>34.424</td>\n",
       "      <td>55.0</td>\n",
       "      <td>120.0</td>\n",
       "      <td>142.0</td>\n",
       "      <td>167.0</td>\n",
       "      <td>298.0</td>\n",
       "    </tr>\n",
       "    <tr>\n",
       "      <th>CTO</th>\n",
       "      <td>125045.0</td>\n",
       "      <td>135.481</td>\n",
       "      <td>33.091</td>\n",
       "      <td>51.0</td>\n",
       "      <td>111.0</td>\n",
       "      <td>132.0</td>\n",
       "      <td>156.0</td>\n",
       "      <td>301.0</td>\n",
       "    </tr>\n",
       "    <tr>\n",
       "      <th>CFO</th>\n",
       "      <td>124369.0</td>\n",
       "      <td>135.459</td>\n",
       "      <td>33.069</td>\n",
       "      <td>51.0</td>\n",
       "      <td>111.0</td>\n",
       "      <td>132.0</td>\n",
       "      <td>156.0</td>\n",
       "      <td>301.0</td>\n",
       "    </tr>\n",
       "    <tr>\n",
       "      <th>VICE_PRESIDENT</th>\n",
       "      <td>125234.0</td>\n",
       "      <td>125.369</td>\n",
       "      <td>31.956</td>\n",
       "      <td>44.0</td>\n",
       "      <td>102.0</td>\n",
       "      <td>122.0</td>\n",
       "      <td>146.0</td>\n",
       "      <td>272.0</td>\n",
       "    </tr>\n",
       "    <tr>\n",
       "      <th>MANAGER</th>\n",
       "      <td>125120.0</td>\n",
       "      <td>115.369</td>\n",
       "      <td>30.834</td>\n",
       "      <td>37.0</td>\n",
       "      <td>93.0</td>\n",
       "      <td>112.0</td>\n",
       "      <td>135.0</td>\n",
       "      <td>270.0</td>\n",
       "    </tr>\n",
       "    <tr>\n",
       "      <th>SENIOR</th>\n",
       "      <td>125886.0</td>\n",
       "      <td>105.488</td>\n",
       "      <td>30.070</td>\n",
       "      <td>31.0</td>\n",
       "      <td>83.0</td>\n",
       "      <td>102.0</td>\n",
       "      <td>124.0</td>\n",
       "      <td>258.0</td>\n",
       "    </tr>\n",
       "    <tr>\n",
       "      <th>JUNIOR</th>\n",
       "      <td>124592.0</td>\n",
       "      <td>95.333</td>\n",
       "      <td>29.247</td>\n",
       "      <td>23.0</td>\n",
       "      <td>74.0</td>\n",
       "      <td>92.0</td>\n",
       "      <td>114.0</td>\n",
       "      <td>248.0</td>\n",
       "    </tr>\n",
       "    <tr>\n",
       "      <th>JANITOR</th>\n",
       "      <td>124971.0</td>\n",
       "      <td>70.813</td>\n",
       "      <td>24.643</td>\n",
       "      <td>17.0</td>\n",
       "      <td>52.0</td>\n",
       "      <td>68.0</td>\n",
       "      <td>86.0</td>\n",
       "      <td>189.0</td>\n",
       "    </tr>\n",
       "  </tbody>\n",
       "</table>\n",
       "</div>"
      ],
      "text/plain": [
       "                   count     mean     std   min    25%    50%    75%    max\n",
       "jobType                                                                    \n",
       "CEO             124778.0  145.311  34.424  55.0  120.0  142.0  167.0  298.0\n",
       "CTO             125045.0  135.481  33.091  51.0  111.0  132.0  156.0  301.0\n",
       "CFO             124369.0  135.459  33.069  51.0  111.0  132.0  156.0  301.0\n",
       "VICE_PRESIDENT  125234.0  125.369  31.956  44.0  102.0  122.0  146.0  272.0\n",
       "MANAGER         125120.0  115.369  30.834  37.0   93.0  112.0  135.0  270.0\n",
       "SENIOR          125886.0  105.488  30.070  31.0   83.0  102.0  124.0  258.0\n",
       "JUNIOR          124592.0   95.333  29.247  23.0   74.0   92.0  114.0  248.0\n",
       "JANITOR         124971.0   70.813  24.643  17.0   52.0   68.0   86.0  189.0"
      ]
     },
     "metadata": {},
     "output_type": "display_data"
    },
    {
     "data": {
      "text/plain": [
       "<AxesSubplot:title={'center':'salary'}, xlabel='[jobType]'>"
      ]
     },
     "execution_count": 10,
     "metadata": {},
     "output_type": "execute_result"
    },
    {
     "data": {
      "image/png": "[encoded data removed]",
      "text/plain": [
       "<Figure size 432x288 with 1 Axes>"
      ]
     },
     "metadata": {
      "needs_background": "light"
     },
     "output_type": "display_data"
    }
   ],
   "source": [
    "display(train_df.groupby(['jobType']).salary.describe().sort_values(by='mean', ascending=False))\n",
    "train_df[['jobType', 'salary']].boxplot(by='jobType')"
   ]
  },
  {
   "cell_type": "markdown",
   "metadata": {},
   "source": [
    "Looks like there's some rules to follow:\n",
    "1. Jobs areevenly distributed. Each job type has 124,000~126,000 sample\n",
    "2. The spectrum of average salary is the widest among all featuers\n",
    "    * Average salary ranges from 145 to 70\n",
    "3. CFO and CTO offer same salary and have same distribution\n",
    "4. The average salary ranking is: CEO > CFO = CTO > VP > MANAGER > SENIOR > JUNIOR >> JANITOR\n",
    "5. The deviation decreases with average salary\n",
    "6. All positions are slightly positive skewed Gaussian distribution.\n",
    "\n",
    "Some data transformation is needed to emphasize the rules in jobType vs. salary. \n",
    "\n",
    "To visualize more on the skewness, use histograms, skewness, and number of outliers|:"
   ]
  },
  {
   "cell_type": "code",
   "execution_count": 11,
   "metadata": {},
   "outputs": [
    {
     "data": {
      "image/png": "[encoded data removed]",
      "text/plain": [
       "<Figure size 1008x432 with 8 Axes>"
      ]
     },
     "metadata": {
      "needs_background": "light"
     },
     "output_type": "display_data"
    },
    {
     "data": {
      "text/plain": [
       "jobType\n",
       "JANITOR           0.634\n",
       "JUNIOR            0.594\n",
       "SENIOR            0.556\n",
       "MANAGER           0.552\n",
       "VICE_PRESIDENT    0.527\n",
       "CFO               0.515\n",
       "CTO               0.512\n",
       "CEO               0.491\n",
       "Name: salary, dtype: float64"
      ]
     },
     "metadata": {},
     "output_type": "display_data"
    },
    {
     "data": {
      "text/plain": [
       "jobType\n",
       "JANITOR           1365\n",
       "SENIOR            1330\n",
       "JUNIOR            1285\n",
       "CFO               1234\n",
       "CTO               1211\n",
       "MANAGER           1192\n",
       "CEO               1134\n",
       "VICE_PRESIDENT    1074\n",
       "dtype: int64"
      ]
     },
     "metadata": {},
     "output_type": "display_data"
    }
   ],
   "source": [
    "jobTypes = train_df.jobType.unique()\n",
    "plt.figure(figsize = (14, 6))\n",
    "\n",
    "# print histogram\n",
    "for i in range(len(jobTypes)):\n",
    "    plt.subplot(3, 3, i+1)\n",
    "    plt.hist(train_df.salary[train_df.jobType == jobTypes[i]])\n",
    "    plt.title(jobTypes[i])\n",
    "plt.show()\n",
    "\n",
    "# show skewness\n",
    "display(train_df.groupby(['jobType']).salary.skew().sort_values(ascending=False))\n",
    "\n",
    "# count outliers with 1.5 * IQR rule\n",
    "Q1 = train_df.groupby(['jobType']).salary.quantile(0.25)\n",
    "Q3 = train_df.groupby(['jobType']).salary.quantile(0.75)\n",
    "upper_bound = Q3 + 1.5 * (Q3 - Q1)\n",
    "display(train_df.groupby(['jobType']).apply(lambda x: (x.salary.values > upper_bound[x.jobType]).sum()).sort_values(ascending=False))"
   ]
  },
  {
   "cell_type": "markdown",
   "metadata": {},
   "source": [
    "This backs up our previous assumption of positive skewness. As shown in skew table, the skewness are all positive and relatively small, and most histograms slightly lean toward left. In addition, with lower position, skewness and outliers increases. \n",
    "\n",
    "My guessing would be that lower positions usually have more room to negotiate for more salary due to other factors, such as world class company might offer more for the same position than local startups, or people with prior experience in the industry tends to be offered more than university graduates. And people interviewing for higher position might not be for the money, so the positions tends to offer standard salary. Thus the salaries for lower positions seems to rely more on other features than higher positions."
   ]
  },
  {
   "cell_type": "markdown",
   "metadata": {},
   "source": [
    "### Degree\n",
    "There are 5 types of degree: BACHLORS, DOCTORAL, HIGH_SCHOOL, MASTERS, and NONE\n",
    "\n",
    "I expect that more professional position asks for higher educatation, so jobs requiring DOCTORAL degree might offer much higher than HIGH SCHOOL graduated. But will it be the same for DOCTORAL vs. MASTER degree? How much of a gap in salary will it be?"
   ]
  },
  {
   "cell_type": "code",
   "execution_count": 12,
   "metadata": {},
   "outputs": [
    {
     "name": "stdout",
     "output_type": "stream",
     "text": [
      "                count     mean     std   min    25%    50%    75%    max\n",
      "degree                                                                  \n",
      "DOCTORAL     175362.0  135.491  35.791  45.0  109.0  132.0  158.0  301.0\n",
      "MASTERS      175310.0  130.506  35.400  38.0  105.0  127.0  153.0  301.0\n",
      "BACHELORS    175495.0  125.455  35.043  35.0  100.0  122.0  148.0  294.0\n",
      "HIGH_SCHOOL  236975.0  101.921  36.113  18.0   75.0   99.0  125.0  260.0\n",
      "NONE         236853.0   98.177  34.915  17.0   72.0   95.0  121.0  254.0\n"
     ]
    },
    {
     "data": {
      "text/plain": [
       "<AxesSubplot:title={'center':'salary'}, xlabel='[degree]'>"
      ]
     },
     "execution_count": 12,
     "metadata": {},
     "output_type": "execute_result"
    },
    {
     "data": {
      "image/png": "[encoded data removed]",
      "text/plain": [
       "<Figure size 432x288 with 1 Axes>"
      ]
     },
     "metadata": {
      "needs_background": "light"
     },
     "output_type": "display_data"
    }
   ],
   "source": [
    "print(train_df.groupby(['degree']).describe().salary.sort_values(by='mean', ascending=False))\n",
    "train_df[['degree', 'salary']].boxplot(by='degree')"
   ]
  },
  {
   "cell_type": "markdown",
   "metadata": {},
   "source": [
    "Observations:\n",
    "1. Number of jobs not asking for a degree is almost the same as asking for HIGH_SCHOOL degree.\n",
    "2. Number of jobs asking for BACHELORS, MASTERS, and DOCTORAL are almost the same.\n",
    "3. Jobs asking for HIGH_SCHOOL degree offer almost the same salary as NONE. \n",
    "4. Jobs asking for HIGH_SCHOOL degree or NONE offer much less than BACHELORS and above. \n",
    "5. Distribution for BACHELORS, MASTERS, and DOCTORAL shifts and narrows in same rate.\n",
    "6. The average salary ranking is: DOCTORAL > MASTERS > BACHELORS >> HIGH_SCHOOL > NONE.\n",
    "7. Except HIGH_SCHOOL, the ranking of deviation is the same as average salary\n",
    "    * HIGH_SCHOOL has highest deviation\n",
    "    * Maybe some jobs are intern positions that allow students to continue higher education while working, thus the salary is negotiable judging from their potential\n",
    "    * Maybe other jobs are general labor jobs that don't require any professional knowledge, thus paid less\n",
    "8. All degree are Gaussian distributed. And maybe positively skewed.\n",
    "\n",
    "Looks like data can be seperated to two groups:\n",
    "1. NONE and HIGH_SCHOOL: more job opening but lower offer\n",
    "2. BACHELORS, MASTERS, DOCTORAL: less job openings and higher offer\n",
    "\n",
    "Use average salary as encoder can emphasize this finding.\n",
    "\n",
    "Again, let's verify the Gaussian distribution with histograms, skewness, and outliers."
   ]
  },
  {
   "cell_type": "code",
   "execution_count": 13,
   "metadata": {},
   "outputs": [
    {
     "data": {
      "image/png": "[encoded data removed]",
      "text/plain": [
       "<Figure size 1008x432 with 5 Axes>"
      ]
     },
     "metadata": {
      "needs_background": "light"
     },
     "output_type": "display_data"
    },
    {
     "data": {
      "text/plain": [
       "degree\n",
       "MASTERS        0.468\n",
       "NONE           0.465\n",
       "BACHELORS      0.462\n",
       "DOCTORAL       0.457\n",
       "HIGH_SCHOOL    0.413\n",
       "Name: salary, dtype: float64"
      ]
     },
     "metadata": {},
     "output_type": "display_data"
    },
    {
     "data": {
      "text/plain": [
       "degree\n",
       "NONE           1724\n",
       "HIGH_SCHOOL    1632\n",
       "MASTERS        1572\n",
       "DOCTORAL       1537\n",
       "BACHELORS      1440\n",
       "dtype: int64"
      ]
     },
     "metadata": {},
     "output_type": "display_data"
    }
   ],
   "source": [
    "degrees = train_df.degree.unique()\n",
    "plt.figure(figsize = (14, 6))\n",
    "\n",
    "# plot histograms\n",
    "for i in range(len(degrees)):\n",
    "    plt.subplot(2, 3, i+1)\n",
    "    plt.hist(train_df.salary[train_df.degree == degrees[i]])\n",
    "    plt.title(degrees[i])\n",
    "plt.show()\n",
    "\n",
    "# show skewness\n",
    "display(train_df.groupby(['degree']).salary.skew().sort_values(ascending=False))\n",
    "\n",
    "# count outliers with 1.5 * IQR rule\n",
    "Q1 = train_df.groupby(['degree']).salary.quantile(0.25)\n",
    "Q3 = train_df.groupby(['degree']).salary.quantile(0.75)\n",
    "upper_bound = Q3 + 1.5 * (Q3 - Q1)\n",
    "display(train_df.groupby(['degree']).apply(lambda x: (x.salary.values > upper_bound[x.degree]).sum()).sort_values(ascending=False))"
   ]
  },
  {
   "cell_type": "markdown",
   "metadata": {},
   "source": [
    "As expected, it's Gaussian and positive skewed. \n",
    "\n",
    "It's interesting how HIGH_SCHOOL degree is skewed the least but at the same time has so many outliers, it's also offered second to least, suggesting that jobs requiring HIGH_SCHOOL have narrower spectrum of salary in general compare to other degrees."
   ]
  },
  {
   "cell_type": "markdown",
   "metadata": {},
   "source": [
    "### Major\n",
    "There are 9 majors: BIOLOGY, BUSINESS, CHEMISTRY, COMPSCI (computer science), ENGINEERING, LITERATURE, MATH, NONE, and PHYSICS\n",
    "\n",
    "I expect the technical (ENGINEERING and COMPSCI) and BUSINESS major might be offered more than pure science (BIOLOGY, CHEMISTRY, MATH, PHYSICS) and LITERATURE major since they're more practical (eg. designing product, analyzing market trend, etc.) and less theoratical or economic (eg. research papers, studying Shakespeare, etc.)."
   ]
  },
  {
   "cell_type": "code",
   "execution_count": 14,
   "metadata": {},
   "outputs": [
    {
     "data": {
      "text/plain": [
       "major\n",
       "BIOLOGY         58379\n",
       "BUSINESS        58518\n",
       "CHEMISTRY       58875\n",
       "COMPSCI         58382\n",
       "ENGINEERING     58594\n",
       "LITERATURE      58684\n",
       "MATH            57800\n",
       "NONE           532353\n",
       "PHYSICS         58410\n",
       "dtype: int64"
      ]
     },
     "execution_count": 14,
     "metadata": {},
     "output_type": "execute_result"
    }
   ],
   "source": [
    "train_df.groupby(['major']).size()"
   ]
  },
  {
   "cell_type": "markdown",
   "metadata": {},
   "source": [
    "This features has noticable imbalanced data. More than half of the job offerings don't look at applicant's major (NONE), hance everyone can apply. But this raises some questions:\n",
    "* Does it reflect on salary? \n",
    "* If the major is irrelevent, do those jobs have lower wage because it's not professional? \n",
    "    * For example, workers at warehouse or clark at supermarket might not need be any major to work.\n",
    "* Does it suggest us that the major doesn't provide valueable information since so many jobs don't require any? \n",
    "    * Drop this feature?\n",
    "    * Merge it with other features?\n",
    "* Any relationship with other features?\n",
    "    * For example, are OLD and SERVICE industry willing to hire more NONE major employees than WEB or FINANCE?\n",
    "    * For example, is employee likely to be paid more with higher education in any major?\n",
    "\n",
    "Some questions call for correlation matrix that will be shown later. Let's check the statistics report first."
   ]
  },
  {
   "cell_type": "code",
   "execution_count": 15,
   "metadata": {},
   "outputs": [
    {
     "name": "stdout",
     "output_type": "stream",
     "text": [
      "                count     mean     std   min    25%    50%    75%    max\n",
      "major                                                                   \n",
      "ENGINEERING   58594.0  138.441  38.179  41.0  111.0  135.0  163.0  301.0\n",
      "BUSINESS      58518.0  135.649  37.007  40.0  109.0  132.0  159.0  294.0\n",
      "MATH          57800.0  133.322  35.539  39.0  107.0  130.0  156.0  280.0\n",
      "COMPSCI       58382.0  132.076  34.777  41.0  107.0  129.0  154.0  286.0\n",
      "PHYSICS       58410.0  130.372  34.957  38.0  105.0  127.0  153.0  293.0\n",
      "CHEMISTRY     58875.0  129.072  34.832  40.0  104.0  126.0  151.0  282.0\n",
      "BIOLOGY       58379.0  127.933  34.820  35.0  103.0  125.0  150.0  285.0\n",
      "LITERATURE    58684.0  124.423  33.576  37.0  100.0  122.0  146.0  271.0\n",
      "NONE         532353.0  102.584  36.136  17.0   76.0  100.0  126.0  270.0\n"
     ]
    },
    {
     "data": {
      "text/plain": [
       "<AxesSubplot:title={'center':'salary'}, xlabel='[major]'>"
      ]
     },
     "execution_count": 15,
     "metadata": {},
     "output_type": "execute_result"
    },
    {
     "data": {
      "image/png": "[encoded data removed]",
      "text/plain": [
       "<Figure size 432x288 with 1 Axes>"
      ]
     },
     "metadata": {
      "needs_background": "light"
     },
     "output_type": "display_data"
    }
   ],
   "source": [
    "print(train_df.groupby(['major']).salary.describe().sort_values(by='mean', ascending=False))\n",
    "train_df[['major', 'salary']].boxplot(by='major')"
   ]
  },
  {
   "cell_type": "markdown",
   "metadata": {},
   "source": [
    "1. NONE obviously has lower distribution than others by great amount.\n",
    "2. The average salary ranking is: ENGINEERING > BUSINESS > MATH > COMPSCI > PHYSICS > CHEMISTRY > BIOLOGY > LITERATURE >> NONE\n",
    "3. BUSINESS and ENGINEERING have larger deviation\n",
    "4. LITERATURE has smallest deviation\n",
    "5. Ranking of deviation is similar to mean, except NONE has higher deviation\n",
    "    * Lower paid jobs usually offers the standard salary\n",
    "    * Higher paid jobs depends more on other factors, thus have wider range of salary\n",
    "    * There can be various jobs that don't require any major, thus it also heavily depends on other features\n",
    "6. Gaussian distributed and skew to positive\n",
    "\n",
    "This verifies our initial guessing that jobs with no major requirement might be less professional and thus paid less. But consider the imbalanced data, it's too early to assume all jobs not requiring major pay less since we're not sure if there are other factors influencing the salary. More details in correlation matrix later."
   ]
  },
  {
   "cell_type": "code",
   "execution_count": 16,
   "metadata": {},
   "outputs": [
    {
     "data": {
      "image/png": "[encoded data removed]",
      "text/plain": [
       "<Figure size 1008x432 with 9 Axes>"
      ]
     },
     "metadata": {
      "needs_background": "light"
     },
     "output_type": "display_data"
    },
    {
     "data": {
      "text/plain": [
       "major\n",
       "BUSINESS       0.458\n",
       "COMPSCI        0.453\n",
       "LITERATURE     0.447\n",
       "PHYSICS        0.444\n",
       "MATH           0.437\n",
       "ENGINEERING    0.430\n",
       "CHEMISTRY      0.430\n",
       "BIOLOGY        0.422\n",
       "NONE           0.422\n",
       "Name: salary, dtype: float64"
      ]
     },
     "metadata": {},
     "output_type": "display_data"
    },
    {
     "data": {
      "text/plain": [
       "major\n",
       "NONE           3760\n",
       "COMPSCI         532\n",
       "CHEMISTRY       525\n",
       "BIOLOGY         522\n",
       "BUSINESS        518\n",
       "MATH            470\n",
       "LITERATURE      468\n",
       "ENGINEERING     468\n",
       "PHYSICS         462\n",
       "dtype: int64"
      ]
     },
     "metadata": {},
     "output_type": "display_data"
    }
   ],
   "source": [
    "majors = train_df.major.unique()\n",
    "plt.figure(figsize = (14, 6))\n",
    "\n",
    "# plot histograms\n",
    "for i in range(len(majors)):\n",
    "    plt.subplot(3, 3, i+1)\n",
    "    plt.hist(train_df.salary[train_df.major == majors[i]])\n",
    "    plt.title(majors[i])\n",
    "plt.show()\n",
    "\n",
    "# show skewness\n",
    "display(train_df.groupby(['major']).salary.skew().sort_values(ascending=False))\n",
    "\n",
    "# count outliers with 1.5 * IQR rule\n",
    "Q1 = train_df.groupby(['major']).salary.quantile(0.25)\n",
    "Q3 = train_df.groupby(['major']).salary.quantile(0.75)\n",
    "upper_bound = Q3 + 1.5 * (Q3 - Q1)\n",
    "display(train_df.groupby(['major']).apply(lambda x: (x.salary.values > upper_bound[x.major]).sum()).sort_values(ascending=False))"
   ]
  },
  {
   "cell_type": "markdown",
   "metadata": {},
   "source": [
    "Compare to other features like jobType, all majors are skewed at similar rate. Notice that NONE has many outliers, but considering half of data requires NONE, the distribution is evened out and thus doesn't skew that much."
   ]
  },
  {
   "cell_type": "markdown",
   "metadata": {},
   "source": [
    "### Industry\n",
    "There are 7 types of industry: AUTO (automobile), EDUCATION, FINANCE, HEALTH, OIL, SERVICE, and WEB\n",
    "\n",
    "I expect FINANCE and WEB pays relatively higher and SERVICE pays lower."
   ]
  },
  {
   "cell_type": "code",
   "execution_count": 17,
   "metadata": {},
   "outputs": [
    {
     "name": "stdout",
     "output_type": "stream",
     "text": [
      "              count     mean     std   min    25%    50%    75%    max\n",
      "industry                                                              \n",
      "OIL        142770.0  130.954  38.529  37.0  103.0  128.0  156.0  301.0\n",
      "FINANCE    142866.0  130.748  38.320  36.0  103.0  128.0  156.0  294.0\n",
      "WEB        143205.0  121.645  38.166  31.0   94.0  119.0  146.0  290.0\n",
      "HEALTH     142755.0  115.736  36.865  28.0   89.0  114.0  140.0  275.0\n",
      "AUTO       142941.0  109.435  36.092  25.0   84.0  108.0  133.0  264.0\n",
      "SERVICE    142639.0  104.447  35.578  22.0   79.0  103.0  128.0  256.0\n",
      "EDUCATION  142819.0   99.448  35.110  17.0   75.0   98.0  122.0  253.0\n"
     ]
    },
    {
     "data": {
      "text/plain": [
       "<AxesSubplot:title={'center':'salary'}, xlabel='[industry]'>"
      ]
     },
     "execution_count": 17,
     "metadata": {},
     "output_type": "execute_result"
    },
    {
     "data": {
      "image/png": "[encoded data removed]",
      "text/plain": [
       "<Figure size 432x288 with 1 Axes>"
      ]
     },
     "metadata": {
      "needs_background": "light"
     },
     "output_type": "display_data"
    }
   ],
   "source": [
    "print(train_df.groupby(['industry']).salary.describe().sort_values(by='mean', ascending=False))\n",
    "train_df[['industry', 'salary']].boxplot(by='industry')"
   ]
  },
  {
   "cell_type": "markdown",
   "metadata": {},
   "source": [
    "Findings:\n",
    "1. Each industry has around 142,800 openings.\n",
    "2. FINANCE and OIL(!) have highest wage and most stretched deviation\n",
    "3. FINANCE and OIL have the same distribution\n",
    "4. The ranking of average salary is: FINANCE = OIL > WEB > HEALTH > AUTO > SERVICE > EDUCATION\n",
    "5. The ranking of deviation is the same as average salary\n",
    "    * There's a significant drop between WEB and HEALTH\n",
    "    * Is there any relationship between group:(OIL, FINANCE, WEB) and group:(HEALTH, AUTO, SERVICE, EDUCATION)?\n",
    "6. Gaussian distribution and positive skew\n",
    "\n",
    "Let's look at the salary histograms and other details."
   ]
  },
  {
   "cell_type": "code",
   "execution_count": 18,
   "metadata": {},
   "outputs": [
    {
     "data": {
      "image/png": "[encoded data removed]",
      "text/plain": [
       "<Figure size 1008x432 with 7 Axes>"
      ]
     },
     "metadata": {
      "needs_background": "light"
     },
     "output_type": "display_data"
    },
    {
     "data": {
      "text/plain": [
       "industry\n",
       "OIL          0.359\n",
       "WEB          0.348\n",
       "FINANCE      0.345\n",
       "AUTO         0.323\n",
       "HEALTH       0.321\n",
       "SERVICE      0.315\n",
       "EDUCATION    0.304\n",
       "Name: salary, dtype: float64"
      ]
     },
     "metadata": {},
     "output_type": "display_data"
    },
    {
     "data": {
      "text/plain": [
       "industry\n",
       "EDUCATION    1070\n",
       "WEB          1024\n",
       "OIL           940\n",
       "AUTO          916\n",
       "FINANCE       867\n",
       "SERVICE       859\n",
       "HEALTH        830\n",
       "dtype: int64"
      ]
     },
     "metadata": {},
     "output_type": "display_data"
    }
   ],
   "source": [
    "industries = train_df.industry.unique()\n",
    "plt.figure(figsize = (14, 6))\n",
    "\n",
    "# plot histograms\n",
    "for i in range(len(industries)):\n",
    "    plt.subplot(3, 3, i+1)\n",
    "    plt.hist(train_df.salary[train_df.industry == industries[i]])\n",
    "    plt.title(industries[i])\n",
    "plt.show()\n",
    "\n",
    "# show skewness\n",
    "display(train_df.groupby(['industry']).salary.skew().sort_values(ascending=False))\n",
    "\n",
    "# count outliers with 1.5 * IQR rule\n",
    "Q1 = train_df.groupby(['industry']).salary.quantile(0.25)\n",
    "Q3 = train_df.groupby(['industry']).salary.quantile(0.75)\n",
    "upper_bound = Q3 + 1.5 * (Q3 - Q1)\n",
    "display(train_df.groupby(['industry']).apply(lambda x: (x.salary.values > upper_bound[x.industry]).sum()).sort_values(ascending=False))"
   ]
  },
  {
   "cell_type": "markdown",
   "metadata": {},
   "source": [
    "The skewness is smallest in all features. Similar to the deviations, there's a gap in skewness between group:(OIL, WEB, FINANCE) and group:(AUTO, HEALTH, SERVICE, EDUCATION). EDUCATION is the least skewed but has most outliers, suggesting that most positions offer merket standard salary and has narrower salary spectrum."
   ]
  },
  {
   "cell_type": "markdown",
   "metadata": {},
   "source": [
    "### Years of Experience\n",
    "Span from 0 to 24 years. Let's select a few and see their distributions.\n",
    "\n",
    "I expect the more years of experience a job asks, the more it pays. But is there a plateau? Is the relationship linear?"
   ]
  },
  {
   "cell_type": "code",
   "execution_count": 19,
   "metadata": {},
   "outputs": [
    {
     "data": {
      "image/png": "[encoded data removed]",
      "text/plain": [
       "<Figure size 432x288 with 1 Axes>"
      ]
     },
     "metadata": {
      "needs_background": "light"
     },
     "output_type": "display_data"
    }
   ],
   "source": [
    "# select random years and plot boxplot\n",
    "years = np.arange(24+1)\n",
    "first_one = True\n",
    "\n",
    "for year in years:\n",
    "    if first_one:\n",
    "        groups = train_df[['yearsExperience', 'salary']][train_df.yearsExperience == year]\n",
    "        first_one = False\n",
    "    else:\n",
    "        group = train_df[['yearsExperience', 'salary']][train_df.yearsExperience == year]\n",
    "        groups = pd.concat([groups, group], axis=0)\n",
    "\n",
    "groups.boxplot(by='yearsExperience')\n",
    "plt.show()"
   ]
  },
  {
   "cell_type": "markdown",
   "metadata": {},
   "source": [
    "As expected:\n",
    "1. The yearsExperience and average salary have linear relationship\n",
    "2. The deviation increases with average salary\n",
    "3. Gaussian distribution and positive skew"
   ]
  },
  {
   "cell_type": "code",
   "execution_count": 20,
   "metadata": {},
   "outputs": [
    {
     "data": {
      "image/png": "[encoded data removed]",
      "text/plain": [
       "<Figure size 1008x432 with 9 Axes>"
      ]
     },
     "metadata": {
      "needs_background": "light"
     },
     "output_type": "display_data"
    },
    {
     "data": {
      "text/plain": [
       "yearsExperience\n",
       "0     0.232\n",
       "3     0.258\n",
       "6     0.240\n",
       "9     0.247\n",
       "12    0.288\n",
       "15    0.268\n",
       "18    0.276\n",
       "21    0.283\n",
       "24    0.298\n",
       "Name: salary, dtype: float64"
      ]
     },
     "execution_count": 20,
     "metadata": {},
     "output_type": "execute_result"
    }
   ],
   "source": [
    "years= np.arange(0, 24+1, 3)\n",
    "plt.figure(figsize = (14, 6))\n",
    "\n",
    "for i in range(len(years)):\n",
    "    plt.subplot(3, 3, i+1)\n",
    "    plt.hist(train_df.salary[train_df.yearsExperience == years[i]])\n",
    "    plt.title(years[i])\n",
    "plt.show()\n",
    "\n",
    "train_df.groupby(['yearsExperience']).salary.skew()[years]"
   ]
  },
  {
   "cell_type": "markdown",
   "metadata": {},
   "source": [
    "The skewness is the smallest of all features and skews at similar rate. Overall, the skewness increases with yearsExperience.\n",
    "\n",
    "And to show the linear relationship, here's the plot of yearsExperience vs. average salary."
   ]
  },
  {
   "cell_type": "code",
   "execution_count": 21,
   "metadata": {},
   "outputs": [
    {
     "data": {
      "text/html": [
       "<div>\n",
       "<style scoped>\n",
       "    .dataframe tbody tr th:only-of-type {\n",
       "        vertical-align: middle;\n",
       "    }\n",
       "\n",
       "    .dataframe tbody tr th {\n",
       "        vertical-align: top;\n",
       "    }\n",
       "\n",
       "    .dataframe thead th {\n",
       "        text-align: right;\n",
       "    }\n",
       "</style>\n",
       "<table border=\"1\" class=\"dataframe\">\n",
       "  <thead>\n",
       "    <tr style=\"text-align: right;\">\n",
       "      <th></th>\n",
       "      <th>count</th>\n",
       "      <th>mean</th>\n",
       "      <th>std</th>\n",
       "      <th>min</th>\n",
       "      <th>25%</th>\n",
       "      <th>50%</th>\n",
       "      <th>75%</th>\n",
       "      <th>max</th>\n",
       "    </tr>\n",
       "    <tr>\n",
       "      <th>yearsExperience</th>\n",
       "      <th></th>\n",
       "      <th></th>\n",
       "      <th></th>\n",
       "      <th></th>\n",
       "      <th></th>\n",
       "      <th></th>\n",
       "      <th></th>\n",
       "      <th></th>\n",
       "    </tr>\n",
       "  </thead>\n",
       "  <tbody>\n",
       "    <tr>\n",
       "      <th>0</th>\n",
       "      <td>39839.0</td>\n",
       "      <td>91.874</td>\n",
       "      <td>32.384</td>\n",
       "      <td>17.0</td>\n",
       "      <td>69.0</td>\n",
       "      <td>91.0</td>\n",
       "      <td>113.5</td>\n",
       "      <td>227.0</td>\n",
       "    </tr>\n",
       "    <tr>\n",
       "      <th>3</th>\n",
       "      <td>40190.0</td>\n",
       "      <td>98.093</td>\n",
       "      <td>33.026</td>\n",
       "      <td>21.0</td>\n",
       "      <td>74.0</td>\n",
       "      <td>97.0</td>\n",
       "      <td>120.0</td>\n",
       "      <td>234.0</td>\n",
       "    </tr>\n",
       "    <tr>\n",
       "      <th>6</th>\n",
       "      <td>40094.0</td>\n",
       "      <td>103.924</td>\n",
       "      <td>33.709</td>\n",
       "      <td>21.0</td>\n",
       "      <td>80.0</td>\n",
       "      <td>103.0</td>\n",
       "      <td>127.0</td>\n",
       "      <td>239.0</td>\n",
       "    </tr>\n",
       "    <tr>\n",
       "      <th>9</th>\n",
       "      <td>40235.0</td>\n",
       "      <td>110.106</td>\n",
       "      <td>34.494</td>\n",
       "      <td>25.0</td>\n",
       "      <td>85.0</td>\n",
       "      <td>109.0</td>\n",
       "      <td>133.0</td>\n",
       "      <td>261.0</td>\n",
       "    </tr>\n",
       "    <tr>\n",
       "      <th>12</th>\n",
       "      <td>39467.0</td>\n",
       "      <td>116.342</td>\n",
       "      <td>35.495</td>\n",
       "      <td>25.0</td>\n",
       "      <td>91.0</td>\n",
       "      <td>114.0</td>\n",
       "      <td>140.0</td>\n",
       "      <td>262.0</td>\n",
       "    </tr>\n",
       "    <tr>\n",
       "      <th>15</th>\n",
       "      <td>40312.0</td>\n",
       "      <td>121.904</td>\n",
       "      <td>36.668</td>\n",
       "      <td>28.0</td>\n",
       "      <td>96.0</td>\n",
       "      <td>120.0</td>\n",
       "      <td>146.0</td>\n",
       "      <td>268.0</td>\n",
       "    </tr>\n",
       "    <tr>\n",
       "      <th>18</th>\n",
       "      <td>40088.0</td>\n",
       "      <td>128.431</td>\n",
       "      <td>37.858</td>\n",
       "      <td>30.0</td>\n",
       "      <td>101.0</td>\n",
       "      <td>127.0</td>\n",
       "      <td>154.0</td>\n",
       "      <td>280.0</td>\n",
       "    </tr>\n",
       "    <tr>\n",
       "      <th>21</th>\n",
       "      <td>39759.0</td>\n",
       "      <td>134.002</td>\n",
       "      <td>38.904</td>\n",
       "      <td>32.0</td>\n",
       "      <td>106.0</td>\n",
       "      <td>132.0</td>\n",
       "      <td>160.0</td>\n",
       "      <td>288.0</td>\n",
       "    </tr>\n",
       "    <tr>\n",
       "      <th>24</th>\n",
       "      <td>39860.0</td>\n",
       "      <td>140.131</td>\n",
       "      <td>40.101</td>\n",
       "      <td>36.0</td>\n",
       "      <td>111.0</td>\n",
       "      <td>138.0</td>\n",
       "      <td>167.0</td>\n",
       "      <td>301.0</td>\n",
       "    </tr>\n",
       "  </tbody>\n",
       "</table>\n",
       "</div>"
      ],
      "text/plain": [
       "                   count     mean     std   min    25%    50%    75%    max\n",
       "yearsExperience                                                            \n",
       "0                39839.0   91.874  32.384  17.0   69.0   91.0  113.5  227.0\n",
       "3                40190.0   98.093  33.026  21.0   74.0   97.0  120.0  234.0\n",
       "6                40094.0  103.924  33.709  21.0   80.0  103.0  127.0  239.0\n",
       "9                40235.0  110.106  34.494  25.0   85.0  109.0  133.0  261.0\n",
       "12               39467.0  116.342  35.495  25.0   91.0  114.0  140.0  262.0\n",
       "15               40312.0  121.904  36.668  28.0   96.0  120.0  146.0  268.0\n",
       "18               40088.0  128.431  37.858  30.0  101.0  127.0  154.0  280.0\n",
       "21               39759.0  134.002  38.904  32.0  106.0  132.0  160.0  288.0\n",
       "24               39860.0  140.131  40.101  36.0  111.0  138.0  167.0  301.0"
      ]
     },
     "metadata": {},
     "output_type": "display_data"
    },
    {
     "data": {
      "text/plain": [
       "<AxesSubplot:xlabel='yearsExperience'>"
      ]
     },
     "execution_count": 21,
     "metadata": {},
     "output_type": "execute_result"
    },
    {
     "data": {
      "image/png": "[encoded data removed]",
      "text/plain": [
       "<Figure size 432x288 with 1 Axes>"
      ]
     },
     "metadata": {
      "needs_background": "light"
     },
     "output_type": "display_data"
    }
   ],
   "source": [
    "# select random years and show statistics\n",
    "years = np.arange(0, 24+1, 3)\n",
    "first_one = True\n",
    "\n",
    "for year in years:\n",
    "    if first_one:\n",
    "        groups = train_df[['yearsExperience', 'salary']][train_df.yearsExperience == year]\n",
    "        first_one = False\n",
    "    else:\n",
    "        group = train_df[['yearsExperience', 'salary']][train_df.yearsExperience == year]\n",
    "        groups = pd.concat([groups, group], axis=0)\n",
    "display(groups.groupby(['yearsExperience']).salary.describe())\n",
    "\n",
    "# plot yearsExperience vs salary\n",
    "train_df.groupby(['yearsExperience']).salary.mean().plot(x='yearsExperience', y='salary')"
   ]
  },
  {
   "cell_type": "markdown",
   "metadata": {},
   "source": [
    "It's a slope of 2 and offset 90 linear relationship, thus we can assume yearsExperience is an independent feature.\n",
    "### Miles from metropolis\n",
    "Span from 0 to 99 miles. Like yearsExperience, let's select a few and see their distributions.\n",
    "\n",
    "I expect companies having offices in metropolis are likely to have higher net worth, thus the closer to metropolis, the more it pays. Again, is there a plateau? Is the relationship linear?"
   ]
  },
  {
   "cell_type": "code",
   "execution_count": 22,
   "metadata": {},
   "outputs": [
    {
     "data": {
      "image/png": "[encoded data removed]",
      "text/plain": [
       "<Figure size 432x288 with 1 Axes>"
      ]
     },
     "metadata": {
      "needs_background": "light"
     },
     "output_type": "display_data"
    }
   ],
   "source": [
    "# select random miles\n",
    "miles= np.arange(0, 99+1, 4)\n",
    "first_one = True\n",
    "\n",
    "# plot boxplot\n",
    "for mile in miles:\n",
    "    if first_one:\n",
    "        groups = train_df[['milesFromMetropolis', 'salary']][train_df.milesFromMetropolis == mile]\n",
    "        first_one = False\n",
    "    else:\n",
    "        group = train_df[['milesFromMetropolis', 'salary']][train_df.milesFromMetropolis == mile]\n",
    "        groups = pd.concat([groups, group], axis=0)\n",
    "\n",
    "groups.boxplot(by='milesFromMetropolis')\n",
    "plt.show()"
   ]
  },
  {
   "cell_type": "markdown",
   "metadata": {},
   "source": [
    "Observations:\n",
    "1. It's a inverse linear relationship\n",
    "2. Deviation decreases with average salary\n",
    "3. Gaussian distribution and positive skew"
   ]
  },
  {
   "cell_type": "code",
   "execution_count": 23,
   "metadata": {},
   "outputs": [
    {
     "data": {
      "image/png": "[encoded data removed]",
      "text/plain": [
       "<Figure size 1008x432 with 9 Axes>"
      ]
     },
     "metadata": {
      "needs_background": "light"
     },
     "output_type": "display_data"
    },
    {
     "data": {
      "text/plain": [
       "milesFromMetropolis\n",
       "0     0.264\n",
       "12    0.281\n",
       "24    0.288\n",
       "36    0.310\n",
       "48    0.233\n",
       "60    0.270\n",
       "72    0.238\n",
       "84    0.231\n",
       "96    0.272\n",
       "Name: salary, dtype: float64"
      ]
     },
     "execution_count": 23,
     "metadata": {},
     "output_type": "execute_result"
    }
   ],
   "source": [
    "miles= np.arange(0, 99+1, 12)\n",
    "plt.figure(figsize = (14, 6))\n",
    "\n",
    "# plot histograms\n",
    "for i in range(len(miles)):\n",
    "    plt.subplot(3, 3, i+1)\n",
    "    plt.hist(train_df.salary[train_df.milesFromMetropolis == miles[i]])\n",
    "    plt.title(miles[i])\n",
    "plt.show()\n",
    "\n",
    "train_df.groupby(['milesFromMetropolis']).salary.skew()[miles]"
   ]
  },
  {
   "cell_type": "markdown",
   "metadata": {},
   "source": [
    "The skewness is the small among all features and skews at similar rate. There's no obvious relationship between skewness and and milesFromMetropolis.\n",
    "\n",
    "And to show the linearity, here's the plot of milesFromMetropolis vs. average salary."
   ]
  },
  {
   "cell_type": "code",
   "execution_count": 24,
   "metadata": {
    "scrolled": false
   },
   "outputs": [
    {
     "data": {
      "text/html": [
       "<div>\n",
       "<style scoped>\n",
       "    .dataframe tbody tr th:only-of-type {\n",
       "        vertical-align: middle;\n",
       "    }\n",
       "\n",
       "    .dataframe tbody tr th {\n",
       "        vertical-align: top;\n",
       "    }\n",
       "\n",
       "    .dataframe thead th {\n",
       "        text-align: right;\n",
       "    }\n",
       "</style>\n",
       "<table border=\"1\" class=\"dataframe\">\n",
       "  <thead>\n",
       "    <tr style=\"text-align: right;\">\n",
       "      <th></th>\n",
       "      <th>count</th>\n",
       "      <th>mean</th>\n",
       "      <th>std</th>\n",
       "      <th>min</th>\n",
       "      <th>25%</th>\n",
       "      <th>50%</th>\n",
       "      <th>75%</th>\n",
       "      <th>max</th>\n",
       "    </tr>\n",
       "    <tr>\n",
       "      <th>milesFromMetropolis</th>\n",
       "      <th></th>\n",
       "      <th></th>\n",
       "      <th></th>\n",
       "      <th></th>\n",
       "      <th></th>\n",
       "      <th></th>\n",
       "      <th></th>\n",
       "      <th></th>\n",
       "    </tr>\n",
       "  </thead>\n",
       "  <tbody>\n",
       "    <tr>\n",
       "      <th>0</th>\n",
       "      <td>10123.0</td>\n",
       "      <td>135.571</td>\n",
       "      <td>41.097</td>\n",
       "      <td>29.0</td>\n",
       "      <td>106.0</td>\n",
       "      <td>134.0</td>\n",
       "      <td>163.0</td>\n",
       "      <td>301.0</td>\n",
       "    </tr>\n",
       "    <tr>\n",
       "      <th>12</th>\n",
       "      <td>10016.0</td>\n",
       "      <td>130.950</td>\n",
       "      <td>40.343</td>\n",
       "      <td>26.0</td>\n",
       "      <td>102.0</td>\n",
       "      <td>128.0</td>\n",
       "      <td>158.0</td>\n",
       "      <td>289.0</td>\n",
       "    </tr>\n",
       "    <tr>\n",
       "      <th>24</th>\n",
       "      <td>9854.0</td>\n",
       "      <td>126.404</td>\n",
       "      <td>39.099</td>\n",
       "      <td>28.0</td>\n",
       "      <td>99.0</td>\n",
       "      <td>124.0</td>\n",
       "      <td>152.0</td>\n",
       "      <td>280.0</td>\n",
       "    </tr>\n",
       "    <tr>\n",
       "      <th>36</th>\n",
       "      <td>10000.0</td>\n",
       "      <td>120.623</td>\n",
       "      <td>38.141</td>\n",
       "      <td>27.0</td>\n",
       "      <td>93.0</td>\n",
       "      <td>119.0</td>\n",
       "      <td>145.0</td>\n",
       "      <td>271.0</td>\n",
       "    </tr>\n",
       "    <tr>\n",
       "      <th>48</th>\n",
       "      <td>10104.0</td>\n",
       "      <td>116.520</td>\n",
       "      <td>36.594</td>\n",
       "      <td>24.0</td>\n",
       "      <td>90.0</td>\n",
       "      <td>115.0</td>\n",
       "      <td>141.0</td>\n",
       "      <td>253.0</td>\n",
       "    </tr>\n",
       "    <tr>\n",
       "      <th>60</th>\n",
       "      <td>10018.0</td>\n",
       "      <td>111.564</td>\n",
       "      <td>35.812</td>\n",
       "      <td>22.0</td>\n",
       "      <td>86.0</td>\n",
       "      <td>110.0</td>\n",
       "      <td>135.0</td>\n",
       "      <td>255.0</td>\n",
       "    </tr>\n",
       "    <tr>\n",
       "      <th>72</th>\n",
       "      <td>10063.0</td>\n",
       "      <td>107.672</td>\n",
       "      <td>35.004</td>\n",
       "      <td>21.0</td>\n",
       "      <td>83.0</td>\n",
       "      <td>107.0</td>\n",
       "      <td>131.0</td>\n",
       "      <td>238.0</td>\n",
       "    </tr>\n",
       "    <tr>\n",
       "      <th>84</th>\n",
       "      <td>9947.0</td>\n",
       "      <td>102.601</td>\n",
       "      <td>34.047</td>\n",
       "      <td>19.0</td>\n",
       "      <td>79.0</td>\n",
       "      <td>101.0</td>\n",
       "      <td>126.0</td>\n",
       "      <td>225.0</td>\n",
       "    </tr>\n",
       "    <tr>\n",
       "      <th>96</th>\n",
       "      <td>10090.0</td>\n",
       "      <td>97.225</td>\n",
       "      <td>33.064</td>\n",
       "      <td>18.0</td>\n",
       "      <td>74.0</td>\n",
       "      <td>96.0</td>\n",
       "      <td>119.0</td>\n",
       "      <td>219.0</td>\n",
       "    </tr>\n",
       "  </tbody>\n",
       "</table>\n",
       "</div>"
      ],
      "text/plain": [
       "                       count     mean     std   min    25%    50%    75%  \\\n",
       "milesFromMetropolis                                                        \n",
       "0                    10123.0  135.571  41.097  29.0  106.0  134.0  163.0   \n",
       "12                   10016.0  130.950  40.343  26.0  102.0  128.0  158.0   \n",
       "24                    9854.0  126.404  39.099  28.0   99.0  124.0  152.0   \n",
       "36                   10000.0  120.623  38.141  27.0   93.0  119.0  145.0   \n",
       "48                   10104.0  116.520  36.594  24.0   90.0  115.0  141.0   \n",
       "60                   10018.0  111.564  35.812  22.0   86.0  110.0  135.0   \n",
       "72                   10063.0  107.672  35.004  21.0   83.0  107.0  131.0   \n",
       "84                    9947.0  102.601  34.047  19.0   79.0  101.0  126.0   \n",
       "96                   10090.0   97.225  33.064  18.0   74.0   96.0  119.0   \n",
       "\n",
       "                       max  \n",
       "milesFromMetropolis         \n",
       "0                    301.0  \n",
       "12                   289.0  \n",
       "24                   280.0  \n",
       "36                   271.0  \n",
       "48                   253.0  \n",
       "60                   255.0  \n",
       "72                   238.0  \n",
       "84                   225.0  \n",
       "96                   219.0  "
      ]
     },
     "metadata": {},
     "output_type": "display_data"
    },
    {
     "data": {
      "text/plain": [
       "<AxesSubplot:xlabel='milesFromMetropolis'>"
      ]
     },
     "execution_count": 24,
     "metadata": {},
     "output_type": "execute_result"
    },
    {
     "data": {
      "image/png": "[encoded data removed]",
      "text/plain": [
       "<Figure size 432x288 with 1 Axes>"
      ]
     },
     "metadata": {
      "needs_background": "light"
     },
     "output_type": "display_data"
    }
   ],
   "source": [
    "# select random miles and show statistics\n",
    "miles= np.arange(0, 99+1, 12)\n",
    "first_one = True\n",
    "\n",
    "for mile in miles:\n",
    "    if first_one:\n",
    "        groups = train_df[['milesFromMetropolis', 'salary']][train_df.milesFromMetropolis == mile]\n",
    "        first_one = False\n",
    "    else:\n",
    "        group = train_df[['milesFromMetropolis', 'salary']][train_df.milesFromMetropolis == mile]\n",
    "        groups = pd.concat([groups, group], axis=0)\n",
    "display(groups.groupby(['milesFromMetropolis']).salary.describe())\n",
    "\n",
    "# show milesFromMetropolis vs salary\n",
    "train_df.groupby(['milesFromMetropolis']).salary.mean().plot(x='milesFromMetropolis', y='salary')"
   ]
  },
  {
   "cell_type": "markdown",
   "metadata": {},
   "source": [
    "The lins has slope of -0.4 and offset 135.\n",
    "\n",
    "Similar to yearsExperience, milesFromMetropolis is an independent feature, Gaussian distributed, and has (reversed) linear pattern."
   ]
  },
  {
   "cell_type": "markdown",
   "metadata": {},
   "source": [
    "### EDA Conclusion\n",
    "1. All features are Gaussian distributed and positive skewness\n",
    "\n",
    "\n",
    "2. Higher average salary often pairs with wider distribution (larger deviation)\n",
    "\n",
    "\n",
    "3. **companyId** has smallest variance\n",
    "    * Correlation with other features and salary might be low\n",
    "\n",
    "\n",
    "4. **jobType** has highest variance\n",
    "    * Avearage salary ranges from 145 to 70\n",
    "\n",
    "\n",
    "5. **degree** can potentially be split to two groups\n",
    "    * NONE and HIGH_SCHOOL: more job opening but lower offer\n",
    "    * BACHELORS, MASTERS, DOCTORAL: less job openings and higher offer\n",
    "\n",
    "\n",
    "6. **major** has imbalanced data\n",
    "    * More than half of dataset don't require a major\n",
    "\n",
    "\n",
    "7. **industry** has smallest skew rate\n",
    "    * Correlation with salary might be low\n",
    "\n",
    "\n",
    "8. **companyId**, **jobType**, **degree**, **major**, and **industry** are not independent features\n",
    "    * Consider adding group statistics as features to strenthen the feature dependencies\n",
    "    * Consider adding new feature(s) indicating the outlier upper boundry\n",
    "\n",
    "\n",
    "9. **yearsExperience** and **milesFromMetropolis** are independent and linearly related to salary\n",
    "    * Though salary is linearly associated with these two features, consider converting to mean salary so them have the same scale as salary\n",
    "    \n",
    "    \n",
    "10. All categories have outliers but in reasonable range and number, so I won't consider removing them.\n",
    "\n",
    "\n",
    "For model selection, I'll select few regression models and few ensemble models:\n",
    "\n",
    "For regression models, I'll try the basic **LinearRegrerssion** model. And since the features aren't too diverse, I'm guessing the model shouldn't be too complicated, thus it's not necessary to penalize the model complexity. I'll use **Lasso** and **ElesticNet** modelto check my hypothesis, and I expect no dramatic improvement. I won't consider KNN or SVM because those models will take too much time to train with our data size. And definitely **DecisionTreeRegressor** tree model because our data seems simple enough for binary spliting.\n",
    "\n",
    "Although ensemble models take long time to train, they're very powerful models. I'll try ensemble tree model such as **RandomForestRegressor** and **ExtraTreeRegressor** and boosting models such as **AdaBoostRegressor** and **GradientBoostingRegressor**."
   ]
  },
  {
   "cell_type": "markdown",
   "metadata": {},
   "source": [
    "## Encode Data\n",
    "The goal is to transform our data according to certain rules to further reveal the hidden pattern.\n",
    "\n",
    "First, we have to transform strings to meaningful numerical values. companyId, jobType, degree, major, and industry are categorical columns that need convertion. We have three options:\n",
    "1. One-Hot Encoder: one of the common encoders\n",
    "2. Categorical Encoder: one of the common encoders\n",
    "3. Category Average Salary Encoder: use average salary of the category to encode categories\n",
    "\n",
    "Let's try all three and use 50,000 samples for testing to see which method yields highest correlation with salary.\n",
    "\n",
    "### One Hot Encoder\n",
    "In this case, one-hot encoding 50,000 samples takes too long, use 500 samples instead. Also show first 30 out of 95 correlations."
   ]
  },
  {
   "cell_type": "code",
   "execution_count": 25,
   "metadata": {},
   "outputs": [],
   "source": [
    "def one_hot_encoder(train, features, test=pd.DataFrame()):\n",
    "    for feature in features:\n",
    "        categories = train[feature].unique()\n",
    "        for category in categories:\n",
    "            train[feature + \"_\" + category] = (train[feature] == category).astype(int)\n",
    "            if test.any().any():\n",
    "                test[feature + \"_\" + category] = (test[feature] == category).astype(int)\n",
    "        train = train.drop(columns=feature)\n",
    "        if test.any().any():\n",
    "            test = test.drop(columns=feature)\n",
    "            \n",
    "    return train, test"
   ]
  },
  {
   "cell_type": "code",
   "execution_count": 26,
   "metadata": {
    "scrolled": true
   },
   "outputs": [
    {
     "data": {
      "text/html": [
       "<div>\n",
       "<style scoped>\n",
       "    .dataframe tbody tr th:only-of-type {\n",
       "        vertical-align: middle;\n",
       "    }\n",
       "\n",
       "    .dataframe tbody tr th {\n",
       "        vertical-align: top;\n",
       "    }\n",
       "\n",
       "    .dataframe thead th {\n",
       "        text-align: right;\n",
       "    }\n",
       "</style>\n",
       "<table border=\"1\" class=\"dataframe\">\n",
       "  <thead>\n",
       "    <tr style=\"text-align: right;\">\n",
       "      <th></th>\n",
       "      <th>yearsExperience</th>\n",
       "      <th>milesFromMetropolis</th>\n",
       "      <th>salary</th>\n",
       "      <th>jobType_CFO</th>\n",
       "      <th>jobType_CEO</th>\n",
       "      <th>jobType_VICE_PRESIDENT</th>\n",
       "      <th>jobType_MANAGER</th>\n",
       "      <th>jobType_JUNIOR</th>\n",
       "      <th>jobType_JANITOR</th>\n",
       "      <th>jobType_CTO</th>\n",
       "      <th>...</th>\n",
       "      <th>companyId_COMP59</th>\n",
       "      <th>companyId_COMP13</th>\n",
       "      <th>companyId_COMP39</th>\n",
       "      <th>companyId_COMP16</th>\n",
       "      <th>companyId_COMP9</th>\n",
       "      <th>companyId_COMP32</th>\n",
       "      <th>companyId_COMP62</th>\n",
       "      <th>companyId_COMP35</th>\n",
       "      <th>companyId_COMP18</th>\n",
       "      <th>companyId_COMP60</th>\n",
       "    </tr>\n",
       "    <tr>\n",
       "      <th>jobId</th>\n",
       "      <th></th>\n",
       "      <th></th>\n",
       "      <th></th>\n",
       "      <th></th>\n",
       "      <th></th>\n",
       "      <th></th>\n",
       "      <th></th>\n",
       "      <th></th>\n",
       "      <th></th>\n",
       "      <th></th>\n",
       "      <th></th>\n",
       "      <th></th>\n",
       "      <th></th>\n",
       "      <th></th>\n",
       "      <th></th>\n",
       "      <th></th>\n",
       "      <th></th>\n",
       "      <th></th>\n",
       "      <th></th>\n",
       "      <th></th>\n",
       "      <th></th>\n",
       "    </tr>\n",
       "  </thead>\n",
       "  <tbody>\n",
       "    <tr>\n",
       "      <th>JOB1362684407687</th>\n",
       "      <td>10</td>\n",
       "      <td>83</td>\n",
       "      <td>130</td>\n",
       "      <td>1</td>\n",
       "      <td>0</td>\n",
       "      <td>0</td>\n",
       "      <td>0</td>\n",
       "      <td>0</td>\n",
       "      <td>0</td>\n",
       "      <td>0</td>\n",
       "      <td>...</td>\n",
       "      <td>0</td>\n",
       "      <td>0</td>\n",
       "      <td>0</td>\n",
       "      <td>0</td>\n",
       "      <td>0</td>\n",
       "      <td>0</td>\n",
       "      <td>0</td>\n",
       "      <td>0</td>\n",
       "      <td>0</td>\n",
       "      <td>0</td>\n",
       "    </tr>\n",
       "    <tr>\n",
       "      <th>JOB1362684407688</th>\n",
       "      <td>3</td>\n",
       "      <td>73</td>\n",
       "      <td>101</td>\n",
       "      <td>0</td>\n",
       "      <td>1</td>\n",
       "      <td>0</td>\n",
       "      <td>0</td>\n",
       "      <td>0</td>\n",
       "      <td>0</td>\n",
       "      <td>0</td>\n",
       "      <td>...</td>\n",
       "      <td>0</td>\n",
       "      <td>0</td>\n",
       "      <td>0</td>\n",
       "      <td>0</td>\n",
       "      <td>0</td>\n",
       "      <td>0</td>\n",
       "      <td>0</td>\n",
       "      <td>0</td>\n",
       "      <td>0</td>\n",
       "      <td>0</td>\n",
       "    </tr>\n",
       "    <tr>\n",
       "      <th>JOB1362684407689</th>\n",
       "      <td>10</td>\n",
       "      <td>38</td>\n",
       "      <td>137</td>\n",
       "      <td>0</td>\n",
       "      <td>0</td>\n",
       "      <td>1</td>\n",
       "      <td>0</td>\n",
       "      <td>0</td>\n",
       "      <td>0</td>\n",
       "      <td>0</td>\n",
       "      <td>...</td>\n",
       "      <td>0</td>\n",
       "      <td>0</td>\n",
       "      <td>0</td>\n",
       "      <td>0</td>\n",
       "      <td>0</td>\n",
       "      <td>0</td>\n",
       "      <td>0</td>\n",
       "      <td>0</td>\n",
       "      <td>0</td>\n",
       "      <td>0</td>\n",
       "    </tr>\n",
       "    <tr>\n",
       "      <th>JOB1362684407690</th>\n",
       "      <td>8</td>\n",
       "      <td>17</td>\n",
       "      <td>142</td>\n",
       "      <td>0</td>\n",
       "      <td>0</td>\n",
       "      <td>0</td>\n",
       "      <td>1</td>\n",
       "      <td>0</td>\n",
       "      <td>0</td>\n",
       "      <td>0</td>\n",
       "      <td>...</td>\n",
       "      <td>0</td>\n",
       "      <td>0</td>\n",
       "      <td>0</td>\n",
       "      <td>0</td>\n",
       "      <td>0</td>\n",
       "      <td>0</td>\n",
       "      <td>0</td>\n",
       "      <td>0</td>\n",
       "      <td>0</td>\n",
       "      <td>0</td>\n",
       "    </tr>\n",
       "    <tr>\n",
       "      <th>JOB1362684407691</th>\n",
       "      <td>8</td>\n",
       "      <td>16</td>\n",
       "      <td>163</td>\n",
       "      <td>0</td>\n",
       "      <td>0</td>\n",
       "      <td>1</td>\n",
       "      <td>0</td>\n",
       "      <td>0</td>\n",
       "      <td>0</td>\n",
       "      <td>0</td>\n",
       "      <td>...</td>\n",
       "      <td>0</td>\n",
       "      <td>0</td>\n",
       "      <td>0</td>\n",
       "      <td>0</td>\n",
       "      <td>0</td>\n",
       "      <td>0</td>\n",
       "      <td>0</td>\n",
       "      <td>0</td>\n",
       "      <td>0</td>\n",
       "      <td>0</td>\n",
       "    </tr>\n",
       "  </tbody>\n",
       "</table>\n",
       "<p>5 rows × 95 columns</p>\n",
       "</div>"
      ],
      "text/plain": [
       "                  yearsExperience  milesFromMetropolis  salary  jobType_CFO  \\\n",
       "jobId                                                                         \n",
       "JOB1362684407687               10                   83     130            1   \n",
       "JOB1362684407688                3                   73     101            0   \n",
       "JOB1362684407689               10                   38     137            0   \n",
       "JOB1362684407690                8                   17     142            0   \n",
       "JOB1362684407691                8                   16     163            0   \n",
       "\n",
       "                  jobType_CEO  jobType_VICE_PRESIDENT  jobType_MANAGER  \\\n",
       "jobId                                                                    \n",
       "JOB1362684407687            0                       0                0   \n",
       "JOB1362684407688            1                       0                0   \n",
       "JOB1362684407689            0                       1                0   \n",
       "JOB1362684407690            0                       0                1   \n",
       "JOB1362684407691            0                       1                0   \n",
       "\n",
       "                  jobType_JUNIOR  jobType_JANITOR  jobType_CTO  ...  \\\n",
       "jobId                                                           ...   \n",
       "JOB1362684407687               0                0            0  ...   \n",
       "JOB1362684407688               0                0            0  ...   \n",
       "JOB1362684407689               0                0            0  ...   \n",
       "JOB1362684407690               0                0            0  ...   \n",
       "JOB1362684407691               0                0            0  ...   \n",
       "\n",
       "                  companyId_COMP59  companyId_COMP13  companyId_COMP39  \\\n",
       "jobId                                                                    \n",
       "JOB1362684407687                 0                 0                 0   \n",
       "JOB1362684407688                 0                 0                 0   \n",
       "JOB1362684407689                 0                 0                 0   \n",
       "JOB1362684407690                 0                 0                 0   \n",
       "JOB1362684407691                 0                 0                 0   \n",
       "\n",
       "                  companyId_COMP16  companyId_COMP9  companyId_COMP32  \\\n",
       "jobId                                                                   \n",
       "JOB1362684407687                 0                0                 0   \n",
       "JOB1362684407688                 0                0                 0   \n",
       "JOB1362684407689                 0                0                 0   \n",
       "JOB1362684407690                 0                0                 0   \n",
       "JOB1362684407691                 0                0                 0   \n",
       "\n",
       "                  companyId_COMP62  companyId_COMP35  companyId_COMP18  \\\n",
       "jobId                                                                    \n",
       "JOB1362684407687                 0                 0                 0   \n",
       "JOB1362684407688                 0                 0                 0   \n",
       "JOB1362684407689                 0                 0                 0   \n",
       "JOB1362684407690                 0                 0                 0   \n",
       "JOB1362684407691                 0                 0                 0   \n",
       "\n",
       "                  companyId_COMP60  \n",
       "jobId                               \n",
       "JOB1362684407687                 0  \n",
       "JOB1362684407688                 0  \n",
       "JOB1362684407689                 0  \n",
       "JOB1362684407690                 0  \n",
       "JOB1362684407691                 0  \n",
       "\n",
       "[5 rows x 95 columns]"
      ]
     },
     "metadata": {},
     "output_type": "display_data"
    },
    {
     "data": {
      "text/plain": [
       "yearsExperience           0.368\n",
       "milesFromMetropolis      -0.299\n",
       "salary                    1.000\n",
       "jobType_CFO               0.171\n",
       "jobType_CEO               0.275\n",
       "jobType_VICE_PRESIDENT    0.097\n",
       "jobType_MANAGER          -0.007\n",
       "jobType_JUNIOR           -0.178\n",
       "jobType_JANITOR          -0.457\n",
       "jobType_CTO               0.201\n",
       "jobType_SENIOR           -0.106\n",
       "degree_MASTERS            0.158\n",
       "degree_HIGH_SCHOOL       -0.195\n",
       "degree_DOCTORAL           0.236\n",
       "degree_BACHELORS          0.122\n",
       "degree_NONE              -0.259\n",
       "major_MATH                0.110\n",
       "major_NONE               -0.366\n",
       "major_PHYSICS             0.092\n",
       "major_CHEMISTRY           0.071\n",
       "major_COMPSCI             0.101\n",
       "major_BIOLOGY             0.058\n",
       "major_LITERATURE          0.044\n",
       "major_BUSINESS            0.155\n",
       "major_ENGINEERING         0.153\n",
       "industry_HEALTH          -0.005\n",
       "industry_WEB              0.079\n",
       "industry_AUTO            -0.063\n",
       "industry_FINANCE          0.156\n",
       "industry_EDUCATION       -0.173\n",
       "Name: salary, dtype: float64"
      ]
     },
     "execution_count": 26,
     "metadata": {},
     "output_type": "execute_result"
    }
   ],
   "source": [
    "# because one-hot encoding 50,000 samples takes too long, use 5,000 samples instead\n",
    "examples = 5000\n",
    "example_set = train_df[:examples].copy()\n",
    "display(one_hot_encoder(example_set, ['jobType', 'degree', 'major', 'industry', 'companyId'])[0].head(5))\n",
    "\n",
    "show_corr = 30\n",
    "one_hot_encoder(example_set, ['jobType', 'degree', 'major', 'industry', 'companyId'])[0].corr().salary.iloc[:show_corr]"
   ]
  },
  {
   "cell_type": "markdown",
   "metadata": {},
   "source": [
    "One-Hot encoding is the standard way to transform strings to numericals, but it\n",
    "1. Too many new features (95 columns)\n",
    "    * Think of curse of dimensionality\n",
    "2. Takes too much time to generate\n",
    "3. Challenging for algorithm to understand\n",
    "\n",
    "Thus, one-hot encoding isn't the ideal encoder in our case.\n",
    "\n",
    "### Label Encoder\n",
    "This method uses sklearn.preprocessing.LabelEncoder() to assign numerical values starting from 0."
   ]
  },
  {
   "cell_type": "code",
   "execution_count": 27,
   "metadata": {},
   "outputs": [],
   "source": [
    "# TODO: write a class instead: class LabelEncodingFeatures:\n",
    "def categorical_encoder(train, features, test=pd.DataFrame()):\n",
    "    encoder = sklearn.preprocessing.LabelEncoder()\n",
    "    for feature in features:\n",
    "        train[feature] = encoder.fit_transform(train[feature])\n",
    "        if test.any().any():\n",
    "            test[feature] = encoder.transform(test[feature])\n",
    "\n",
    "    return train, test"
   ]
  },
  {
   "cell_type": "code",
   "execution_count": 28,
   "metadata": {},
   "outputs": [
    {
     "data": {
      "text/html": [
       "<div>\n",
       "<style scoped>\n",
       "    .dataframe tbody tr th:only-of-type {\n",
       "        vertical-align: middle;\n",
       "    }\n",
       "\n",
       "    .dataframe tbody tr th {\n",
       "        vertical-align: top;\n",
       "    }\n",
       "\n",
       "    .dataframe thead th {\n",
       "        text-align: right;\n",
       "    }\n",
       "</style>\n",
       "<table border=\"1\" class=\"dataframe\">\n",
       "  <thead>\n",
       "    <tr style=\"text-align: right;\">\n",
       "      <th></th>\n",
       "      <th>companyId</th>\n",
       "      <th>jobType</th>\n",
       "      <th>degree</th>\n",
       "      <th>major</th>\n",
       "      <th>industry</th>\n",
       "      <th>yearsExperience</th>\n",
       "      <th>milesFromMetropolis</th>\n",
       "      <th>salary</th>\n",
       "    </tr>\n",
       "    <tr>\n",
       "      <th>jobId</th>\n",
       "      <th></th>\n",
       "      <th></th>\n",
       "      <th></th>\n",
       "      <th></th>\n",
       "      <th></th>\n",
       "      <th></th>\n",
       "      <th></th>\n",
       "      <th></th>\n",
       "    </tr>\n",
       "  </thead>\n",
       "  <tbody>\n",
       "    <tr>\n",
       "      <th>JOB1362684407687</th>\n",
       "      <td>31</td>\n",
       "      <td>1</td>\n",
       "      <td>3</td>\n",
       "      <td>6</td>\n",
       "      <td>3</td>\n",
       "      <td>10</td>\n",
       "      <td>83</td>\n",
       "      <td>130</td>\n",
       "    </tr>\n",
       "    <tr>\n",
       "      <th>JOB1362684407688</th>\n",
       "      <td>11</td>\n",
       "      <td>0</td>\n",
       "      <td>2</td>\n",
       "      <td>7</td>\n",
       "      <td>6</td>\n",
       "      <td>3</td>\n",
       "      <td>73</td>\n",
       "      <td>101</td>\n",
       "    </tr>\n",
       "    <tr>\n",
       "      <th>JOB1362684407689</th>\n",
       "      <td>48</td>\n",
       "      <td>7</td>\n",
       "      <td>1</td>\n",
       "      <td>8</td>\n",
       "      <td>3</td>\n",
       "      <td>10</td>\n",
       "      <td>38</td>\n",
       "      <td>137</td>\n",
       "    </tr>\n",
       "    <tr>\n",
       "      <th>JOB1362684407690</th>\n",
       "      <td>32</td>\n",
       "      <td>5</td>\n",
       "      <td>1</td>\n",
       "      <td>2</td>\n",
       "      <td>0</td>\n",
       "      <td>8</td>\n",
       "      <td>17</td>\n",
       "      <td>142</td>\n",
       "    </tr>\n",
       "    <tr>\n",
       "      <th>JOB1362684407691</th>\n",
       "      <td>60</td>\n",
       "      <td>7</td>\n",
       "      <td>0</td>\n",
       "      <td>8</td>\n",
       "      <td>2</td>\n",
       "      <td>8</td>\n",
       "      <td>16</td>\n",
       "      <td>163</td>\n",
       "    </tr>\n",
       "  </tbody>\n",
       "</table>\n",
       "</div>"
      ],
      "text/plain": [
       "                  companyId  jobType  degree  major  industry  \\\n",
       "jobId                                                           \n",
       "JOB1362684407687         31        1       3      6         3   \n",
       "JOB1362684407688         11        0       2      7         6   \n",
       "JOB1362684407689         48        7       1      8         3   \n",
       "JOB1362684407690         32        5       1      2         0   \n",
       "JOB1362684407691         60        7       0      8         2   \n",
       "\n",
       "                  yearsExperience  milesFromMetropolis  salary  \n",
       "jobId                                                           \n",
       "JOB1362684407687               10                   83     130  \n",
       "JOB1362684407688                3                   73     101  \n",
       "JOB1362684407689               10                   38     137  \n",
       "JOB1362684407690                8                   17     142  \n",
       "JOB1362684407691                8                   16     163  "
      ]
     },
     "metadata": {},
     "output_type": "display_data"
    },
    {
     "name": "stdout",
     "output_type": "stream",
     "text": [
      "companyId             -0.007\n",
      "jobType               -0.232\n",
      "degree                -0.232\n",
      "major                 -0.265\n",
      "industry               0.081\n",
      "yearsExperience        0.374\n",
      "milesFromMetropolis   -0.299\n",
      "salary                 1.000\n",
      "Name: salary, dtype: float64\n"
     ]
    },
    {
     "data": {
      "text/plain": [
       "<AxesSubplot:>"
      ]
     },
     "execution_count": 28,
     "metadata": {},
     "output_type": "execute_result"
    },
    {
     "data": {
      "image/png": "[encoded data removed]",
      "text/plain": [
       "<Figure size 1080x720 with 2 Axes>"
      ]
     },
     "metadata": {
      "needs_background": "light"
     },
     "output_type": "display_data"
    }
   ],
   "source": [
    "example_set = train_df[:50000].copy()\n",
    "features = ['jobType', 'degree', 'major', 'industry', 'companyId']\n",
    "\n",
    "display(categorical_encoder(example_set, features)[0].head(5))\n",
    "\n",
    "correlation = categorical_encoder(example_set, features)[0].corr()\n",
    "print(correlation['salary'])\n",
    "\n",
    "plt.figure(figsize=(15, 10))\n",
    "sns.heatmap(correlation, annot=True, vmin=-1, cmap=\"RdBu_r\")"
   ]
  },
  {
   "cell_type": "markdown",
   "metadata": {},
   "source": [
    "With Label Encoder:\n",
    "1. No new feature\n",
    "2. Except companyId and industry, other features have good correlation with salary\n",
    "3. Except major and degree, other pairs of features are independent from each other\n",
    "\n",
    "This approach looks promissing! Let's see if we can lift the perfomance up a notch with custom Categorical Encoder.\n",
    "\n",
    "#### Category Average Salary Encoder\n",
    "This method uses the average salary to assign numerical values.\n",
    "1. No 0: I don't want to confuse or deactivate any category with 0\n",
    "2. Average salaries indicates the ranking of categories\n",
    "3. Average salaries are the same scale as salary\n",
    "4. Not only categorical columns, numerical columns (yearsExperience and milesFromMetropolis) can also be converted to average salary since there aren't many different unique numbers (0-24 years and 0-99 miles)"
   ]
  },
  {
   "cell_type": "code",
   "execution_count": 29,
   "metadata": {},
   "outputs": [],
   "source": [
    "# TODO: write a class instead: class RankFeatures:\n",
    "def average_salary_encoder(train, features, test=pd.DataFrame()):\n",
    "    for feature in features:\n",
    "        salary_dict = dict(train.groupby([feature]).salary.mean())\n",
    "        train[feature] = train[feature].map(salary_dict)\n",
    "        if test.any().any():\n",
    "            test[feature] = test[feature].map(salary_dict)\n",
    "\n",
    "    return train, test"
   ]
  },
  {
   "cell_type": "code",
   "execution_count": 30,
   "metadata": {},
   "outputs": [
    {
     "data": {
      "text/html": [
       "<div>\n",
       "<style scoped>\n",
       "    .dataframe tbody tr th:only-of-type {\n",
       "        vertical-align: middle;\n",
       "    }\n",
       "\n",
       "    .dataframe tbody tr th {\n",
       "        vertical-align: top;\n",
       "    }\n",
       "\n",
       "    .dataframe thead th {\n",
       "        text-align: right;\n",
       "    }\n",
       "</style>\n",
       "<table border=\"1\" class=\"dataframe\">\n",
       "  <thead>\n",
       "    <tr style=\"text-align: right;\">\n",
       "      <th></th>\n",
       "      <th>companyId</th>\n",
       "      <th>jobType</th>\n",
       "      <th>degree</th>\n",
       "      <th>major</th>\n",
       "      <th>industry</th>\n",
       "      <th>yearsExperience</th>\n",
       "      <th>milesFromMetropolis</th>\n",
       "      <th>salary</th>\n",
       "    </tr>\n",
       "    <tr>\n",
       "      <th>jobId</th>\n",
       "      <th></th>\n",
       "      <th></th>\n",
       "      <th></th>\n",
       "      <th></th>\n",
       "      <th></th>\n",
       "      <th></th>\n",
       "      <th></th>\n",
       "      <th></th>\n",
       "    </tr>\n",
       "  </thead>\n",
       "  <tbody>\n",
       "    <tr>\n",
       "      <th>JOB1362684407687</th>\n",
       "      <td>115.585</td>\n",
       "      <td>135.086</td>\n",
       "      <td>130.519</td>\n",
       "      <td>132.946</td>\n",
       "      <td>116.389</td>\n",
       "      <td>10</td>\n",
       "      <td>83</td>\n",
       "      <td>130</td>\n",
       "    </tr>\n",
       "    <tr>\n",
       "      <th>JOB1362684407688</th>\n",
       "      <td>114.863</td>\n",
       "      <td>145.338</td>\n",
       "      <td>101.544</td>\n",
       "      <td>102.470</td>\n",
       "      <td>120.974</td>\n",
       "      <td>3</td>\n",
       "      <td>73</td>\n",
       "      <td>101</td>\n",
       "    </tr>\n",
       "    <tr>\n",
       "      <th>JOB1362684407689</th>\n",
       "      <td>115.230</td>\n",
       "      <td>124.825</td>\n",
       "      <td>135.313</td>\n",
       "      <td>129.939</td>\n",
       "      <td>116.389</td>\n",
       "      <td>10</td>\n",
       "      <td>38</td>\n",
       "      <td>137</td>\n",
       "    </tr>\n",
       "    <tr>\n",
       "      <th>JOB1362684407690</th>\n",
       "      <td>115.229</td>\n",
       "      <td>114.445</td>\n",
       "      <td>135.313</td>\n",
       "      <td>129.139</td>\n",
       "      <td>109.767</td>\n",
       "      <td>8</td>\n",
       "      <td>17</td>\n",
       "      <td>142</td>\n",
       "    </tr>\n",
       "    <tr>\n",
       "      <th>JOB1362684407691</th>\n",
       "      <td>114.497</td>\n",
       "      <td>124.825</td>\n",
       "      <td>125.494</td>\n",
       "      <td>129.939</td>\n",
       "      <td>130.004</td>\n",
       "      <td>8</td>\n",
       "      <td>16</td>\n",
       "      <td>163</td>\n",
       "    </tr>\n",
       "  </tbody>\n",
       "</table>\n",
       "</div>"
      ],
      "text/plain": [
       "                  companyId  jobType   degree    major  industry  \\\n",
       "jobId                                                              \n",
       "JOB1362684407687    115.585  135.086  130.519  132.946   116.389   \n",
       "JOB1362684407688    114.863  145.338  101.544  102.470   120.974   \n",
       "JOB1362684407689    115.230  124.825  135.313  129.939   116.389   \n",
       "JOB1362684407690    115.229  114.445  135.313  129.139   109.767   \n",
       "JOB1362684407691    114.497  124.825  125.494  129.939   130.004   \n",
       "\n",
       "                  yearsExperience  milesFromMetropolis  salary  \n",
       "jobId                                                           \n",
       "JOB1362684407687               10                   83     130  \n",
       "JOB1362684407688                3                   73     101  \n",
       "JOB1362684407689               10                   38     137  \n",
       "JOB1362684407690                8                   17     142  \n",
       "JOB1362684407691                8                   16     163  "
      ]
     },
     "metadata": {},
     "output_type": "display_data"
    },
    {
     "name": "stdout",
     "output_type": "stream",
     "text": [
      "companyId              0.040\n",
      "jobType                0.597\n",
      "degree                 0.404\n",
      "major                  0.380\n",
      "industry               0.295\n",
      "yearsExperience        0.374\n",
      "milesFromMetropolis   -0.299\n",
      "salary                 1.000\n",
      "Name: salary, dtype: float64\n"
     ]
    },
    {
     "data": {
      "text/plain": [
       "<AxesSubplot:>"
      ]
     },
     "execution_count": 30,
     "metadata": {},
     "output_type": "execute_result"
    },
    {
     "data": {
      "image/png": "[encoded data removed]",
      "text/plain": [
       "<Figure size 1080x720 with 2 Axes>"
      ]
     },
     "metadata": {
      "needs_background": "light"
     },
     "output_type": "display_data"
    }
   ],
   "source": [
    "example_set = train_df[:50000].copy()\n",
    "features = ['jobType', 'degree', 'major', 'industry', 'companyId']\n",
    "\n",
    "display(average_salary_encoder(example_set, features)[0].head(5))\n",
    "\n",
    "correlation = average_salary_encoder(example_set, features)[0].corr()\n",
    "print(correlation.salary)\n",
    "\n",
    "plt.figure(figsize=(15, 10))\n",
    "sns.heatmap(correlation, annot=True, vmin=-1, cmap=\"RdBu_r\")"
   ]
  },
  {
   "cell_type": "markdown",
   "metadata": {},
   "source": [
    "From correlation matrix, we observe:\n",
    "1. Correlation matrix of custom Label Encoder looks like correlation matrix of Label Encoder but better\n",
    "2. Between Salary and other features, only companyId has low correlation with salary\n",
    "    * Consider removing companyId\n",
    "3. Between feature to feature, Major and Industry are highly correlated.\n",
    "    * Consider merging Major and Industry to avoid possible noise\n",
    "4. Between two features, pairs other than Major-Industry have low correlation, meaning two features are relatively independent from each other\n",
    "\n",
    "Thus makes it the plausible encoder for our case.\n",
    "\n",
    "## Engineer Feature\n",
    "Now we've selected our encoder, next is feature engineering. From the correlation matrix with average salary encoder, we see some potential options for feature selection:\n",
    "1. Group dependent features\n",
    "2. Drop companyId\n",
    "3. Add statistical values\n",
    "4. Remove outliers\n",
    "\n",
    "Following is the best feature engineering method I tried:"
   ]
  },
  {
   "cell_type": "code",
   "execution_count": 31,
   "metadata": {},
   "outputs": [],
   "source": [
    "def group_k_columns(train, features, col_name=\"group\", test=pd.DataFrame()):\n",
    "    group = train.groupby(features).salary\n",
    "    Q1 = group.quantile(0.25)\n",
    "    Q3 = group.quantile(0.75)\n",
    "    IQR = Q3 - Q1\n",
    "    upper_bound = Q3 + 1.5 * IQR\n",
    "    lower_bound = Q1 - 1.5 * IQR\n",
    "\n",
    "    salary_dictionaries = []\n",
    "#     salary_dictionaries.append(dict(lower_bound,    name = col_name + \"_lower\"))\n",
    "    salary_dictionaries.append(dict(group.min(),    name = col_name + \"_min\"))\n",
    "    salary_dictionaries.append(dict(Q1,             name = col_name + \"_Q1\"))\n",
    "    salary_dictionaries.append(dict(group.mean(),   name = col_name + \"_mean\"))\n",
    "    salary_dictionaries.append(dict(group.median(), name = col_name + \"_median\"))\n",
    "    salary_dictionaries.append(dict(Q3,             name = col_name + \"_Q3\"))\n",
    "    salary_dictionaries.append(dict(upper_bound,    name = col_name + \"_upper\"))\n",
    "    salary_dictionaries.append(dict(group.max(),    name = col_name + \"_max\"))\n",
    "    \n",
    "    for dictionary in salary_dictionaries:\n",
    "        salary = []\n",
    "        for index in train.index:\n",
    "            combination = tuple(train.loc[index, features])\n",
    "            salary.append(dictionary[combination])\n",
    "        train[dictionary['name']] = pd.Series(salary, index=train.index)\n",
    "\n",
    "        if test.any().any():\n",
    "            salary = []\n",
    "            for index in test.index:\n",
    "                combination = tuple(test.loc[index, features])\n",
    "                if combination in dictionary:\n",
    "                    salary.append(dictionary[combination])\n",
    "                else:\n",
    "                    salary.append(np.NaN)\n",
    "            salary_series = pd.Series(salary, index=test.index)\n",
    "            salary_series.fillna(salary_series.mean(), inplace=True)\n",
    "            test[dictionary['name']] = salary_series\n",
    "        \n",
    "    return train, test"
   ]
  },
  {
   "cell_type": "code",
   "execution_count": 32,
   "metadata": {},
   "outputs": [],
   "source": [
    "def feature_engineer(train, features, col_name, test=pd.DataFrame()):\n",
    "    train, test = average_salary_encoder(train, features, test)\n",
    "    train, test = group_k_columns(train, features, col_name, test)\n",
    "\n",
    "    return train, test"
   ]
  },
  {
   "cell_type": "markdown",
   "metadata": {},
   "source": [
    "Let's test the correlation after feature engineering:"
   ]
  },
  {
   "cell_type": "code",
   "execution_count": 33,
   "metadata": {},
   "outputs": [
    {
     "name": "stdout",
     "output_type": "stream",
     "text": [
      "companyId              0.008\n",
      "jobType                0.597\n",
      "degree                 0.401\n",
      "major                  0.379\n",
      "industry               0.297\n",
      "yearsExperience        0.375\n",
      "milesFromMetropolis   -0.298\n",
      "salary                 1.000\n",
      "CJDMI_min              0.698\n",
      "CJDMI_Q1               0.738\n",
      "CJDMI_mean             0.755\n",
      "CJDMI_median           0.744\n",
      "CJDMI_Q3               0.740\n",
      "CJDMI_upper            0.637\n",
      "CJDMI_max              0.587\n",
      "Name: salary, dtype: float64\n"
     ]
    },
    {
     "data": {
      "text/plain": [
       "<AxesSubplot:>"
      ]
     },
     "execution_count": 33,
     "metadata": {},
     "output_type": "execute_result"
    },
    {
     "data": {
      "image/png": "[encoded data removed]",
      "text/plain": [
       "<Figure size 1080x720 with 2 Axes>"
      ]
     },
     "metadata": {
      "needs_background": "light"
     },
     "output_type": "display_data"
    }
   ],
   "source": [
    "features = ['companyId', 'jobType', 'degree', 'major', 'industry']\n",
    "stat_col_name = 'CJDMI'\n",
    "correlation = feature_engineer(train_df.copy(deep=True), features, stat_col_name)[0].corr()\n",
    "\n",
    "print(correlation.salary)\n",
    "\n",
    "plt.figure(figsize=(15, 10))\n",
    "sns.heatmap(correlation, annot=True, vmin=-1, cmap=\"RdBu_r\")"
   ]
  },
  {
   "cell_type": "markdown",
   "metadata": {},
   "source": [
    "## Create Models\n",
    "Create multiple models and try scaling, tuning, and finally pick best model for prediction. Use MSE as performance metrics.\n",
    "### Baseline model\n",
    "Create a naive model and measure MSE as my performance metrics baseline. Here I use industry average salary as my baseline model."
   ]
  },
  {
   "cell_type": "code",
   "execution_count": 34,
   "metadata": {},
   "outputs": [
    {
     "name": "stdout",
     "output_type": "stream",
     "text": [
      "Baseline: MSE=1367.123\tMAE=29.672\n"
     ]
    }
   ],
   "source": [
    "industry_dict = dict(train_df.groupby(['industry']).salary.mean())\n",
    "baseline_true = train_df.salary.values.astype(float)\n",
    "baseline_pred = train_df.industry.map(industry_dict)\n",
    "\n",
    "mse = mean_squared_error(baseline_true, baseline_pred)\n",
    "mae = mean_absolute_error(baseline_true, baseline_pred)\n",
    "print(\"Baseline: MSE=%.3f\\tMAE=%.3f\" % (mse, mae))"
   ]
  },
  {
   "cell_type": "markdown",
   "metadata": {},
   "source": [
    "### Vanilla Regression and ensamble models\n",
    "Try vanilla models and pick couple of models with low MSE for further tuning."
   ]
  },
  {
   "cell_type": "code",
   "execution_count": 35,
   "metadata": {
    "scrolled": false
   },
   "outputs": [
    {
     "name": "stdout",
     "output_type": "stream",
     "text": [
      "LR:\tMSE=351.652\n"
     ]
    },
    {
     "name": "stderr",
     "output_type": "stream",
     "text": [
      "C:\\Users\\jenny\\anaconda3\\envs\\tf\\lib\\site-packages\\sklearn\\linear_model\\_coordinate_descent.py:531: ConvergenceWarning: Objective did not converge. You might want to increase the number of iterations. Duality gap: 125597.58765864372, tolerance: 119846.70566935067\n",
      "  positive)\n",
      "C:\\Users\\jenny\\anaconda3\\envs\\tf\\lib\\site-packages\\sklearn\\linear_model\\_coordinate_descent.py:531: ConvergenceWarning: Objective did not converge. You might want to increase the number of iterations. Duality gap: 123587.94905030727, tolerance: 119856.9693130074\n",
      "  positive)\n",
      "C:\\Users\\jenny\\anaconda3\\envs\\tf\\lib\\site-packages\\sklearn\\linear_model\\_coordinate_descent.py:531: ConvergenceWarning: Objective did not converge. You might want to increase the number of iterations. Duality gap: 123950.94189035892, tolerance: 119845.16673019736\n",
      "  positive)\n",
      "C:\\Users\\jenny\\anaconda3\\envs\\tf\\lib\\site-packages\\sklearn\\linear_model\\_coordinate_descent.py:531: ConvergenceWarning: Objective did not converge. You might want to increase the number of iterations. Duality gap: 125965.00002032518, tolerance: 120016.28268610571\n",
      "  positive)\n",
      "C:\\Users\\jenny\\anaconda3\\envs\\tf\\lib\\site-packages\\sklearn\\linear_model\\_coordinate_descent.py:531: ConvergenceWarning: Objective did not converge. You might want to increase the number of iterations. Duality gap: 124745.13211017847, tolerance: 120038.47293181217\n",
      "  positive)\n"
     ]
    },
    {
     "name": "stdout",
     "output_type": "stream",
     "text": [
      "LASSO:\tMSE=351.725\n"
     ]
    },
    {
     "name": "stderr",
     "output_type": "stream",
     "text": [
      "C:\\Users\\jenny\\anaconda3\\envs\\tf\\lib\\site-packages\\sklearn\\linear_model\\_coordinate_descent.py:531: ConvergenceWarning: Objective did not converge. You might want to increase the number of iterations. Duality gap: 217740.87890934944, tolerance: 119846.70566935067\n",
      "  positive)\n",
      "C:\\Users\\jenny\\anaconda3\\envs\\tf\\lib\\site-packages\\sklearn\\linear_model\\_coordinate_descent.py:531: ConvergenceWarning: Objective did not converge. You might want to increase the number of iterations. Duality gap: 224161.04614531994, tolerance: 119856.9693130074\n",
      "  positive)\n",
      "C:\\Users\\jenny\\anaconda3\\envs\\tf\\lib\\site-packages\\sklearn\\linear_model\\_coordinate_descent.py:531: ConvergenceWarning: Objective did not converge. You might want to increase the number of iterations. Duality gap: 203609.82840883732, tolerance: 119845.16673019736\n",
      "  positive)\n",
      "C:\\Users\\jenny\\anaconda3\\envs\\tf\\lib\\site-packages\\sklearn\\linear_model\\_coordinate_descent.py:531: ConvergenceWarning: Objective did not converge. You might want to increase the number of iterations. Duality gap: 211571.49242258072, tolerance: 120016.28268610571\n",
      "  positive)\n",
      "C:\\Users\\jenny\\anaconda3\\envs\\tf\\lib\\site-packages\\sklearn\\linear_model\\_coordinate_descent.py:531: ConvergenceWarning: Objective did not converge. You might want to increase the number of iterations. Duality gap: 216453.89820116758, tolerance: 120038.47293181217\n",
      "  positive)\n"
     ]
    },
    {
     "name": "stdout",
     "output_type": "stream",
     "text": [
      "EN:\tMSE=351.727\n",
      "CART:\tMSE=652.002\n",
      "AB:\tMSE=455.022\n",
      "GBR:\tMSE=328.327\n",
      "RF:\tMSE=337.152\n",
      "ET:\tMSE=343.122\n"
     ]
    }
   ],
   "source": [
    "features = ['companyId', 'jobType', 'degree', 'major', 'industry']\n",
    "stat_col_name = 'CJDMI'\n",
    "train = feature_engineer(train_df.copy(), features, stat_col_name)[0]\n",
    "\n",
    "model_list = [('LR', LinearRegression()),\n",
    "              ('LASSO', Lasso()), \n",
    "              ('EN', ElasticNet()), \n",
    "              ('CART', DecisionTreeRegressor()),\n",
    "              ## Boosting\n",
    "              ('AB', AdaBoostRegressor()), \n",
    "              ('GBR', GradientBoostingRegressor()), \n",
    "              ## Bagging\n",
    "              ('RF', RandomForestRegressor()), \n",
    "              ('ET', ExtraTreesRegressor())]\n",
    "\n",
    "for name, model in model_list:\n",
    "    scores = sklearn.model_selection.cross_val_score(model, train.drop(columns='salary'), train.salary, scoring='neg_mean_squared_error')\n",
    "    print(\"%s:\\tMSE=%.3f\" % (name, -1.0 * np.mean(scores)))"
   ]
  },
  {
   "cell_type": "markdown",
   "metadata": {},
   "source": [
    "Ensemble models performs better in general, and GradientBoostingRegressor performs the best. Besides GradientBoostingRegressor, pick couple other models that have low MSE: RandomForestRegressor, ExtraTreesRegressor, and LinearRegression. Tune hyperparameters and try other adjustments to improve performance.\n",
    "\n",
    "### Scaling"
   ]
  },
  {
   "cell_type": "code",
   "execution_count": 36,
   "metadata": {},
   "outputs": [
    {
     "name": "stdout",
     "output_type": "stream",
     "text": [
      "scaledLR:\tMSE=351.652\n",
      "scaledRF:\tMSE=337.228\n",
      "scaledGBR:\tMSE=328.327\n",
      "scaledET:\tMSE=343.046\n"
     ]
    }
   ],
   "source": [
    "train = feature_engineer(train_df.copy(), ['companyId', 'jobType', 'degree', 'major', 'industry'], 'CJDMI')[0]\n",
    "\n",
    "model_list = [(\"scaledLR\",  Pipeline([(\"Scaler\", StandardScaler()), (\"LR\",  LinearRegression())])),\n",
    "              (\"scaledRF\",  Pipeline([(\"Scaler\", StandardScaler()), (\"RF\",  RandomForestRegressor())])),\n",
    "              (\"scaledGBR\", Pipeline([(\"Scaler\", StandardScaler()), (\"GBR\", GradientBoostingRegressor())])),\n",
    "              (\"scaledET\",  Pipeline([(\"Scaler\", StandardScaler()), (\"ET\",  ExtraTreesRegressor())]))]\n",
    "\n",
    "for name, model in model_list:\n",
    "    scores = sklearn.model_selection.cross_val_score(model, train.drop(columns='salary'), train.salary, scoring='neg_mean_squared_error')\n",
    "    print(\"%s:\\tMSE=%.3f\" % (name, -1.0 * np.mean(scores)))"
   ]
  },
  {
   "cell_type": "markdown",
   "metadata": {},
   "source": [
    "Standardize the data doesn't improve the performance. Let's try tuning hyperparameters.\n",
    "\n",
    "### Grid Searching\n",
    "Use grid search to find best hyperparameters\n",
    "#### Random Forest Regressor"
   ]
  },
  {
   "cell_type": "code",
   "execution_count": 37,
   "metadata": {
    "scrolled": true
   },
   "outputs": [
    {
     "name": "stdout",
     "output_type": "stream",
     "text": [
      "(50, 10, 8.000):\tMSE=320.327\n",
      "companyId\t0.000023\n",
      "jobType\t0.000127\n",
      "degree\t0.000823\n",
      "major\t0.000188\n",
      "industry\t0.000092\n",
      "yearsExperience\t0.151778\n",
      "milesFromMetropolis\t0.099487\n",
      "CJDMI_min\t0.023643\n",
      "CJDMI_Q1\t0.057633\n",
      "CJDMI_mean\t0.394215\n",
      "CJDMI_median\t0.185675\n",
      "CJDMI_Q3\t0.074135\n",
      "CJDMI_upper\t0.001242\n",
      "CJDMI_max\t0.010942\n",
      "\n",
      "(50, 10, 10.000):\tMSE=319.456\n",
      "companyId\t0.000014\n",
      "jobType\t0.000089\n",
      "degree\t0.001032\n",
      "major\t0.000203\n",
      "industry\t0.000067\n",
      "yearsExperience\t0.153183\n",
      "milesFromMetropolis\t0.100387\n",
      "CJDMI_min\t0.014919\n",
      "CJDMI_Q1\t0.032470\n",
      "CJDMI_mean\t0.470877\n",
      "CJDMI_median\t0.179294\n",
      "CJDMI_Q3\t0.034171\n",
      "CJDMI_upper\t0.000745\n",
      "CJDMI_max\t0.012547\n",
      "\n",
      "(50, 15, 8.000):\tMSE=314.822\n",
      "companyId\t0.003951\n",
      "jobType\t0.003181\n",
      "degree\t0.002165\n",
      "major\t0.002002\n",
      "industry\t0.002202\n",
      "yearsExperience\t0.148456\n",
      "milesFromMetropolis\t0.102563\n",
      "CJDMI_min\t0.013592\n",
      "CJDMI_Q1\t0.055020\n",
      "CJDMI_mean\t0.373997\n",
      "CJDMI_median\t0.153008\n",
      "CJDMI_Q3\t0.116578\n",
      "CJDMI_upper\t0.006294\n",
      "CJDMI_max\t0.016992\n",
      "\n",
      "(50, 15, 10.000):\tMSE=315.063\n",
      "companyId\t0.004202\n",
      "jobType\t0.002301\n",
      "degree\t0.002396\n",
      "major\t0.001999\n",
      "industry\t0.002062\n",
      "yearsExperience\t0.148191\n",
      "milesFromMetropolis\t0.102364\n",
      "CJDMI_min\t0.011512\n",
      "CJDMI_Q1\t0.037992\n",
      "CJDMI_mean\t0.522180\n",
      "CJDMI_median\t0.119815\n",
      "CJDMI_Q3\t0.020783\n",
      "CJDMI_upper\t0.006148\n",
      "CJDMI_max\t0.018054\n",
      "\n",
      "(100, 10, 8.000):\tMSE=320.158\n",
      "companyId\t0.000016\n",
      "jobType\t0.000620\n",
      "degree\t0.000803\n",
      "major\t0.000193\n",
      "industry\t0.000104\n",
      "yearsExperience\t0.151984\n",
      "milesFromMetropolis\t0.099354\n",
      "CJDMI_min\t0.007462\n",
      "CJDMI_Q1\t0.049171\n",
      "CJDMI_mean\t0.434193\n",
      "CJDMI_median\t0.190860\n",
      "CJDMI_Q3\t0.053135\n",
      "CJDMI_upper\t0.001240\n",
      "CJDMI_max\t0.010866\n",
      "\n",
      "(100, 10, 10.000):\tMSE=319.206\n",
      "companyId\t0.000018\n",
      "jobType\t0.000099\n",
      "degree\t0.001032\n",
      "major\t0.000216\n",
      "industry\t0.000086\n",
      "yearsExperience\t0.152482\n",
      "milesFromMetropolis\t0.100982\n",
      "CJDMI_min\t0.006567\n",
      "CJDMI_Q1\t0.041143\n",
      "CJDMI_mean\t0.521159\n",
      "CJDMI_median\t0.130491\n",
      "CJDMI_Q3\t0.032962\n",
      "CJDMI_upper\t0.000777\n",
      "CJDMI_max\t0.011986\n",
      "\n",
      "(100, 15, 8.000):\tMSE=314.159\n",
      "companyId\t0.003936\n",
      "jobType\t0.002230\n",
      "degree\t0.002153\n",
      "major\t0.002004\n",
      "industry\t0.002003\n",
      "yearsExperience\t0.148985\n",
      "milesFromMetropolis\t0.102194\n",
      "CJDMI_min\t0.019684\n",
      "CJDMI_Q1\t0.048501\n",
      "CJDMI_mean\t0.414001\n",
      "CJDMI_median\t0.171322\n",
      "CJDMI_Q3\t0.059833\n",
      "CJDMI_upper\t0.006443\n",
      "CJDMI_max\t0.016709\n",
      "\n",
      "(100, 15, 10.000):\tMSE=314.235\n",
      "companyId\t0.004202\n",
      "jobType\t0.002306\n",
      "degree\t0.002404\n",
      "major\t0.001972\n",
      "industry\t0.002077\n",
      "yearsExperience\t0.148330\n",
      "milesFromMetropolis\t0.102439\n",
      "CJDMI_min\t0.011430\n",
      "CJDMI_Q1\t0.050312\n",
      "CJDMI_mean\t0.451375\n",
      "CJDMI_median\t0.147933\n",
      "CJDMI_Q3\t0.051207\n",
      "CJDMI_upper\t0.006052\n",
      "CJDMI_max\t0.017960\n",
      "\n",
      "(200, 10, 8.000):\tMSE=319.970\n",
      "companyId\t0.000018\n",
      "jobType\t0.000381\n",
      "degree\t0.000684\n",
      "major\t0.000219\n",
      "industry\t0.000114\n",
      "yearsExperience\t0.151976\n",
      "milesFromMetropolis\t0.099490\n",
      "CJDMI_min\t0.010287\n",
      "CJDMI_Q1\t0.049496\n",
      "CJDMI_mean\t0.398635\n",
      "CJDMI_median\t0.197390\n",
      "CJDMI_Q3\t0.075769\n",
      "CJDMI_upper\t0.004985\n",
      "CJDMI_max\t0.010553\n",
      "\n",
      "(200, 10, 10.000):\tMSE=319.052\n",
      "companyId\t0.000016\n",
      "jobType\t0.000096\n",
      "degree\t0.001045\n",
      "major\t0.000204\n",
      "industry\t0.000080\n",
      "yearsExperience\t0.152541\n",
      "milesFromMetropolis\t0.101054\n",
      "CJDMI_min\t0.008404\n",
      "CJDMI_Q1\t0.041124\n",
      "CJDMI_mean\t0.519458\n",
      "CJDMI_median\t0.125807\n",
      "CJDMI_Q3\t0.037022\n",
      "CJDMI_upper\t0.000790\n",
      "CJDMI_max\t0.012360\n",
      "\n",
      "(200, 15, 8.000):\tMSE=313.741\n",
      "companyId\t0.003954\n",
      "jobType\t0.002224\n",
      "degree\t0.002131\n",
      "major\t0.002005\n",
      "industry\t0.002007\n",
      "yearsExperience\t0.149104\n",
      "milesFromMetropolis\t0.102069\n",
      "CJDMI_min\t0.014155\n",
      "CJDMI_Q1\t0.049695\n",
      "CJDMI_mean\t0.419113\n",
      "CJDMI_median\t0.179313\n",
      "CJDMI_Q3\t0.049333\n",
      "CJDMI_upper\t0.008149\n",
      "CJDMI_max\t0.016748\n",
      "\n",
      "(200, 15, 10.000):\tMSE=313.910\n",
      "companyId\t0.004207\n",
      "jobType\t0.002301\n",
      "degree\t0.002378\n",
      "major\t0.002003\n",
      "industry\t0.002061\n",
      "yearsExperience\t0.148071\n",
      "milesFromMetropolis\t0.102433\n",
      "CJDMI_min\t0.011300\n",
      "CJDMI_Q1\t0.037623\n",
      "CJDMI_mean\t0.483998\n",
      "CJDMI_median\t0.145020\n",
      "CJDMI_Q3\t0.034453\n",
      "CJDMI_upper\t0.006064\n",
      "CJDMI_max\t0.018088\n",
      "\n"
     ]
    }
   ],
   "source": [
    "train = feature_engineer(train_df.copy(), ['companyId', 'jobType', 'degree', 'major', 'industry'], 'CJDMI')[0]\n",
    "\n",
    "for n_est in [50, 100, 200]:\n",
    "    for depth in [10, 15]:\n",
    "        for features in [8, 10]:        \n",
    "            model = RandomForestRegressor(n_estimators=n_est, max_depth=depth, max_features=features)\n",
    "            scores = sklearn.model_selection.cross_val_score(model, train.drop(columns='salary'), train.salary, scoring='neg_mean_squared_error')\n",
    "            print(\"(%d, %s, %.3f):\\tMSE=%.3f\" % (n_est, depth, features, -1.0 * np.mean(scores)))\n",
    "\n",
    "            model.fit(train.drop(columns='salary'), train.salary)\n",
    "            feature_importance = model.feature_importances_\n",
    "            for i in range(len(feature_importance)):\n",
    "                print(\"%s\\t%.6f\" % (train.drop(columns='salary').columns[i], feature_importance[i]))\n",
    "            print()    "
   ]
  },
  {
   "cell_type": "markdown",
   "metadata": {},
   "source": [
    "Although MSE still decreases with n_estimators, but it'll take too long to train so I'm taking MSE=313.741 as best score from model RandomForestRegressor(n_estimators=200, max_depth=15, max_features=8)."
   ]
  },
  {
   "cell_type": "markdown",
   "metadata": {},
   "source": [
    "#### Gradient Boosting Regressor"
   ]
  },
  {
   "cell_type": "code",
   "execution_count": 39,
   "metadata": {
    "scrolled": true
   },
   "outputs": [
    {
     "name": "stdout",
     "output_type": "stream",
     "text": [
      "(50, ls, 8.000):\tMSE=308.098\n",
      "companyId\t0.000063\n",
      "jobType\t0.003245\n",
      "degree\t0.002764\n",
      "major\t0.000816\n",
      "industry\t0.001763\n",
      "yearsExperience\t0.152174\n",
      "milesFromMetropolis\t0.104708\n",
      "CJDMI_min\t0.008659\n",
      "CJDMI_Q1\t0.032319\n",
      "CJDMI_mean\t0.661125\n",
      "CJDMI_median\t0.006515\n",
      "CJDMI_Q3\t0.007942\n",
      "CJDMI_upper\t0.001570\n",
      "CJDMI_max\t0.016336\n",
      "\n",
      "(50, ls, 15.000):\tMSE=332.870\n",
      "companyId\t0.009975\n",
      "jobType\t0.005010\n",
      "degree\t0.004186\n",
      "major\t0.003961\n",
      "industry\t0.004867\n",
      "yearsExperience\t0.142077\n",
      "milesFromMetropolis\t0.107928\n",
      "CJDMI_min\t0.014775\n",
      "CJDMI_Q1\t0.041291\n",
      "CJDMI_mean\t0.598602\n",
      "CJDMI_median\t0.014368\n",
      "CJDMI_Q3\t0.016763\n",
      "CJDMI_upper\t0.011810\n",
      "CJDMI_max\t0.024387\n",
      "\n",
      "(50, huber, 8.000):\tMSE=309.350\n",
      "companyId\t0.000043\n",
      "jobType\t0.003173\n",
      "degree\t0.001934\n",
      "major\t0.000618\n",
      "industry\t0.001596\n",
      "yearsExperience\t0.150124\n",
      "milesFromMetropolis\t0.101087\n",
      "CJDMI_min\t0.010961\n",
      "CJDMI_Q1\t0.035688\n",
      "CJDMI_mean\t0.669086\n",
      "CJDMI_median\t0.009203\n",
      "CJDMI_Q3\t0.008246\n",
      "CJDMI_upper\t0.001630\n",
      "CJDMI_max\t0.006610\n",
      "\n",
      "(50, huber, 15.000):\tMSE=332.962\n",
      "companyId\t0.009856\n",
      "jobType\t0.004890\n",
      "degree\t0.003474\n",
      "major\t0.003669\n",
      "industry\t0.004597\n",
      "yearsExperience\t0.140050\n",
      "milesFromMetropolis\t0.104860\n",
      "CJDMI_min\t0.015891\n",
      "CJDMI_Q1\t0.044448\n",
      "CJDMI_mean\t0.608057\n",
      "CJDMI_median\t0.017025\n",
      "CJDMI_Q3\t0.015578\n",
      "CJDMI_upper\t0.011322\n",
      "CJDMI_max\t0.016284\n",
      "\n",
      "(100, ls, 8.000):\tMSE=306.792\n",
      "companyId\t0.000221\n",
      "jobType\t0.003601\n",
      "degree\t0.002906\n",
      "major\t0.001065\n",
      "industry\t0.002077\n",
      "yearsExperience\t0.151995\n",
      "milesFromMetropolis\t0.104973\n",
      "CJDMI_min\t0.008940\n",
      "CJDMI_Q1\t0.032568\n",
      "CJDMI_mean\t0.658095\n",
      "CJDMI_median\t0.006771\n",
      "CJDMI_Q3\t0.008138\n",
      "CJDMI_upper\t0.001924\n",
      "CJDMI_max\t0.016725\n",
      "\n",
      "(100, ls, 15.000):\tMSE=343.058\n",
      "companyId\t0.011958\n",
      "jobType\t0.005324\n",
      "degree\t0.004388\n",
      "major\t0.004425\n",
      "industry\t0.005269\n",
      "yearsExperience\t0.142135\n",
      "milesFromMetropolis\t0.111047\n",
      "CJDMI_min\t0.016281\n",
      "CJDMI_Q1\t0.042048\n",
      "CJDMI_mean\t0.583578\n",
      "CJDMI_median\t0.015737\n",
      "CJDMI_Q3\t0.017841\n",
      "CJDMI_upper\t0.013795\n",
      "CJDMI_max\t0.026174\n",
      "\n",
      "(100, huber, 8.000):\tMSE=307.931\n",
      "companyId\t0.000173\n",
      "jobType\t0.003410\n",
      "degree\t0.002113\n",
      "major\t0.000855\n",
      "industry\t0.001868\n",
      "yearsExperience\t0.149996\n",
      "milesFromMetropolis\t0.101374\n",
      "CJDMI_min\t0.011201\n",
      "CJDMI_Q1\t0.035883\n",
      "CJDMI_mean\t0.666188\n",
      "CJDMI_median\t0.009477\n",
      "CJDMI_Q3\t0.008430\n",
      "CJDMI_upper\t0.001974\n",
      "CJDMI_max\t0.007058\n",
      "\n",
      "(100, huber, 15.000):\tMSE=343.806\n",
      "companyId\t0.011720\n",
      "jobType\t0.005106\n",
      "degree\t0.003750\n",
      "major\t0.004154\n",
      "industry\t0.004919\n",
      "yearsExperience\t0.140165\n",
      "milesFromMetropolis\t0.107732\n",
      "CJDMI_min\t0.017159\n",
      "CJDMI_Q1\t0.044971\n",
      "CJDMI_mean\t0.593650\n",
      "CJDMI_median\t0.018598\n",
      "CJDMI_Q3\t0.016770\n",
      "CJDMI_upper\t0.013267\n",
      "CJDMI_max\t0.018037\n",
      "\n",
      "(200, ls, 8.000):\tMSE=307.801\n",
      "companyId\t0.000510\n",
      "jobType\t0.003710\n",
      "degree\t0.002948\n",
      "major\t0.001203\n",
      "industry\t0.002303\n",
      "yearsExperience\t0.152004\n",
      "milesFromMetropolis\t0.105685\n",
      "CJDMI_min\t0.009235\n",
      "CJDMI_Q1\t0.032731\n",
      "CJDMI_mean\t0.654653\n",
      "CJDMI_median\t0.007153\n",
      "CJDMI_Q3\t0.008394\n",
      "CJDMI_upper\t0.002383\n",
      "CJDMI_max\t0.017091\n",
      "\n",
      "(200, ls, 15.000):\tMSE=353.473\n",
      "companyId\t0.013388\n",
      "jobType\t0.005578\n",
      "degree\t0.004690\n",
      "major\t0.004816\n",
      "industry\t0.005658\n",
      "yearsExperience\t0.142431\n",
      "milesFromMetropolis\t0.113612\n",
      "CJDMI_min\t0.017375\n",
      "CJDMI_Q1\t0.042545\n",
      "CJDMI_mean\t0.571919\n",
      "CJDMI_median\t0.016845\n",
      "CJDMI_Q3\t0.018683\n",
      "CJDMI_upper\t0.015303\n",
      "CJDMI_max\t0.027156\n",
      "\n",
      "(200, huber, 8.000):\tMSE=308.909\n",
      "companyId\t0.000486\n",
      "jobType\t0.003542\n",
      "degree\t0.002192\n",
      "major\t0.001016\n",
      "industry\t0.002072\n",
      "yearsExperience\t0.149762\n",
      "milesFromMetropolis\t0.101944\n",
      "CJDMI_min\t0.011579\n",
      "CJDMI_Q1\t0.036039\n",
      "CJDMI_mean\t0.662373\n",
      "CJDMI_median\t0.009939\n",
      "CJDMI_Q3\t0.008796\n",
      "CJDMI_upper\t0.002543\n",
      "CJDMI_max\t0.007718\n",
      "\n",
      "(200, huber, 15.000):\tMSE=356.387\n",
      "companyId\t0.013445\n",
      "jobType\t0.005480\n",
      "degree\t0.004184\n",
      "major\t0.004688\n",
      "industry\t0.005483\n",
      "yearsExperience\t0.139998\n",
      "milesFromMetropolis\t0.110733\n",
      "CJDMI_min\t0.018477\n",
      "CJDMI_Q1\t0.045538\n",
      "CJDMI_mean\t0.580128\n",
      "CJDMI_median\t0.019521\n",
      "CJDMI_Q3\t0.017843\n",
      "CJDMI_upper\t0.014956\n",
      "CJDMI_max\t0.019525\n",
      "\n"
     ]
    }
   ],
   "source": [
    "train = feature_engineer(train_df.copy(), ['companyId', 'jobType', 'degree', 'major', 'industry'], 'CJDMI')[0]\n",
    "\n",
    "for n_est in [50, 100, 200]:\n",
    "    for loss in ['ls', 'huber']:\n",
    "        for depth in [8, 15]:\n",
    "            model = GradientBoostingRegressor(n_estimators=n_est, loss=loss, max_depth=depth)\n",
    "            scores = sklearn.model_selection.cross_val_score(model, train.drop(columns='salary'), train.salary, scoring='neg_mean_squared_error')\n",
    "            print(\"(%d, %s, %.3f):\\tMSE=%.3f\" % (n_est, loss, depth, -1.0 * np.mean(scores)))\n",
    "\n",
    "            model.fit(train.drop(columns='salary'), train.salary)\n",
    "            feature_importance = model.feature_importances_\n",
    "            for i in range(len(feature_importance)):\n",
    "                print(\"%s\\t%.6f\" % (train.drop(columns='salary').columns[i], feature_importance[i]))\n",
    "            print()"
   ]
  },
  {
   "cell_type": "markdown",
   "metadata": {},
   "source": [
    "In general:\n",
    "* n_estimators=100 < n_estimators=200 < n_estimators=50\n",
    "* loss='ls' MSE < loss='huber' MSE\n",
    "* max_depth=8 MSE < max_depth=15\n",
    "\n",
    "And the best model is GradientBoostingRegressor(n_estimators=100, loss='ls', max_depth=8) with MSE=306.792, and also the best model compare to RandomForesetRegressor."
   ]
  },
  {
   "cell_type": "markdown",
   "metadata": {},
   "source": [
    "## Deploy solution"
   ]
  },
  {
   "cell_type": "code",
   "execution_count": 88,
   "metadata": {},
   "outputs": [],
   "source": [
    "train, test = feature_engineer(train_df.copy(), ['companyId', 'jobType', 'degree', 'major', 'industry'], 'CJDMI', test_df.copy())\n",
    "\n",
    "model = GradientBoostingRegressor(n_estimators=100, loss='ls', max_depth=8)\n",
    "model.fit(train.drop(columns='salary'), train.salary)\n",
    "test_pred = model.predict(test).round(3)\n",
    "test_final = pd.DataFrame(test_pred, index=test_df.index, columns=['salary'])\n",
    "test_final.to_csv(\"test_salaries_prediction.csv\")"
   ]
  },
  {
   "cell_type": "code",
   "execution_count": null,
   "metadata": {},
   "outputs": [],
   "source": []
  }
 ],
 "metadata": {
  "kernelspec": {
   "display_name": "Python 3",
   "language": "python",
   "name": "python3"
  },
  "language_info": {
   "codemirror_mode": {
    "name": "ipython",
    "version": 3
   },
   "file_extension": ".py",
   "mimetype": "text/x-python",
   "name": "python",
   "nbconvert_exporter": "python",
   "pygments_lexer": "ipython3",
   "version": "3.7.9"
  }
 },
 "nbformat": 4,
 "nbformat_minor": 4
}
